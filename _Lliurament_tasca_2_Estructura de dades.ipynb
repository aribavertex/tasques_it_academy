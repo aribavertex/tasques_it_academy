{
 "cells": [
  {
   "cell_type": "markdown",
   "metadata": {},
   "source": [
    "# Exercici 1"
   ]
  },
  {
   "cell_type": "code",
   "execution_count": 1,
   "metadata": {
    "ExecuteTime": {
     "end_time": "2021-04-13T17:56:34.900984Z",
     "start_time": "2021-04-13T17:56:34.869736Z"
    }
   },
   "outputs": [],
   "source": [
    "mesos_x_trimestre = [['gener', 'febrer', 'març'], ['abril', 'maig', 'juny'], ['juliol', 'agost', 'setembre'],['octubre', 'novembre', 'desembre']]"
   ]
  },
  {
   "cell_type": "markdown",
   "metadata": {},
   "source": [
    "# Exercici 2"
   ]
  },
  {
   "cell_type": "code",
   "execution_count": 2,
   "metadata": {
    "ExecuteTime": {
     "end_time": "2021-04-13T17:56:34.916607Z",
     "start_time": "2021-04-13T17:56:34.900984Z"
    }
   },
   "outputs": [
    {
     "name": "stdout",
     "output_type": "stream",
     "text": [
      "febrer\n",
      "['gener', 'febrer', 'març']\n",
      "setembre i octubre\n"
     ]
    }
   ],
   "source": [
    "# Primer apartat\n",
    "print (mesos_x_trimestre[0][1])\n",
    "\n",
    "# Segon apartat\n",
    "print (mesos_x_trimestre[0])\n",
    "\n",
    "# Tercer apartat\n",
    "if ('setembre' and 'octubre') in (mesos_x_trimestre[2] and mesos_x_trimestre[3]): print ('setembre i octubre')"
   ]
  },
  {
   "cell_type": "markdown",
   "metadata": {},
   "source": [
    "# Exercici 3"
   ]
  },
  {
   "cell_type": "code",
   "execution_count": 3,
   "metadata": {
    "ExecuteTime": {
     "end_time": "2021-04-13T17:56:34.947856Z",
     "start_time": "2021-04-13T17:56:34.916607Z"
    }
   },
   "outputs": [
    {
     "name": "stdout",
     "output_type": "stream",
     "text": [
      "Hi ha 16 elements a la llista\n",
      "El número 3 es repeteix 2 vegades\n",
      "El número 3 apareix 2 vegades i el 4 apareix 3\n",
      "El valor máxim es 14\n",
      "El valor mínim es 1\n",
      "El segon mínim es 2\n",
      "El tercer mínim es 3\n",
      "El rang de valors és de 11\n"
     ]
    }
   ],
   "source": [
    "numeros = [8, 9, 3, 5, 2, 4, 10, 7, 6, 1, 3, 4, 11, 4, 12, 14]\n",
    "\n",
    "# Primer apartat\n",
    "print ('Hi ha {} elements a la llista'.format(len(numeros)))\n",
    "\n",
    "# Segon apartat\n",
    "print ('El número 3 es repeteix {} vegades'.format(numeros.count(3)))\n",
    "\n",
    "# Tercer apartat\n",
    "print ('El número 3 apareix {0} vegades i el 4 apareix {1}'.format(numeros.count(3),str(numeros.count(4))))\n",
    "\n",
    "# Quart apartat\n",
    "print ('El valor máxim es {}'.format(max(numeros)))\n",
    "\n",
    "# Cinqué apartat\n",
    "numeros_nova = numeros\n",
    "print ('El valor mínim es {}'.format(min(numeros_nova)))\n",
    "numeros_nova.remove(min(numeros_nova))\n",
    "print ('El segon mínim es {}'.format(min(numeros_nova)))\n",
    "numeros_nova.remove(min(numeros_nova))\n",
    "print ('El tercer mínim es {}'.format(min(numeros_nova)))\n",
    "\n",
    "# Sisé apartat\n",
    "print ('El rang de valors és de {}'.format(max(numeros)-min(numeros)))"
   ]
  },
  {
   "cell_type": "markdown",
   "metadata": {},
   "source": [
    "# Exercici 4"
   ]
  },
  {
   "cell_type": "code",
   "execution_count": 4,
   "metadata": {
    "ExecuteTime": {
     "end_time": "2021-04-13T17:56:34.969993Z",
     "start_time": "2021-04-13T17:56:34.947856Z"
    }
   },
   "outputs": [
    {
     "name": "stdout",
     "output_type": "stream",
     "text": [
      "{'Pomes': {'Qty': 5, '€': 0.42}, 'Peres': {'Qty': 3, '€': 0.66}, 'Pressecs': {'Qty': 6, '€': 0.89}}\n",
      "Les peres han costat 1.98 €\n",
      "Hem comprat 14 fruites en total\n",
      "La fruita més cara son els/les Pressecs amb un preu de 0.89 €\n"
     ]
    }
   ],
   "source": [
    "compra = {\"Pomes\" : {\"Qty\": 5, \"€\": 0.42}, \"Peres\" : {\"Qty\": 3, \"€\": 0.66}}\n",
    "\n",
    "# Primer apartat\n",
    "compra[\"Pressecs\"] = {\"Qty\": 6, \"€\": 0.89}\n",
    "print (compra)\n",
    "\n",
    "# Segon apartat\n",
    "print ('Les peres han costat {} €'.format(compra[\"Peres\"][\"Qty\"]*compra[\"Peres\"][\"€\"]))\n",
    "\n",
    "# Tercer apartat\n",
    "print ('Hem comprat {} fruites en total'.format(compra[\"Pomes\"][\"Qty\"]+compra[\"Peres\"][\"Qty\"]+compra[\"Pressecs\"][\"Qty\"]))\n",
    "\n",
    "# Quart apartat\n",
    "keys_compra = list(compra.keys())\n",
    "maxim = 0\n",
    "for key in keys_compra:\n",
    "    if compra[key][\"€\"]>maxim:\n",
    "        maxim = compra[key][\"€\"]\n",
    "print ('La fruita més cara son els/les {} amb un preu de {} €'.format(key, compra[key][\"€\"]))"
   ]
  },
  {
   "cell_type": "code",
   "execution_count": null,
   "metadata": {},
   "outputs": [],
   "source": []
  }
 ],
 "metadata": {
  "kernelspec": {
   "display_name": "Python 3",
   "language": "python",
   "name": "python3"
  },
  "language_info": {
   "codemirror_mode": {
    "name": "ipython",
    "version": 3
   },
   "file_extension": ".py",
   "mimetype": "text/x-python",
   "name": "python",
   "nbconvert_exporter": "python",
   "pygments_lexer": "ipython3",
   "version": "3.8.5"
  },
  "latex_envs": {
   "LaTeX_envs_menu_present": true,
   "autoclose": false,
   "autocomplete": true,
   "bibliofile": "biblio.bib",
   "cite_by": "apalike",
   "current_citInitial": 1,
   "eqLabelWithNumbers": true,
   "eqNumInitial": 1,
   "hotkeys": {
    "equation": "Ctrl-E",
    "itemize": "Ctrl-I"
   },
   "labels_anchors": false,
   "latex_user_defs": false,
   "report_style_numbering": false,
   "user_envs_cfg": false
  }
 },
 "nbformat": 4,
 "nbformat_minor": 4
}
