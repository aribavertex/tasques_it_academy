{
 "cells": [
  {
   "cell_type": "code",
   "execution_count": 1,
   "metadata": {
    "ExecuteTime": {
     "end_time": "2021-07-03T10:23:16.294594Z",
     "start_time": "2021-07-03T10:23:14.192029Z"
    }
   },
   "outputs": [],
   "source": [
    "import pandas as pd\n",
    "import numpy as np\n",
    "\n",
    "from sklearn.model_selection import train_test_split\n",
    "from sklearn.preprocessing import MinMaxScaler\n",
    "from sklearn.linear_model import LogisticRegression\n",
    "from sklearn.model_selection import cross_val_score\n",
    "from sklearn import metrics\n",
    "from sklearn.metrics import classification_report, confusion_matrix\n",
    "from sklearn.neural_network import MLPClassifier\n",
    "from sklearn.model_selection import GridSearchCV\n",
    "from sklearn import preprocessing\n",
    "\n",
    "import xgboost as xgb\n",
    "from sklearn import svm\n",
    "\n",
    "pd.set_option('display.max_columns', None)"
   ]
  },
  {
   "cell_type": "code",
   "execution_count": 2,
   "metadata": {
    "ExecuteTime": {
     "end_time": "2021-07-03T10:23:22.526022Z",
     "start_time": "2021-07-03T10:23:16.296593Z"
    }
   },
   "outputs": [
    {
     "data": {
      "text/html": [
       "<div>\n",
       "<style scoped>\n",
       "    .dataframe tbody tr th:only-of-type {\n",
       "        vertical-align: middle;\n",
       "    }\n",
       "\n",
       "    .dataframe tbody tr th {\n",
       "        vertical-align: top;\n",
       "    }\n",
       "\n",
       "    .dataframe thead th {\n",
       "        text-align: right;\n",
       "    }\n",
       "</style>\n",
       "<table border=\"1\" class=\"dataframe\">\n",
       "  <thead>\n",
       "    <tr style=\"text-align: right;\">\n",
       "      <th></th>\n",
       "      <th>Unnamed: 0</th>\n",
       "      <th>Year</th>\n",
       "      <th>Month</th>\n",
       "      <th>DayofMonth</th>\n",
       "      <th>DayOfWeek</th>\n",
       "      <th>DepTime</th>\n",
       "      <th>CRSDepTime</th>\n",
       "      <th>ArrTime</th>\n",
       "      <th>CRSArrTime</th>\n",
       "      <th>UniqueCarrier</th>\n",
       "      <th>FlightNum</th>\n",
       "      <th>TailNum</th>\n",
       "      <th>ActualElapsedTime</th>\n",
       "      <th>CRSElapsedTime</th>\n",
       "      <th>AirTime</th>\n",
       "      <th>ArrDelay</th>\n",
       "      <th>DepDelay</th>\n",
       "      <th>Origin</th>\n",
       "      <th>Dest</th>\n",
       "      <th>Distance</th>\n",
       "      <th>TaxiIn</th>\n",
       "      <th>TaxiOut</th>\n",
       "      <th>Cancelled</th>\n",
       "      <th>CancellationCode</th>\n",
       "      <th>Diverted</th>\n",
       "      <th>CarrierDelay</th>\n",
       "      <th>WeatherDelay</th>\n",
       "      <th>NASDelay</th>\n",
       "      <th>SecurityDelay</th>\n",
       "      <th>LateAircraftDelay</th>\n",
       "    </tr>\n",
       "  </thead>\n",
       "  <tbody>\n",
       "    <tr>\n",
       "      <th>0</th>\n",
       "      <td>0</td>\n",
       "      <td>2008</td>\n",
       "      <td>1</td>\n",
       "      <td>3</td>\n",
       "      <td>4</td>\n",
       "      <td>2003.0</td>\n",
       "      <td>1955</td>\n",
       "      <td>2211.0</td>\n",
       "      <td>2225</td>\n",
       "      <td>WN</td>\n",
       "      <td>335</td>\n",
       "      <td>N712SW</td>\n",
       "      <td>128.0</td>\n",
       "      <td>150.0</td>\n",
       "      <td>116.0</td>\n",
       "      <td>-14.0</td>\n",
       "      <td>8.0</td>\n",
       "      <td>IAD</td>\n",
       "      <td>TPA</td>\n",
       "      <td>810</td>\n",
       "      <td>4.0</td>\n",
       "      <td>8.0</td>\n",
       "      <td>0</td>\n",
       "      <td>N</td>\n",
       "      <td>0</td>\n",
       "      <td>NaN</td>\n",
       "      <td>NaN</td>\n",
       "      <td>NaN</td>\n",
       "      <td>NaN</td>\n",
       "      <td>NaN</td>\n",
       "    </tr>\n",
       "    <tr>\n",
       "      <th>1</th>\n",
       "      <td>1</td>\n",
       "      <td>2008</td>\n",
       "      <td>1</td>\n",
       "      <td>3</td>\n",
       "      <td>4</td>\n",
       "      <td>754.0</td>\n",
       "      <td>735</td>\n",
       "      <td>1002.0</td>\n",
       "      <td>1000</td>\n",
       "      <td>WN</td>\n",
       "      <td>3231</td>\n",
       "      <td>N772SW</td>\n",
       "      <td>128.0</td>\n",
       "      <td>145.0</td>\n",
       "      <td>113.0</td>\n",
       "      <td>2.0</td>\n",
       "      <td>19.0</td>\n",
       "      <td>IAD</td>\n",
       "      <td>TPA</td>\n",
       "      <td>810</td>\n",
       "      <td>5.0</td>\n",
       "      <td>10.0</td>\n",
       "      <td>0</td>\n",
       "      <td>N</td>\n",
       "      <td>0</td>\n",
       "      <td>NaN</td>\n",
       "      <td>NaN</td>\n",
       "      <td>NaN</td>\n",
       "      <td>NaN</td>\n",
       "      <td>NaN</td>\n",
       "    </tr>\n",
       "    <tr>\n",
       "      <th>2</th>\n",
       "      <td>2</td>\n",
       "      <td>2008</td>\n",
       "      <td>1</td>\n",
       "      <td>3</td>\n",
       "      <td>4</td>\n",
       "      <td>628.0</td>\n",
       "      <td>620</td>\n",
       "      <td>804.0</td>\n",
       "      <td>750</td>\n",
       "      <td>WN</td>\n",
       "      <td>448</td>\n",
       "      <td>N428WN</td>\n",
       "      <td>96.0</td>\n",
       "      <td>90.0</td>\n",
       "      <td>76.0</td>\n",
       "      <td>14.0</td>\n",
       "      <td>8.0</td>\n",
       "      <td>IND</td>\n",
       "      <td>BWI</td>\n",
       "      <td>515</td>\n",
       "      <td>3.0</td>\n",
       "      <td>17.0</td>\n",
       "      <td>0</td>\n",
       "      <td>N</td>\n",
       "      <td>0</td>\n",
       "      <td>NaN</td>\n",
       "      <td>NaN</td>\n",
       "      <td>NaN</td>\n",
       "      <td>NaN</td>\n",
       "      <td>NaN</td>\n",
       "    </tr>\n",
       "    <tr>\n",
       "      <th>3</th>\n",
       "      <td>4</td>\n",
       "      <td>2008</td>\n",
       "      <td>1</td>\n",
       "      <td>3</td>\n",
       "      <td>4</td>\n",
       "      <td>1829.0</td>\n",
       "      <td>1755</td>\n",
       "      <td>1959.0</td>\n",
       "      <td>1925</td>\n",
       "      <td>WN</td>\n",
       "      <td>3920</td>\n",
       "      <td>N464WN</td>\n",
       "      <td>90.0</td>\n",
       "      <td>90.0</td>\n",
       "      <td>77.0</td>\n",
       "      <td>34.0</td>\n",
       "      <td>34.0</td>\n",
       "      <td>IND</td>\n",
       "      <td>BWI</td>\n",
       "      <td>515</td>\n",
       "      <td>3.0</td>\n",
       "      <td>10.0</td>\n",
       "      <td>0</td>\n",
       "      <td>N</td>\n",
       "      <td>0</td>\n",
       "      <td>2.0</td>\n",
       "      <td>0.0</td>\n",
       "      <td>0.0</td>\n",
       "      <td>0.0</td>\n",
       "      <td>32.0</td>\n",
       "    </tr>\n",
       "    <tr>\n",
       "      <th>4</th>\n",
       "      <td>5</td>\n",
       "      <td>2008</td>\n",
       "      <td>1</td>\n",
       "      <td>3</td>\n",
       "      <td>4</td>\n",
       "      <td>1940.0</td>\n",
       "      <td>1915</td>\n",
       "      <td>2121.0</td>\n",
       "      <td>2110</td>\n",
       "      <td>WN</td>\n",
       "      <td>378</td>\n",
       "      <td>N726SW</td>\n",
       "      <td>101.0</td>\n",
       "      <td>115.0</td>\n",
       "      <td>87.0</td>\n",
       "      <td>11.0</td>\n",
       "      <td>25.0</td>\n",
       "      <td>IND</td>\n",
       "      <td>JAX</td>\n",
       "      <td>688</td>\n",
       "      <td>4.0</td>\n",
       "      <td>10.0</td>\n",
       "      <td>0</td>\n",
       "      <td>N</td>\n",
       "      <td>0</td>\n",
       "      <td>NaN</td>\n",
       "      <td>NaN</td>\n",
       "      <td>NaN</td>\n",
       "      <td>NaN</td>\n",
       "      <td>NaN</td>\n",
       "    </tr>\n",
       "  </tbody>\n",
       "</table>\n",
       "</div>"
      ],
      "text/plain": [
       "   Unnamed: 0  Year  Month  DayofMonth  DayOfWeek  DepTime  CRSDepTime  \\\n",
       "0           0  2008      1           3          4   2003.0        1955   \n",
       "1           1  2008      1           3          4    754.0         735   \n",
       "2           2  2008      1           3          4    628.0         620   \n",
       "3           4  2008      1           3          4   1829.0        1755   \n",
       "4           5  2008      1           3          4   1940.0        1915   \n",
       "\n",
       "   ArrTime  CRSArrTime UniqueCarrier  FlightNum TailNum  ActualElapsedTime  \\\n",
       "0   2211.0        2225            WN        335  N712SW              128.0   \n",
       "1   1002.0        1000            WN       3231  N772SW              128.0   \n",
       "2    804.0         750            WN        448  N428WN               96.0   \n",
       "3   1959.0        1925            WN       3920  N464WN               90.0   \n",
       "4   2121.0        2110            WN        378  N726SW              101.0   \n",
       "\n",
       "   CRSElapsedTime  AirTime  ArrDelay  DepDelay Origin Dest  Distance  TaxiIn  \\\n",
       "0           150.0    116.0     -14.0       8.0    IAD  TPA       810     4.0   \n",
       "1           145.0    113.0       2.0      19.0    IAD  TPA       810     5.0   \n",
       "2            90.0     76.0      14.0       8.0    IND  BWI       515     3.0   \n",
       "3            90.0     77.0      34.0      34.0    IND  BWI       515     3.0   \n",
       "4           115.0     87.0      11.0      25.0    IND  JAX       688     4.0   \n",
       "\n",
       "   TaxiOut  Cancelled CancellationCode  Diverted  CarrierDelay  WeatherDelay  \\\n",
       "0      8.0          0                N         0           NaN           NaN   \n",
       "1     10.0          0                N         0           NaN           NaN   \n",
       "2     17.0          0                N         0           NaN           NaN   \n",
       "3     10.0          0                N         0           2.0           0.0   \n",
       "4     10.0          0                N         0           NaN           NaN   \n",
       "\n",
       "   NASDelay  SecurityDelay  LateAircraftDelay  \n",
       "0       NaN            NaN                NaN  \n",
       "1       NaN            NaN                NaN  \n",
       "2       NaN            NaN                NaN  \n",
       "3       0.0            0.0               32.0  \n",
       "4       NaN            NaN                NaN  "
      ]
     },
     "execution_count": 2,
     "metadata": {},
     "output_type": "execute_result"
    }
   ],
   "source": [
    "# Cárrega de la base de dades\n",
    "db_vols = pd.read_csv('H:\\_vertex\\_formacio\\_python - cibernarium\\_12\\DelayedFlights.csv')\n",
    "\n",
    "# Donar estils a les taules\n",
    "db_vols.style.set_table_styles([{'selector' : '','props' : [('border','5px solid green')]}])\n",
    "\n",
    "db_vols.head()"
   ]
  },
  {
   "cell_type": "code",
   "execution_count": 3,
   "metadata": {
    "ExecuteTime": {
     "end_time": "2021-07-03T10:23:22.716701Z",
     "start_time": "2021-07-03T10:23:22.529021Z"
    }
   },
   "outputs": [],
   "source": [
    "# Faig una cópia per evitar de reexecutar tantes vegades \n",
    "vols = db_vols.copy()"
   ]
  },
  {
   "cell_type": "code",
   "execution_count": 4,
   "metadata": {
    "ExecuteTime": {
     "end_time": "2021-07-03T10:23:23.225168Z",
     "start_time": "2021-07-03T10:23:22.718459Z"
    }
   },
   "outputs": [
    {
     "data": {
      "text/html": [
       "<div>\n",
       "<style scoped>\n",
       "    .dataframe tbody tr th:only-of-type {\n",
       "        vertical-align: middle;\n",
       "    }\n",
       "\n",
       "    .dataframe tbody tr th {\n",
       "        vertical-align: top;\n",
       "    }\n",
       "\n",
       "    .dataframe thead th {\n",
       "        text-align: right;\n",
       "    }\n",
       "</style>\n",
       "<table border=\"1\" class=\"dataframe\">\n",
       "  <thead>\n",
       "    <tr style=\"text-align: right;\">\n",
       "      <th></th>\n",
       "      <th>Year</th>\n",
       "      <th>Month</th>\n",
       "      <th>DayofMonth</th>\n",
       "      <th>DayOfWeek</th>\n",
       "      <th>DepTime</th>\n",
       "      <th>CRSDepTime</th>\n",
       "      <th>ArrTime</th>\n",
       "      <th>CRSArrTime</th>\n",
       "      <th>UniqueCarrier</th>\n",
       "      <th>FlightNum</th>\n",
       "      <th>TailNum</th>\n",
       "      <th>ActualElapsedTime</th>\n",
       "      <th>CRSElapsedTime</th>\n",
       "      <th>AirTime</th>\n",
       "      <th>ArrDelay</th>\n",
       "      <th>DepDelay</th>\n",
       "      <th>Origin</th>\n",
       "      <th>Dest</th>\n",
       "      <th>Distance</th>\n",
       "      <th>TaxiIn</th>\n",
       "      <th>TaxiOut</th>\n",
       "      <th>Cancelled</th>\n",
       "      <th>CancellationCode</th>\n",
       "      <th>Diverted</th>\n",
       "      <th>CarrierDelay</th>\n",
       "      <th>WeatherDelay</th>\n",
       "      <th>NASDelay</th>\n",
       "      <th>SecurityDelay</th>\n",
       "      <th>LateAircraftDelay</th>\n",
       "    </tr>\n",
       "    <tr>\n",
       "      <th>id</th>\n",
       "      <th></th>\n",
       "      <th></th>\n",
       "      <th></th>\n",
       "      <th></th>\n",
       "      <th></th>\n",
       "      <th></th>\n",
       "      <th></th>\n",
       "      <th></th>\n",
       "      <th></th>\n",
       "      <th></th>\n",
       "      <th></th>\n",
       "      <th></th>\n",
       "      <th></th>\n",
       "      <th></th>\n",
       "      <th></th>\n",
       "      <th></th>\n",
       "      <th></th>\n",
       "      <th></th>\n",
       "      <th></th>\n",
       "      <th></th>\n",
       "      <th></th>\n",
       "      <th></th>\n",
       "      <th></th>\n",
       "      <th></th>\n",
       "      <th></th>\n",
       "      <th></th>\n",
       "      <th></th>\n",
       "      <th></th>\n",
       "      <th></th>\n",
       "    </tr>\n",
       "  </thead>\n",
       "  <tbody>\n",
       "    <tr>\n",
       "      <th>0</th>\n",
       "      <td>2008</td>\n",
       "      <td>1</td>\n",
       "      <td>3</td>\n",
       "      <td>4</td>\n",
       "      <td>2003.0</td>\n",
       "      <td>1955</td>\n",
       "      <td>2211.0</td>\n",
       "      <td>2225</td>\n",
       "      <td>WN</td>\n",
       "      <td>335</td>\n",
       "      <td>N712SW</td>\n",
       "      <td>128.0</td>\n",
       "      <td>150.0</td>\n",
       "      <td>116.0</td>\n",
       "      <td>-14.0</td>\n",
       "      <td>8.0</td>\n",
       "      <td>IAD</td>\n",
       "      <td>TPA</td>\n",
       "      <td>810</td>\n",
       "      <td>4.0</td>\n",
       "      <td>8.0</td>\n",
       "      <td>0</td>\n",
       "      <td>N</td>\n",
       "      <td>0</td>\n",
       "      <td>NaN</td>\n",
       "      <td>NaN</td>\n",
       "      <td>NaN</td>\n",
       "      <td>NaN</td>\n",
       "      <td>NaN</td>\n",
       "    </tr>\n",
       "    <tr>\n",
       "      <th>1</th>\n",
       "      <td>2008</td>\n",
       "      <td>1</td>\n",
       "      <td>3</td>\n",
       "      <td>4</td>\n",
       "      <td>754.0</td>\n",
       "      <td>735</td>\n",
       "      <td>1002.0</td>\n",
       "      <td>1000</td>\n",
       "      <td>WN</td>\n",
       "      <td>3231</td>\n",
       "      <td>N772SW</td>\n",
       "      <td>128.0</td>\n",
       "      <td>145.0</td>\n",
       "      <td>113.0</td>\n",
       "      <td>2.0</td>\n",
       "      <td>19.0</td>\n",
       "      <td>IAD</td>\n",
       "      <td>TPA</td>\n",
       "      <td>810</td>\n",
       "      <td>5.0</td>\n",
       "      <td>10.0</td>\n",
       "      <td>0</td>\n",
       "      <td>N</td>\n",
       "      <td>0</td>\n",
       "      <td>NaN</td>\n",
       "      <td>NaN</td>\n",
       "      <td>NaN</td>\n",
       "      <td>NaN</td>\n",
       "      <td>NaN</td>\n",
       "    </tr>\n",
       "    <tr>\n",
       "      <th>2</th>\n",
       "      <td>2008</td>\n",
       "      <td>1</td>\n",
       "      <td>3</td>\n",
       "      <td>4</td>\n",
       "      <td>628.0</td>\n",
       "      <td>620</td>\n",
       "      <td>804.0</td>\n",
       "      <td>750</td>\n",
       "      <td>WN</td>\n",
       "      <td>448</td>\n",
       "      <td>N428WN</td>\n",
       "      <td>96.0</td>\n",
       "      <td>90.0</td>\n",
       "      <td>76.0</td>\n",
       "      <td>14.0</td>\n",
       "      <td>8.0</td>\n",
       "      <td>IND</td>\n",
       "      <td>BWI</td>\n",
       "      <td>515</td>\n",
       "      <td>3.0</td>\n",
       "      <td>17.0</td>\n",
       "      <td>0</td>\n",
       "      <td>N</td>\n",
       "      <td>0</td>\n",
       "      <td>NaN</td>\n",
       "      <td>NaN</td>\n",
       "      <td>NaN</td>\n",
       "      <td>NaN</td>\n",
       "      <td>NaN</td>\n",
       "    </tr>\n",
       "    <tr>\n",
       "      <th>4</th>\n",
       "      <td>2008</td>\n",
       "      <td>1</td>\n",
       "      <td>3</td>\n",
       "      <td>4</td>\n",
       "      <td>1829.0</td>\n",
       "      <td>1755</td>\n",
       "      <td>1959.0</td>\n",
       "      <td>1925</td>\n",
       "      <td>WN</td>\n",
       "      <td>3920</td>\n",
       "      <td>N464WN</td>\n",
       "      <td>90.0</td>\n",
       "      <td>90.0</td>\n",
       "      <td>77.0</td>\n",
       "      <td>34.0</td>\n",
       "      <td>34.0</td>\n",
       "      <td>IND</td>\n",
       "      <td>BWI</td>\n",
       "      <td>515</td>\n",
       "      <td>3.0</td>\n",
       "      <td>10.0</td>\n",
       "      <td>0</td>\n",
       "      <td>N</td>\n",
       "      <td>0</td>\n",
       "      <td>2.0</td>\n",
       "      <td>0.0</td>\n",
       "      <td>0.0</td>\n",
       "      <td>0.0</td>\n",
       "      <td>32.0</td>\n",
       "    </tr>\n",
       "    <tr>\n",
       "      <th>5</th>\n",
       "      <td>2008</td>\n",
       "      <td>1</td>\n",
       "      <td>3</td>\n",
       "      <td>4</td>\n",
       "      <td>1940.0</td>\n",
       "      <td>1915</td>\n",
       "      <td>2121.0</td>\n",
       "      <td>2110</td>\n",
       "      <td>WN</td>\n",
       "      <td>378</td>\n",
       "      <td>N726SW</td>\n",
       "      <td>101.0</td>\n",
       "      <td>115.0</td>\n",
       "      <td>87.0</td>\n",
       "      <td>11.0</td>\n",
       "      <td>25.0</td>\n",
       "      <td>IND</td>\n",
       "      <td>JAX</td>\n",
       "      <td>688</td>\n",
       "      <td>4.0</td>\n",
       "      <td>10.0</td>\n",
       "      <td>0</td>\n",
       "      <td>N</td>\n",
       "      <td>0</td>\n",
       "      <td>NaN</td>\n",
       "      <td>NaN</td>\n",
       "      <td>NaN</td>\n",
       "      <td>NaN</td>\n",
       "      <td>NaN</td>\n",
       "    </tr>\n",
       "  </tbody>\n",
       "</table>\n",
       "</div>"
      ],
      "text/plain": [
       "    Year  Month  DayofMonth  DayOfWeek  DepTime  CRSDepTime  ArrTime  \\\n",
       "id                                                                     \n",
       "0   2008      1           3          4   2003.0        1955   2211.0   \n",
       "1   2008      1           3          4    754.0         735   1002.0   \n",
       "2   2008      1           3          4    628.0         620    804.0   \n",
       "4   2008      1           3          4   1829.0        1755   1959.0   \n",
       "5   2008      1           3          4   1940.0        1915   2121.0   \n",
       "\n",
       "    CRSArrTime UniqueCarrier  FlightNum TailNum  ActualElapsedTime  \\\n",
       "id                                                                   \n",
       "0         2225            WN        335  N712SW              128.0   \n",
       "1         1000            WN       3231  N772SW              128.0   \n",
       "2          750            WN        448  N428WN               96.0   \n",
       "4         1925            WN       3920  N464WN               90.0   \n",
       "5         2110            WN        378  N726SW              101.0   \n",
       "\n",
       "    CRSElapsedTime  AirTime  ArrDelay  DepDelay Origin Dest  Distance  TaxiIn  \\\n",
       "id                                                                              \n",
       "0            150.0    116.0     -14.0       8.0    IAD  TPA       810     4.0   \n",
       "1            145.0    113.0       2.0      19.0    IAD  TPA       810     5.0   \n",
       "2             90.0     76.0      14.0       8.0    IND  BWI       515     3.0   \n",
       "4             90.0     77.0      34.0      34.0    IND  BWI       515     3.0   \n",
       "5            115.0     87.0      11.0      25.0    IND  JAX       688     4.0   \n",
       "\n",
       "    TaxiOut  Cancelled CancellationCode  Diverted  CarrierDelay  WeatherDelay  \\\n",
       "id                                                                              \n",
       "0       8.0          0                N         0           NaN           NaN   \n",
       "1      10.0          0                N         0           NaN           NaN   \n",
       "2      17.0          0                N         0           NaN           NaN   \n",
       "4      10.0          0                N         0           2.0           0.0   \n",
       "5      10.0          0                N         0           NaN           NaN   \n",
       "\n",
       "    NASDelay  SecurityDelay  LateAircraftDelay  \n",
       "id                                              \n",
       "0        NaN            NaN                NaN  \n",
       "1        NaN            NaN                NaN  \n",
       "2        NaN            NaN                NaN  \n",
       "4        0.0            0.0               32.0  \n",
       "5        NaN            NaN                NaN  "
      ]
     },
     "execution_count": 4,
     "metadata": {},
     "output_type": "execute_result"
    }
   ],
   "source": [
    "# Eliminar columna anomenada Unnamed: 0\n",
    "vols = vols.rename(columns={\"Unnamed: 0\": \"id\"})\n",
    "\n",
    "# Fixar com a index la columna id\n",
    "vols = vols.set_index('id')\n",
    "\n",
    "# Elimina la columna index\n",
    "#vols.drop('index', axis='columns', inplace=True)\n",
    "\n",
    "vols.head()"
   ]
  },
  {
   "cell_type": "code",
   "execution_count": 5,
   "metadata": {
    "ExecuteTime": {
     "end_time": "2021-07-03T10:23:23.241158Z",
     "start_time": "2021-07-03T10:23:23.230166Z"
    }
   },
   "outputs": [
    {
     "data": {
      "text/plain": [
       "(1936758, 29)"
      ]
     },
     "execution_count": 5,
     "metadata": {},
     "output_type": "execute_result"
    }
   ],
   "source": [
    "# Mida del dataframe\n",
    "vols.shape"
   ]
  },
  {
   "cell_type": "code",
   "execution_count": 6,
   "metadata": {
    "ExecuteTime": {
     "end_time": "2021-07-03T10:23:23.800987Z",
     "start_time": "2021-07-03T10:23:23.244156Z"
    }
   },
   "outputs": [
    {
     "data": {
      "text/plain": [
       "Year                      0\n",
       "Month                     0\n",
       "DayofMonth                0\n",
       "DayOfWeek                 0\n",
       "DepTime                   0\n",
       "CRSDepTime                0\n",
       "ArrTime                7110\n",
       "CRSArrTime                0\n",
       "UniqueCarrier             0\n",
       "FlightNum                 0\n",
       "TailNum                   5\n",
       "ActualElapsedTime      8387\n",
       "CRSElapsedTime          198\n",
       "AirTime                8387\n",
       "ArrDelay               8387\n",
       "DepDelay                  0\n",
       "Origin                    0\n",
       "Dest                      0\n",
       "Distance                  0\n",
       "TaxiIn                 7110\n",
       "TaxiOut                 455\n",
       "Cancelled                 0\n",
       "CancellationCode          0\n",
       "Diverted                  0\n",
       "CarrierDelay         689270\n",
       "WeatherDelay         689270\n",
       "NASDelay             689270\n",
       "SecurityDelay        689270\n",
       "LateAircraftDelay    689270\n",
       "dtype: int64"
      ]
     },
     "execution_count": 6,
     "metadata": {},
     "output_type": "execute_result"
    }
   ],
   "source": [
    "# Fer cop d'ull als valors NULL\n",
    "vols.isna().sum()"
   ]
  },
  {
   "cell_type": "code",
   "execution_count": 7,
   "metadata": {
    "ExecuteTime": {
     "end_time": "2021-07-03T10:23:24.180765Z",
     "start_time": "2021-07-03T10:23:23.822972Z"
    }
   },
   "outputs": [],
   "source": [
    "# Elimino les columnes amb tants valors NULL\n",
    "vols = vols.drop(['CarrierDelay', 'WeatherDelay', 'NASDelay', 'SecurityDelay', 'LateAircraftDelay'], axis=1)"
   ]
  },
  {
   "cell_type": "code",
   "execution_count": 8,
   "metadata": {
    "ExecuteTime": {
     "end_time": "2021-07-03T10:23:25.178698Z",
     "start_time": "2021-07-03T10:23:24.185763Z"
    }
   },
   "outputs": [
    {
     "data": {
      "text/plain": [
       "Year                    0\n",
       "Month                   0\n",
       "DayofMonth              0\n",
       "DayOfWeek               0\n",
       "DepTime                 0\n",
       "CRSDepTime              0\n",
       "ArrTime              7110\n",
       "CRSArrTime              0\n",
       "UniqueCarrier           0\n",
       "FlightNum               0\n",
       "TailNum                 5\n",
       "ActualElapsedTime    8387\n",
       "CRSElapsedTime        198\n",
       "AirTime              8387\n",
       "ArrDelay             8387\n",
       "DepDelay                0\n",
       "Origin                  0\n",
       "Dest                    0\n",
       "Distance                0\n",
       "TaxiIn               7110\n",
       "TaxiOut               455\n",
       "Cancelled               0\n",
       "CancellationCode        0\n",
       "Diverted                0\n",
       "dtype: int64"
      ]
     },
     "execution_count": 8,
     "metadata": {},
     "output_type": "execute_result"
    }
   ],
   "source": [
    "# Comprobació de que efectivamnent s'han eliminat aquestes columnes\n",
    "vols.isna().sum()"
   ]
  },
  {
   "cell_type": "code",
   "execution_count": 9,
   "metadata": {
    "ExecuteTime": {
     "end_time": "2021-07-03T10:23:27.419917Z",
     "start_time": "2021-07-03T10:23:25.184694Z"
    }
   },
   "outputs": [
    {
     "data": {
      "text/plain": [
       "Year                 0\n",
       "Month                0\n",
       "DayofMonth           0\n",
       "DayOfWeek            0\n",
       "DepTime              0\n",
       "CRSDepTime           0\n",
       "ArrTime              0\n",
       "CRSArrTime           0\n",
       "UniqueCarrier        0\n",
       "FlightNum            0\n",
       "TailNum              0\n",
       "ActualElapsedTime    0\n",
       "CRSElapsedTime       0\n",
       "AirTime              0\n",
       "ArrDelay             0\n",
       "DepDelay             0\n",
       "Origin               0\n",
       "Dest                 0\n",
       "Distance             0\n",
       "TaxiIn               0\n",
       "TaxiOut              0\n",
       "Cancelled            0\n",
       "CancellationCode     0\n",
       "Diverted             0\n",
       "dtype: int64"
      ]
     },
     "execution_count": 9,
     "metadata": {},
     "output_type": "execute_result"
    }
   ],
   "source": [
    "# Potser fora convenient eliminar les files amb dades amb valor NULL\n",
    "vols = vols.dropna(axis=0, how='any')\n",
    "vols.isna().sum()"
   ]
  },
  {
   "cell_type": "code",
   "execution_count": 10,
   "metadata": {
    "ExecuteTime": {
     "end_time": "2021-07-03T10:23:27.450898Z",
     "start_time": "2021-07-03T10:23:27.423914Z"
    }
   },
   "outputs": [
    {
     "data": {
      "text/plain": [
       "(1928368, 24)"
      ]
     },
     "execution_count": 10,
     "metadata": {},
     "output_type": "execute_result"
    }
   ],
   "source": [
    "# Mida nova del dataframe\n",
    "vols.shape"
   ]
  },
  {
   "cell_type": "code",
   "execution_count": 11,
   "metadata": {
    "ExecuteTime": {
     "end_time": "2021-07-03T10:23:29.374464Z",
     "start_time": "2021-07-03T10:23:27.454896Z"
    }
   },
   "outputs": [
    {
     "data": {
      "text/html": [
       "<div>\n",
       "<style scoped>\n",
       "    .dataframe tbody tr th:only-of-type {\n",
       "        vertical-align: middle;\n",
       "    }\n",
       "\n",
       "    .dataframe tbody tr th {\n",
       "        vertical-align: top;\n",
       "    }\n",
       "\n",
       "    .dataframe thead th {\n",
       "        text-align: right;\n",
       "    }\n",
       "</style>\n",
       "<table border=\"1\" class=\"dataframe\">\n",
       "  <thead>\n",
       "    <tr style=\"text-align: right;\">\n",
       "      <th></th>\n",
       "      <th>UniqueCarrier</th>\n",
       "      <th>TailNum</th>\n",
       "      <th>Origin</th>\n",
       "      <th>Dest</th>\n",
       "      <th>CancellationCode</th>\n",
       "    </tr>\n",
       "  </thead>\n",
       "  <tbody>\n",
       "    <tr>\n",
       "      <th>count</th>\n",
       "      <td>1928368</td>\n",
       "      <td>1928368</td>\n",
       "      <td>1928368</td>\n",
       "      <td>1928368</td>\n",
       "      <td>1928368</td>\n",
       "    </tr>\n",
       "    <tr>\n",
       "      <th>unique</th>\n",
       "      <td>20</td>\n",
       "      <td>5360</td>\n",
       "      <td>303</td>\n",
       "      <td>302</td>\n",
       "      <td>1</td>\n",
       "    </tr>\n",
       "    <tr>\n",
       "      <th>top</th>\n",
       "      <td>WN</td>\n",
       "      <td>N325SW</td>\n",
       "      <td>ATL</td>\n",
       "      <td>ORD</td>\n",
       "      <td>N</td>\n",
       "    </tr>\n",
       "    <tr>\n",
       "      <th>freq</th>\n",
       "      <td>376201</td>\n",
       "      <td>961</td>\n",
       "      <td>131213</td>\n",
       "      <td>108265</td>\n",
       "      <td>1928368</td>\n",
       "    </tr>\n",
       "  </tbody>\n",
       "</table>\n",
       "</div>"
      ],
      "text/plain": [
       "       UniqueCarrier  TailNum   Origin     Dest CancellationCode\n",
       "count        1928368  1928368  1928368  1928368          1928368\n",
       "unique            20     5360      303      302                1\n",
       "top               WN   N325SW      ATL      ORD                N\n",
       "freq          376201      961   131213   108265          1928368"
      ]
     },
     "execution_count": 11,
     "metadata": {},
     "output_type": "execute_result"
    }
   ],
   "source": [
    "# Estadístics de resum de cada columna categórica\n",
    "vols.describe(include='object')"
   ]
  },
  {
   "cell_type": "code",
   "execution_count": 12,
   "metadata": {
    "ExecuteTime": {
     "end_time": "2021-07-03T10:23:30.629845Z",
     "start_time": "2021-07-03T10:23:29.377462Z"
    }
   },
   "outputs": [
    {
     "data": {
      "text/html": [
       "<div>\n",
       "<style scoped>\n",
       "    .dataframe tbody tr th:only-of-type {\n",
       "        vertical-align: middle;\n",
       "    }\n",
       "\n",
       "    .dataframe tbody tr th {\n",
       "        vertical-align: top;\n",
       "    }\n",
       "\n",
       "    .dataframe thead th {\n",
       "        text-align: right;\n",
       "    }\n",
       "</style>\n",
       "<table border=\"1\" class=\"dataframe\">\n",
       "  <thead>\n",
       "    <tr style=\"text-align: right;\">\n",
       "      <th></th>\n",
       "      <th>Year</th>\n",
       "      <th>Month</th>\n",
       "      <th>DayofMonth</th>\n",
       "      <th>DayOfWeek</th>\n",
       "      <th>DepTime</th>\n",
       "      <th>CRSDepTime</th>\n",
       "      <th>ArrTime</th>\n",
       "      <th>CRSArrTime</th>\n",
       "      <th>FlightNum</th>\n",
       "      <th>ActualElapsedTime</th>\n",
       "      <th>CRSElapsedTime</th>\n",
       "      <th>AirTime</th>\n",
       "      <th>ArrDelay</th>\n",
       "      <th>DepDelay</th>\n",
       "      <th>Distance</th>\n",
       "      <th>TaxiIn</th>\n",
       "      <th>TaxiOut</th>\n",
       "      <th>Cancelled</th>\n",
       "      <th>Diverted</th>\n",
       "    </tr>\n",
       "  </thead>\n",
       "  <tbody>\n",
       "    <tr>\n",
       "      <th>count</th>\n",
       "      <td>1928368.0</td>\n",
       "      <td>1928368.00</td>\n",
       "      <td>1928368.00</td>\n",
       "      <td>1928368.00</td>\n",
       "      <td>1928368.00</td>\n",
       "      <td>1928368.00</td>\n",
       "      <td>1928368.00</td>\n",
       "      <td>1928368.00</td>\n",
       "      <td>1928368.00</td>\n",
       "      <td>1928368.00</td>\n",
       "      <td>1928368.00</td>\n",
       "      <td>1928368.00</td>\n",
       "      <td>1928368.00</td>\n",
       "      <td>1928368.00</td>\n",
       "      <td>1928368.00</td>\n",
       "      <td>1928368.00</td>\n",
       "      <td>1928368.00</td>\n",
       "      <td>1928368.0</td>\n",
       "      <td>1928368.0</td>\n",
       "    </tr>\n",
       "    <tr>\n",
       "      <th>mean</th>\n",
       "      <td>2008.0</td>\n",
       "      <td>6.11</td>\n",
       "      <td>15.75</td>\n",
       "      <td>3.98</td>\n",
       "      <td>1518.65</td>\n",
       "      <td>1467.72</td>\n",
       "      <td>1610.24</td>\n",
       "      <td>1634.20</td>\n",
       "      <td>2184.29</td>\n",
       "      <td>133.31</td>\n",
       "      <td>134.20</td>\n",
       "      <td>108.28</td>\n",
       "      <td>42.20</td>\n",
       "      <td>43.09</td>\n",
       "      <td>764.95</td>\n",
       "      <td>6.81</td>\n",
       "      <td>18.22</td>\n",
       "      <td>0.0</td>\n",
       "      <td>0.0</td>\n",
       "    </tr>\n",
       "    <tr>\n",
       "      <th>std</th>\n",
       "      <td>0.0</td>\n",
       "      <td>3.48</td>\n",
       "      <td>8.78</td>\n",
       "      <td>2.00</td>\n",
       "      <td>450.44</td>\n",
       "      <td>424.73</td>\n",
       "      <td>548.00</td>\n",
       "      <td>464.63</td>\n",
       "      <td>1944.45</td>\n",
       "      <td>72.06</td>\n",
       "      <td>71.23</td>\n",
       "      <td>68.64</td>\n",
       "      <td>56.78</td>\n",
       "      <td>53.27</td>\n",
       "      <td>573.89</td>\n",
       "      <td>5.27</td>\n",
       "      <td>14.31</td>\n",
       "      <td>0.0</td>\n",
       "      <td>0.0</td>\n",
       "    </tr>\n",
       "    <tr>\n",
       "      <th>min</th>\n",
       "      <td>2008.0</td>\n",
       "      <td>1.00</td>\n",
       "      <td>1.00</td>\n",
       "      <td>1.00</td>\n",
       "      <td>1.00</td>\n",
       "      <td>0.00</td>\n",
       "      <td>1.00</td>\n",
       "      <td>0.00</td>\n",
       "      <td>1.00</td>\n",
       "      <td>14.00</td>\n",
       "      <td>-21.00</td>\n",
       "      <td>0.00</td>\n",
       "      <td>-109.00</td>\n",
       "      <td>6.00</td>\n",
       "      <td>11.00</td>\n",
       "      <td>0.00</td>\n",
       "      <td>0.00</td>\n",
       "      <td>0.0</td>\n",
       "      <td>0.0</td>\n",
       "    </tr>\n",
       "    <tr>\n",
       "      <th>25%</th>\n",
       "      <td>2008.0</td>\n",
       "      <td>3.00</td>\n",
       "      <td>8.00</td>\n",
       "      <td>2.00</td>\n",
       "      <td>1203.00</td>\n",
       "      <td>1135.00</td>\n",
       "      <td>1316.00</td>\n",
       "      <td>1325.00</td>\n",
       "      <td>611.00</td>\n",
       "      <td>80.00</td>\n",
       "      <td>82.00</td>\n",
       "      <td>58.00</td>\n",
       "      <td>9.00</td>\n",
       "      <td>12.00</td>\n",
       "      <td>338.00</td>\n",
       "      <td>4.00</td>\n",
       "      <td>10.00</td>\n",
       "      <td>0.0</td>\n",
       "      <td>0.0</td>\n",
       "    </tr>\n",
       "    <tr>\n",
       "      <th>50%</th>\n",
       "      <td>2008.0</td>\n",
       "      <td>6.00</td>\n",
       "      <td>16.00</td>\n",
       "      <td>4.00</td>\n",
       "      <td>1545.00</td>\n",
       "      <td>1510.00</td>\n",
       "      <td>1715.00</td>\n",
       "      <td>1705.00</td>\n",
       "      <td>1543.00</td>\n",
       "      <td>116.00</td>\n",
       "      <td>116.00</td>\n",
       "      <td>90.00</td>\n",
       "      <td>24.00</td>\n",
       "      <td>24.00</td>\n",
       "      <td>606.00</td>\n",
       "      <td>6.00</td>\n",
       "      <td>14.00</td>\n",
       "      <td>0.0</td>\n",
       "      <td>0.0</td>\n",
       "    </tr>\n",
       "    <tr>\n",
       "      <th>75%</th>\n",
       "      <td>2008.0</td>\n",
       "      <td>9.00</td>\n",
       "      <td>23.00</td>\n",
       "      <td>6.00</td>\n",
       "      <td>1900.00</td>\n",
       "      <td>1815.00</td>\n",
       "      <td>2030.00</td>\n",
       "      <td>2014.00</td>\n",
       "      <td>3423.00</td>\n",
       "      <td>165.00</td>\n",
       "      <td>165.00</td>\n",
       "      <td>137.00</td>\n",
       "      <td>56.00</td>\n",
       "      <td>53.00</td>\n",
       "      <td>997.00</td>\n",
       "      <td>8.00</td>\n",
       "      <td>21.00</td>\n",
       "      <td>0.0</td>\n",
       "      <td>0.0</td>\n",
       "    </tr>\n",
       "    <tr>\n",
       "      <th>max</th>\n",
       "      <td>2008.0</td>\n",
       "      <td>12.00</td>\n",
       "      <td>31.00</td>\n",
       "      <td>7.00</td>\n",
       "      <td>2400.00</td>\n",
       "      <td>2359.00</td>\n",
       "      <td>2400.00</td>\n",
       "      <td>2359.00</td>\n",
       "      <td>9741.00</td>\n",
       "      <td>1114.00</td>\n",
       "      <td>660.00</td>\n",
       "      <td>1091.00</td>\n",
       "      <td>2461.00</td>\n",
       "      <td>2467.00</td>\n",
       "      <td>4962.00</td>\n",
       "      <td>240.00</td>\n",
       "      <td>422.00</td>\n",
       "      <td>0.0</td>\n",
       "      <td>0.0</td>\n",
       "    </tr>\n",
       "  </tbody>\n",
       "</table>\n",
       "</div>"
      ],
      "text/plain": [
       "            Year       Month  DayofMonth   DayOfWeek     DepTime  CRSDepTime  \\\n",
       "count  1928368.0  1928368.00  1928368.00  1928368.00  1928368.00  1928368.00   \n",
       "mean      2008.0        6.11       15.75        3.98     1518.65     1467.72   \n",
       "std          0.0        3.48        8.78        2.00      450.44      424.73   \n",
       "min       2008.0        1.00        1.00        1.00        1.00        0.00   \n",
       "25%       2008.0        3.00        8.00        2.00     1203.00     1135.00   \n",
       "50%       2008.0        6.00       16.00        4.00     1545.00     1510.00   \n",
       "75%       2008.0        9.00       23.00        6.00     1900.00     1815.00   \n",
       "max       2008.0       12.00       31.00        7.00     2400.00     2359.00   \n",
       "\n",
       "          ArrTime  CRSArrTime   FlightNum  ActualElapsedTime  CRSElapsedTime  \\\n",
       "count  1928368.00  1928368.00  1928368.00         1928368.00      1928368.00   \n",
       "mean      1610.24     1634.20     2184.29             133.31          134.20   \n",
       "std        548.00      464.63     1944.45              72.06           71.23   \n",
       "min          1.00        0.00        1.00              14.00          -21.00   \n",
       "25%       1316.00     1325.00      611.00              80.00           82.00   \n",
       "50%       1715.00     1705.00     1543.00             116.00          116.00   \n",
       "75%       2030.00     2014.00     3423.00             165.00          165.00   \n",
       "max       2400.00     2359.00     9741.00            1114.00          660.00   \n",
       "\n",
       "          AirTime    ArrDelay    DepDelay    Distance      TaxiIn     TaxiOut  \\\n",
       "count  1928368.00  1928368.00  1928368.00  1928368.00  1928368.00  1928368.00   \n",
       "mean       108.28       42.20       43.09      764.95        6.81       18.22   \n",
       "std         68.64       56.78       53.27      573.89        5.27       14.31   \n",
       "min          0.00     -109.00        6.00       11.00        0.00        0.00   \n",
       "25%         58.00        9.00       12.00      338.00        4.00       10.00   \n",
       "50%         90.00       24.00       24.00      606.00        6.00       14.00   \n",
       "75%        137.00       56.00       53.00      997.00        8.00       21.00   \n",
       "max       1091.00     2461.00     2467.00     4962.00      240.00      422.00   \n",
       "\n",
       "       Cancelled   Diverted  \n",
       "count  1928368.0  1928368.0  \n",
       "mean         0.0        0.0  \n",
       "std          0.0        0.0  \n",
       "min          0.0        0.0  \n",
       "25%          0.0        0.0  \n",
       "50%          0.0        0.0  \n",
       "75%          0.0        0.0  \n",
       "max          0.0        0.0  "
      ]
     },
     "execution_count": 12,
     "metadata": {},
     "output_type": "execute_result"
    }
   ],
   "source": [
    "# Estadístics de resum de cada columna numérica\n",
    "vols.describe().round(2)"
   ]
  },
  {
   "cell_type": "code",
   "execution_count": 13,
   "metadata": {
    "ExecuteTime": {
     "end_time": "2021-07-03T10:23:31.260193Z",
     "start_time": "2021-07-03T10:23:30.631844Z"
    }
   },
   "outputs": [],
   "source": [
    "# Converteixo a categórica la variable número de vol\n",
    "vols['FlightNum'] = vols['FlightNum'].apply(str)"
   ]
  },
  {
   "cell_type": "code",
   "execution_count": 14,
   "metadata": {
    "ExecuteTime": {
     "end_time": "2021-07-03T10:23:33.101028Z",
     "start_time": "2021-07-03T10:23:31.262195Z"
    }
   },
   "outputs": [
    {
     "data": {
      "text/html": [
       "<div>\n",
       "<style scoped>\n",
       "    .dataframe tbody tr th:only-of-type {\n",
       "        vertical-align: middle;\n",
       "    }\n",
       "\n",
       "    .dataframe tbody tr th {\n",
       "        vertical-align: top;\n",
       "    }\n",
       "\n",
       "    .dataframe thead th {\n",
       "        text-align: right;\n",
       "    }\n",
       "</style>\n",
       "<table border=\"1\" class=\"dataframe\">\n",
       "  <thead>\n",
       "    <tr style=\"text-align: right;\">\n",
       "      <th></th>\n",
       "      <th>UniqueCarrier</th>\n",
       "      <th>FlightNum</th>\n",
       "      <th>TailNum</th>\n",
       "      <th>Origin</th>\n",
       "      <th>Dest</th>\n",
       "      <th>CancellationCode</th>\n",
       "    </tr>\n",
       "  </thead>\n",
       "  <tbody>\n",
       "    <tr>\n",
       "      <th>count</th>\n",
       "      <td>1928368</td>\n",
       "      <td>1928368</td>\n",
       "      <td>1928368</td>\n",
       "      <td>1928368</td>\n",
       "      <td>1928368</td>\n",
       "      <td>1928368</td>\n",
       "    </tr>\n",
       "    <tr>\n",
       "      <th>unique</th>\n",
       "      <td>20</td>\n",
       "      <td>7498</td>\n",
       "      <td>5360</td>\n",
       "      <td>303</td>\n",
       "      <td>302</td>\n",
       "      <td>1</td>\n",
       "    </tr>\n",
       "    <tr>\n",
       "      <th>top</th>\n",
       "      <td>WN</td>\n",
       "      <td>16</td>\n",
       "      <td>N325SW</td>\n",
       "      <td>ATL</td>\n",
       "      <td>ORD</td>\n",
       "      <td>N</td>\n",
       "    </tr>\n",
       "    <tr>\n",
       "      <th>freq</th>\n",
       "      <td>376201</td>\n",
       "      <td>1575</td>\n",
       "      <td>961</td>\n",
       "      <td>131213</td>\n",
       "      <td>108265</td>\n",
       "      <td>1928368</td>\n",
       "    </tr>\n",
       "  </tbody>\n",
       "</table>\n",
       "</div>"
      ],
      "text/plain": [
       "       UniqueCarrier FlightNum  TailNum   Origin     Dest CancellationCode\n",
       "count        1928368   1928368  1928368  1928368  1928368          1928368\n",
       "unique            20      7498     5360      303      302                1\n",
       "top               WN        16   N325SW      ATL      ORD                N\n",
       "freq          376201      1575      961   131213   108265          1928368"
      ]
     },
     "execution_count": 14,
     "metadata": {},
     "output_type": "execute_result"
    }
   ],
   "source": [
    "# Estadístics de resum de cada columna categórica de nou\n",
    "vols.describe(include='object')"
   ]
  },
  {
   "cell_type": "code",
   "execution_count": 15,
   "metadata": {
    "ExecuteTime": {
     "end_time": "2021-07-03T10:23:33.401419Z",
     "start_time": "2021-07-03T10:23:33.104027Z"
    }
   },
   "outputs": [],
   "source": [
    "# Elimino columnes per enir només un valor\n",
    "vols = vols.drop(['CancellationCode', 'Year', 'Cancelled', 'Diverted'], axis=1)"
   ]
  },
  {
   "cell_type": "code",
   "execution_count": 16,
   "metadata": {
    "ExecuteTime": {
     "end_time": "2021-07-03T10:23:33.638281Z",
     "start_time": "2021-07-03T10:23:33.404417Z"
    }
   },
   "outputs": [],
   "source": [
    "# Elimino columnes que no serveixen per a fer regressions numériques\n",
    "vols = vols.drop(['Month', 'DayofMonth', 'DayOfWeek', 'DepTime', 'CRSDepTime', 'ArrTime', 'CRSArrTime'], axis=1)"
   ]
  },
  {
   "cell_type": "code",
   "execution_count": 17,
   "metadata": {
    "ExecuteTime": {
     "end_time": "2021-07-03T10:23:33.861154Z",
     "start_time": "2021-07-03T10:23:33.641280Z"
    }
   },
   "outputs": [],
   "source": [
    "# Elimino columnes que no serveixen per a fer regressions numériques\n",
    "vols = vols.drop(['CRSElapsedTime'], axis=1)"
   ]
  },
  {
   "cell_type": "code",
   "execution_count": 18,
   "metadata": {
    "ExecuteTime": {
     "end_time": "2021-07-03T10:23:35.478486Z",
     "start_time": "2021-07-03T10:23:33.864151Z"
    }
   },
   "outputs": [
    {
     "data": {
      "text/html": [
       "<div>\n",
       "<style scoped>\n",
       "    .dataframe tbody tr th:only-of-type {\n",
       "        vertical-align: middle;\n",
       "    }\n",
       "\n",
       "    .dataframe tbody tr th {\n",
       "        vertical-align: top;\n",
       "    }\n",
       "\n",
       "    .dataframe thead th {\n",
       "        text-align: right;\n",
       "    }\n",
       "</style>\n",
       "<table border=\"1\" class=\"dataframe\">\n",
       "  <thead>\n",
       "    <tr style=\"text-align: right;\">\n",
       "      <th></th>\n",
       "      <th>UniqueCarrier</th>\n",
       "      <th>FlightNum</th>\n",
       "      <th>TailNum</th>\n",
       "      <th>Origin</th>\n",
       "      <th>Dest</th>\n",
       "    </tr>\n",
       "  </thead>\n",
       "  <tbody>\n",
       "    <tr>\n",
       "      <th>count</th>\n",
       "      <td>1928368</td>\n",
       "      <td>1928368</td>\n",
       "      <td>1928368</td>\n",
       "      <td>1928368</td>\n",
       "      <td>1928368</td>\n",
       "    </tr>\n",
       "    <tr>\n",
       "      <th>unique</th>\n",
       "      <td>20</td>\n",
       "      <td>7498</td>\n",
       "      <td>5360</td>\n",
       "      <td>303</td>\n",
       "      <td>302</td>\n",
       "    </tr>\n",
       "    <tr>\n",
       "      <th>top</th>\n",
       "      <td>WN</td>\n",
       "      <td>16</td>\n",
       "      <td>N325SW</td>\n",
       "      <td>ATL</td>\n",
       "      <td>ORD</td>\n",
       "    </tr>\n",
       "    <tr>\n",
       "      <th>freq</th>\n",
       "      <td>376201</td>\n",
       "      <td>1575</td>\n",
       "      <td>961</td>\n",
       "      <td>131213</td>\n",
       "      <td>108265</td>\n",
       "    </tr>\n",
       "  </tbody>\n",
       "</table>\n",
       "</div>"
      ],
      "text/plain": [
       "       UniqueCarrier FlightNum  TailNum   Origin     Dest\n",
       "count        1928368   1928368  1928368  1928368  1928368\n",
       "unique            20      7498     5360      303      302\n",
       "top               WN        16   N325SW      ATL      ORD\n",
       "freq          376201      1575      961   131213   108265"
      ]
     },
     "execution_count": 18,
     "metadata": {},
     "output_type": "execute_result"
    }
   ],
   "source": [
    "# Estadístics de resum de cada columna categórica de nou\n",
    "vols.describe(include='object')"
   ]
  },
  {
   "cell_type": "code",
   "execution_count": 19,
   "metadata": {
    "ExecuteTime": {
     "end_time": "2021-07-03T10:23:36.000200Z",
     "start_time": "2021-07-03T10:23:35.481484Z"
    }
   },
   "outputs": [
    {
     "data": {
      "text/html": [
       "<div>\n",
       "<style scoped>\n",
       "    .dataframe tbody tr th:only-of-type {\n",
       "        vertical-align: middle;\n",
       "    }\n",
       "\n",
       "    .dataframe tbody tr th {\n",
       "        vertical-align: top;\n",
       "    }\n",
       "\n",
       "    .dataframe thead th {\n",
       "        text-align: right;\n",
       "    }\n",
       "</style>\n",
       "<table border=\"1\" class=\"dataframe\">\n",
       "  <thead>\n",
       "    <tr style=\"text-align: right;\">\n",
       "      <th></th>\n",
       "      <th>ActualElapsedTime</th>\n",
       "      <th>AirTime</th>\n",
       "      <th>ArrDelay</th>\n",
       "      <th>DepDelay</th>\n",
       "      <th>Distance</th>\n",
       "      <th>TaxiIn</th>\n",
       "      <th>TaxiOut</th>\n",
       "    </tr>\n",
       "  </thead>\n",
       "  <tbody>\n",
       "    <tr>\n",
       "      <th>count</th>\n",
       "      <td>1928368.00</td>\n",
       "      <td>1928368.00</td>\n",
       "      <td>1928368.00</td>\n",
       "      <td>1928368.00</td>\n",
       "      <td>1928368.00</td>\n",
       "      <td>1928368.00</td>\n",
       "      <td>1928368.00</td>\n",
       "    </tr>\n",
       "    <tr>\n",
       "      <th>mean</th>\n",
       "      <td>133.31</td>\n",
       "      <td>108.28</td>\n",
       "      <td>42.20</td>\n",
       "      <td>43.09</td>\n",
       "      <td>764.95</td>\n",
       "      <td>6.81</td>\n",
       "      <td>18.22</td>\n",
       "    </tr>\n",
       "    <tr>\n",
       "      <th>std</th>\n",
       "      <td>72.06</td>\n",
       "      <td>68.64</td>\n",
       "      <td>56.78</td>\n",
       "      <td>53.27</td>\n",
       "      <td>573.89</td>\n",
       "      <td>5.27</td>\n",
       "      <td>14.31</td>\n",
       "    </tr>\n",
       "    <tr>\n",
       "      <th>min</th>\n",
       "      <td>14.00</td>\n",
       "      <td>0.00</td>\n",
       "      <td>-109.00</td>\n",
       "      <td>6.00</td>\n",
       "      <td>11.00</td>\n",
       "      <td>0.00</td>\n",
       "      <td>0.00</td>\n",
       "    </tr>\n",
       "    <tr>\n",
       "      <th>25%</th>\n",
       "      <td>80.00</td>\n",
       "      <td>58.00</td>\n",
       "      <td>9.00</td>\n",
       "      <td>12.00</td>\n",
       "      <td>338.00</td>\n",
       "      <td>4.00</td>\n",
       "      <td>10.00</td>\n",
       "    </tr>\n",
       "    <tr>\n",
       "      <th>50%</th>\n",
       "      <td>116.00</td>\n",
       "      <td>90.00</td>\n",
       "      <td>24.00</td>\n",
       "      <td>24.00</td>\n",
       "      <td>606.00</td>\n",
       "      <td>6.00</td>\n",
       "      <td>14.00</td>\n",
       "    </tr>\n",
       "    <tr>\n",
       "      <th>75%</th>\n",
       "      <td>165.00</td>\n",
       "      <td>137.00</td>\n",
       "      <td>56.00</td>\n",
       "      <td>53.00</td>\n",
       "      <td>997.00</td>\n",
       "      <td>8.00</td>\n",
       "      <td>21.00</td>\n",
       "    </tr>\n",
       "    <tr>\n",
       "      <th>max</th>\n",
       "      <td>1114.00</td>\n",
       "      <td>1091.00</td>\n",
       "      <td>2461.00</td>\n",
       "      <td>2467.00</td>\n",
       "      <td>4962.00</td>\n",
       "      <td>240.00</td>\n",
       "      <td>422.00</td>\n",
       "    </tr>\n",
       "  </tbody>\n",
       "</table>\n",
       "</div>"
      ],
      "text/plain": [
       "       ActualElapsedTime     AirTime    ArrDelay    DepDelay    Distance  \\\n",
       "count         1928368.00  1928368.00  1928368.00  1928368.00  1928368.00   \n",
       "mean              133.31      108.28       42.20       43.09      764.95   \n",
       "std                72.06       68.64       56.78       53.27      573.89   \n",
       "min                14.00        0.00     -109.00        6.00       11.00   \n",
       "25%                80.00       58.00        9.00       12.00      338.00   \n",
       "50%               116.00       90.00       24.00       24.00      606.00   \n",
       "75%               165.00      137.00       56.00       53.00      997.00   \n",
       "max              1114.00     1091.00     2461.00     2467.00     4962.00   \n",
       "\n",
       "           TaxiIn     TaxiOut  \n",
       "count  1928368.00  1928368.00  \n",
       "mean         6.81       18.22  \n",
       "std          5.27       14.31  \n",
       "min          0.00        0.00  \n",
       "25%          4.00       10.00  \n",
       "50%          6.00       14.00  \n",
       "75%          8.00       21.00  \n",
       "max        240.00      422.00  "
      ]
     },
     "execution_count": 19,
     "metadata": {},
     "output_type": "execute_result"
    }
   ],
   "source": [
    "# Estadístics de resum de cada columna numérica de nou\n",
    "vols.describe().round(2)"
   ]
  },
  {
   "cell_type": "code",
   "execution_count": 20,
   "metadata": {
    "ExecuteTime": {
     "end_time": "2021-07-03T10:23:36.031180Z",
     "start_time": "2021-07-03T10:23:36.003196Z"
    }
   },
   "outputs": [
    {
     "data": {
      "text/html": [
       "<div>\n",
       "<style scoped>\n",
       "    .dataframe tbody tr th:only-of-type {\n",
       "        vertical-align: middle;\n",
       "    }\n",
       "\n",
       "    .dataframe tbody tr th {\n",
       "        vertical-align: top;\n",
       "    }\n",
       "\n",
       "    .dataframe thead th {\n",
       "        text-align: right;\n",
       "    }\n",
       "</style>\n",
       "<table border=\"1\" class=\"dataframe\">\n",
       "  <thead>\n",
       "    <tr style=\"text-align: right;\">\n",
       "      <th></th>\n",
       "      <th>UniqueCarrier</th>\n",
       "      <th>FlightNum</th>\n",
       "      <th>TailNum</th>\n",
       "      <th>ActualElapsedTime</th>\n",
       "      <th>AirTime</th>\n",
       "      <th>ArrDelay</th>\n",
       "      <th>DepDelay</th>\n",
       "      <th>Origin</th>\n",
       "      <th>Dest</th>\n",
       "      <th>Distance</th>\n",
       "      <th>TaxiIn</th>\n",
       "      <th>TaxiOut</th>\n",
       "    </tr>\n",
       "    <tr>\n",
       "      <th>id</th>\n",
       "      <th></th>\n",
       "      <th></th>\n",
       "      <th></th>\n",
       "      <th></th>\n",
       "      <th></th>\n",
       "      <th></th>\n",
       "      <th></th>\n",
       "      <th></th>\n",
       "      <th></th>\n",
       "      <th></th>\n",
       "      <th></th>\n",
       "      <th></th>\n",
       "    </tr>\n",
       "  </thead>\n",
       "  <tbody>\n",
       "    <tr>\n",
       "      <th>0</th>\n",
       "      <td>WN</td>\n",
       "      <td>335</td>\n",
       "      <td>N712SW</td>\n",
       "      <td>128.0</td>\n",
       "      <td>116.0</td>\n",
       "      <td>-14.0</td>\n",
       "      <td>8.0</td>\n",
       "      <td>IAD</td>\n",
       "      <td>TPA</td>\n",
       "      <td>810</td>\n",
       "      <td>4.0</td>\n",
       "      <td>8.0</td>\n",
       "    </tr>\n",
       "    <tr>\n",
       "      <th>1</th>\n",
       "      <td>WN</td>\n",
       "      <td>3231</td>\n",
       "      <td>N772SW</td>\n",
       "      <td>128.0</td>\n",
       "      <td>113.0</td>\n",
       "      <td>2.0</td>\n",
       "      <td>19.0</td>\n",
       "      <td>IAD</td>\n",
       "      <td>TPA</td>\n",
       "      <td>810</td>\n",
       "      <td>5.0</td>\n",
       "      <td>10.0</td>\n",
       "    </tr>\n",
       "    <tr>\n",
       "      <th>2</th>\n",
       "      <td>WN</td>\n",
       "      <td>448</td>\n",
       "      <td>N428WN</td>\n",
       "      <td>96.0</td>\n",
       "      <td>76.0</td>\n",
       "      <td>14.0</td>\n",
       "      <td>8.0</td>\n",
       "      <td>IND</td>\n",
       "      <td>BWI</td>\n",
       "      <td>515</td>\n",
       "      <td>3.0</td>\n",
       "      <td>17.0</td>\n",
       "    </tr>\n",
       "    <tr>\n",
       "      <th>4</th>\n",
       "      <td>WN</td>\n",
       "      <td>3920</td>\n",
       "      <td>N464WN</td>\n",
       "      <td>90.0</td>\n",
       "      <td>77.0</td>\n",
       "      <td>34.0</td>\n",
       "      <td>34.0</td>\n",
       "      <td>IND</td>\n",
       "      <td>BWI</td>\n",
       "      <td>515</td>\n",
       "      <td>3.0</td>\n",
       "      <td>10.0</td>\n",
       "    </tr>\n",
       "    <tr>\n",
       "      <th>5</th>\n",
       "      <td>WN</td>\n",
       "      <td>378</td>\n",
       "      <td>N726SW</td>\n",
       "      <td>101.0</td>\n",
       "      <td>87.0</td>\n",
       "      <td>11.0</td>\n",
       "      <td>25.0</td>\n",
       "      <td>IND</td>\n",
       "      <td>JAX</td>\n",
       "      <td>688</td>\n",
       "      <td>4.0</td>\n",
       "      <td>10.0</td>\n",
       "    </tr>\n",
       "  </tbody>\n",
       "</table>\n",
       "</div>"
      ],
      "text/plain": [
       "   UniqueCarrier FlightNum TailNum  ActualElapsedTime  AirTime  ArrDelay  \\\n",
       "id                                                                         \n",
       "0             WN       335  N712SW              128.0    116.0     -14.0   \n",
       "1             WN      3231  N772SW              128.0    113.0       2.0   \n",
       "2             WN       448  N428WN               96.0     76.0      14.0   \n",
       "4             WN      3920  N464WN               90.0     77.0      34.0   \n",
       "5             WN       378  N726SW              101.0     87.0      11.0   \n",
       "\n",
       "    DepDelay Origin Dest  Distance  TaxiIn  TaxiOut  \n",
       "id                                                   \n",
       "0        8.0    IAD  TPA       810     4.0      8.0  \n",
       "1       19.0    IAD  TPA       810     5.0     10.0  \n",
       "2        8.0    IND  BWI       515     3.0     17.0  \n",
       "4       34.0    IND  BWI       515     3.0     10.0  \n",
       "5       25.0    IND  JAX       688     4.0     10.0  "
      ]
     },
     "execution_count": 20,
     "metadata": {},
     "output_type": "execute_result"
    }
   ],
   "source": [
    "# Aspecte final del dataframe\n",
    "vols.head()"
   ]
  },
  {
   "cell_type": "code",
   "execution_count": 21,
   "metadata": {
    "ExecuteTime": {
     "end_time": "2021-07-03T10:23:36.062162Z",
     "start_time": "2021-07-03T10:23:36.036179Z"
    }
   },
   "outputs": [
    {
     "data": {
      "text/plain": [
       "(1928368, 12)"
      ]
     },
     "execution_count": 21,
     "metadata": {},
     "output_type": "execute_result"
    }
   ],
   "source": [
    "# Mida final del dataframe\n",
    "vols.shape"
   ]
  },
  {
   "cell_type": "markdown",
   "metadata": {},
   "source": [
    "## Nivell 1\n",
    "\n",
    "- Exercici 1\n",
    "\n",
    "    Crea almenys tres models de classificació diferents per intentar predir el millor possible l’endarreriment dels vols (ArrDelay) de DelayedFlights.csv. Considera si el vol ha arribat tard o no (ArrDelay > 0)."
   ]
  },
  {
   "cell_type": "code",
   "execution_count": 22,
   "metadata": {
    "ExecuteTime": {
     "end_time": "2021-07-03T10:23:36.110135Z",
     "start_time": "2021-07-03T10:23:36.064160Z"
    }
   },
   "outputs": [
    {
     "data": {
      "text/html": [
       "<div>\n",
       "<style scoped>\n",
       "    .dataframe tbody tr th:only-of-type {\n",
       "        vertical-align: middle;\n",
       "    }\n",
       "\n",
       "    .dataframe tbody tr th {\n",
       "        vertical-align: top;\n",
       "    }\n",
       "\n",
       "    .dataframe thead th {\n",
       "        text-align: right;\n",
       "    }\n",
       "</style>\n",
       "<table border=\"1\" class=\"dataframe\">\n",
       "  <thead>\n",
       "    <tr style=\"text-align: right;\">\n",
       "      <th></th>\n",
       "      <th>UniqueCarrier</th>\n",
       "      <th>FlightNum</th>\n",
       "      <th>TailNum</th>\n",
       "      <th>ActualElapsedTime</th>\n",
       "      <th>AirTime</th>\n",
       "      <th>ArrDelay</th>\n",
       "      <th>DepDelay</th>\n",
       "      <th>Origin</th>\n",
       "      <th>Dest</th>\n",
       "      <th>Distance</th>\n",
       "      <th>TaxiIn</th>\n",
       "      <th>TaxiOut</th>\n",
       "      <th>ArrDelay_delayed</th>\n",
       "    </tr>\n",
       "    <tr>\n",
       "      <th>id</th>\n",
       "      <th></th>\n",
       "      <th></th>\n",
       "      <th></th>\n",
       "      <th></th>\n",
       "      <th></th>\n",
       "      <th></th>\n",
       "      <th></th>\n",
       "      <th></th>\n",
       "      <th></th>\n",
       "      <th></th>\n",
       "      <th></th>\n",
       "      <th></th>\n",
       "      <th></th>\n",
       "    </tr>\n",
       "  </thead>\n",
       "  <tbody>\n",
       "    <tr>\n",
       "      <th>0</th>\n",
       "      <td>WN</td>\n",
       "      <td>335</td>\n",
       "      <td>N712SW</td>\n",
       "      <td>128.0</td>\n",
       "      <td>116.0</td>\n",
       "      <td>-14.0</td>\n",
       "      <td>8.0</td>\n",
       "      <td>IAD</td>\n",
       "      <td>TPA</td>\n",
       "      <td>810</td>\n",
       "      <td>4.0</td>\n",
       "      <td>8.0</td>\n",
       "      <td>0</td>\n",
       "    </tr>\n",
       "    <tr>\n",
       "      <th>1</th>\n",
       "      <td>WN</td>\n",
       "      <td>3231</td>\n",
       "      <td>N772SW</td>\n",
       "      <td>128.0</td>\n",
       "      <td>113.0</td>\n",
       "      <td>2.0</td>\n",
       "      <td>19.0</td>\n",
       "      <td>IAD</td>\n",
       "      <td>TPA</td>\n",
       "      <td>810</td>\n",
       "      <td>5.0</td>\n",
       "      <td>10.0</td>\n",
       "      <td>1</td>\n",
       "    </tr>\n",
       "    <tr>\n",
       "      <th>2</th>\n",
       "      <td>WN</td>\n",
       "      <td>448</td>\n",
       "      <td>N428WN</td>\n",
       "      <td>96.0</td>\n",
       "      <td>76.0</td>\n",
       "      <td>14.0</td>\n",
       "      <td>8.0</td>\n",
       "      <td>IND</td>\n",
       "      <td>BWI</td>\n",
       "      <td>515</td>\n",
       "      <td>3.0</td>\n",
       "      <td>17.0</td>\n",
       "      <td>1</td>\n",
       "    </tr>\n",
       "    <tr>\n",
       "      <th>4</th>\n",
       "      <td>WN</td>\n",
       "      <td>3920</td>\n",
       "      <td>N464WN</td>\n",
       "      <td>90.0</td>\n",
       "      <td>77.0</td>\n",
       "      <td>34.0</td>\n",
       "      <td>34.0</td>\n",
       "      <td>IND</td>\n",
       "      <td>BWI</td>\n",
       "      <td>515</td>\n",
       "      <td>3.0</td>\n",
       "      <td>10.0</td>\n",
       "      <td>1</td>\n",
       "    </tr>\n",
       "    <tr>\n",
       "      <th>5</th>\n",
       "      <td>WN</td>\n",
       "      <td>378</td>\n",
       "      <td>N726SW</td>\n",
       "      <td>101.0</td>\n",
       "      <td>87.0</td>\n",
       "      <td>11.0</td>\n",
       "      <td>25.0</td>\n",
       "      <td>IND</td>\n",
       "      <td>JAX</td>\n",
       "      <td>688</td>\n",
       "      <td>4.0</td>\n",
       "      <td>10.0</td>\n",
       "      <td>1</td>\n",
       "    </tr>\n",
       "  </tbody>\n",
       "</table>\n",
       "</div>"
      ],
      "text/plain": [
       "   UniqueCarrier FlightNum TailNum  ActualElapsedTime  AirTime  ArrDelay  \\\n",
       "id                                                                         \n",
       "0             WN       335  N712SW              128.0    116.0     -14.0   \n",
       "1             WN      3231  N772SW              128.0    113.0       2.0   \n",
       "2             WN       448  N428WN               96.0     76.0      14.0   \n",
       "4             WN      3920  N464WN               90.0     77.0      34.0   \n",
       "5             WN       378  N726SW              101.0     87.0      11.0   \n",
       "\n",
       "    DepDelay Origin Dest  Distance  TaxiIn  TaxiOut  ArrDelay_delayed  \n",
       "id                                                                     \n",
       "0        8.0    IAD  TPA       810     4.0      8.0                 0  \n",
       "1       19.0    IAD  TPA       810     5.0     10.0                 1  \n",
       "2        8.0    IND  BWI       515     3.0     17.0                 1  \n",
       "4       34.0    IND  BWI       515     3.0     10.0                 1  \n",
       "5       25.0    IND  JAX       688     4.0     10.0                 1  "
      ]
     },
     "metadata": {},
     "output_type": "display_data"
    }
   ],
   "source": [
    "# Creem la columna 'ArrDelay_delayed' amb valors 0 o 1\n",
    "vols['ArrDelay_delayed'] = np.where((vols['ArrDelay'] > 0), 1, 0)\n",
    "display(vols.head())"
   ]
  },
  {
   "cell_type": "code",
   "execution_count": 23,
   "metadata": {
    "ExecuteTime": {
     "end_time": "2021-07-03T10:23:36.267553Z",
     "start_time": "2021-07-03T10:23:36.118130Z"
    }
   },
   "outputs": [],
   "source": [
    "# Obviem ArrDelay\n",
    "vols = vols.drop('ArrDelay',axis=1)"
   ]
  },
  {
   "cell_type": "code",
   "execution_count": 24,
   "metadata": {
    "ExecuteTime": {
     "end_time": "2021-07-03T10:23:36.283544Z",
     "start_time": "2021-07-03T10:23:36.272549Z"
    }
   },
   "outputs": [
    {
     "data": {
      "text/plain": [
       "(1928368, 12)"
      ]
     },
     "execution_count": 24,
     "metadata": {},
     "output_type": "execute_result"
    }
   ],
   "source": [
    "# Dimensió de la taula\n",
    "vols.shape"
   ]
  },
  {
   "cell_type": "code",
   "execution_count": 25,
   "metadata": {
    "ExecuteTime": {
     "end_time": "2021-07-03T10:23:36.792262Z",
     "start_time": "2021-07-03T10:23:36.290539Z"
    }
   },
   "outputs": [
    {
     "data": {
      "text/html": [
       "<div>\n",
       "<style scoped>\n",
       "    .dataframe tbody tr th:only-of-type {\n",
       "        vertical-align: middle;\n",
       "    }\n",
       "\n",
       "    .dataframe tbody tr th {\n",
       "        vertical-align: top;\n",
       "    }\n",
       "\n",
       "    .dataframe thead th {\n",
       "        text-align: right;\n",
       "    }\n",
       "</style>\n",
       "<table border=\"1\" class=\"dataframe\">\n",
       "  <thead>\n",
       "    <tr style=\"text-align: right;\">\n",
       "      <th></th>\n",
       "      <th>ActualElapsedTime</th>\n",
       "      <th>AirTime</th>\n",
       "      <th>DepDelay</th>\n",
       "      <th>Distance</th>\n",
       "      <th>TaxiIn</th>\n",
       "      <th>TaxiOut</th>\n",
       "      <th>ArrDelay_delayed</th>\n",
       "    </tr>\n",
       "  </thead>\n",
       "  <tbody>\n",
       "    <tr>\n",
       "      <th>count</th>\n",
       "      <td>1928368.0</td>\n",
       "      <td>1928368.0</td>\n",
       "      <td>1928368.0</td>\n",
       "      <td>1928368.0</td>\n",
       "      <td>1928368.0</td>\n",
       "      <td>1928368.0</td>\n",
       "      <td>1928368.0</td>\n",
       "    </tr>\n",
       "    <tr>\n",
       "      <th>mean</th>\n",
       "      <td>133.0</td>\n",
       "      <td>108.0</td>\n",
       "      <td>43.0</td>\n",
       "      <td>765.0</td>\n",
       "      <td>7.0</td>\n",
       "      <td>18.0</td>\n",
       "      <td>1.0</td>\n",
       "    </tr>\n",
       "    <tr>\n",
       "      <th>std</th>\n",
       "      <td>72.0</td>\n",
       "      <td>69.0</td>\n",
       "      <td>53.0</td>\n",
       "      <td>574.0</td>\n",
       "      <td>5.0</td>\n",
       "      <td>14.0</td>\n",
       "      <td>0.0</td>\n",
       "    </tr>\n",
       "    <tr>\n",
       "      <th>min</th>\n",
       "      <td>14.0</td>\n",
       "      <td>0.0</td>\n",
       "      <td>6.0</td>\n",
       "      <td>11.0</td>\n",
       "      <td>0.0</td>\n",
       "      <td>0.0</td>\n",
       "      <td>0.0</td>\n",
       "    </tr>\n",
       "    <tr>\n",
       "      <th>25%</th>\n",
       "      <td>80.0</td>\n",
       "      <td>58.0</td>\n",
       "      <td>12.0</td>\n",
       "      <td>338.0</td>\n",
       "      <td>4.0</td>\n",
       "      <td>10.0</td>\n",
       "      <td>1.0</td>\n",
       "    </tr>\n",
       "    <tr>\n",
       "      <th>50%</th>\n",
       "      <td>116.0</td>\n",
       "      <td>90.0</td>\n",
       "      <td>24.0</td>\n",
       "      <td>606.0</td>\n",
       "      <td>6.0</td>\n",
       "      <td>14.0</td>\n",
       "      <td>1.0</td>\n",
       "    </tr>\n",
       "    <tr>\n",
       "      <th>75%</th>\n",
       "      <td>165.0</td>\n",
       "      <td>137.0</td>\n",
       "      <td>53.0</td>\n",
       "      <td>997.0</td>\n",
       "      <td>8.0</td>\n",
       "      <td>21.0</td>\n",
       "      <td>1.0</td>\n",
       "    </tr>\n",
       "    <tr>\n",
       "      <th>max</th>\n",
       "      <td>1114.0</td>\n",
       "      <td>1091.0</td>\n",
       "      <td>2467.0</td>\n",
       "      <td>4962.0</td>\n",
       "      <td>240.0</td>\n",
       "      <td>422.0</td>\n",
       "      <td>1.0</td>\n",
       "    </tr>\n",
       "  </tbody>\n",
       "</table>\n",
       "</div>"
      ],
      "text/plain": [
       "       ActualElapsedTime    AirTime   DepDelay   Distance     TaxiIn  \\\n",
       "count          1928368.0  1928368.0  1928368.0  1928368.0  1928368.0   \n",
       "mean               133.0      108.0       43.0      765.0        7.0   \n",
       "std                 72.0       69.0       53.0      574.0        5.0   \n",
       "min                 14.0        0.0        6.0       11.0        0.0   \n",
       "25%                 80.0       58.0       12.0      338.0        4.0   \n",
       "50%                116.0       90.0       24.0      606.0        6.0   \n",
       "75%                165.0      137.0       53.0      997.0        8.0   \n",
       "max               1114.0     1091.0     2467.0     4962.0      240.0   \n",
       "\n",
       "         TaxiOut  ArrDelay_delayed  \n",
       "count  1928368.0         1928368.0  \n",
       "mean        18.0               1.0  \n",
       "std         14.0               0.0  \n",
       "min          0.0               0.0  \n",
       "25%         10.0               1.0  \n",
       "50%         14.0               1.0  \n",
       "75%         21.0               1.0  \n",
       "max        422.0               1.0  "
      ]
     },
     "execution_count": 25,
     "metadata": {},
     "output_type": "execute_result"
    }
   ],
   "source": [
    "# Estadistics\n",
    "vols.describe().round()"
   ]
  },
  {
   "cell_type": "code",
   "execution_count": 26,
   "metadata": {
    "ExecuteTime": {
     "end_time": "2021-07-03T10:23:36.967258Z",
     "start_time": "2021-07-03T10:23:36.798259Z"
    }
   },
   "outputs": [],
   "source": [
    "# Per tal d'estalviar temps de calcul primer agafo una mostra aleatoria simple\n",
    "mostra = 15000\n",
    "vols = vols.sample(mostra,random_state=1357)"
   ]
  },
  {
   "cell_type": "code",
   "execution_count": 27,
   "metadata": {
    "ExecuteTime": {
     "end_time": "2021-07-03T10:23:36.983249Z",
     "start_time": "2021-07-03T10:23:36.969258Z"
    }
   },
   "outputs": [],
   "source": [
    "# Variable dependent\n",
    "y = vols['ArrDelay_delayed']\n",
    "\n",
    "# Variables predictores\n",
    "x = vols.drop(['UniqueCarrier', 'FlightNum', 'TailNum', 'Origin', 'Dest', 'ArrDelay_delayed'], axis = 1)\n",
    "\n",
    "# LLista amb el nom dels predictors\n",
    "x_columnes = list(x.columns)"
   ]
  },
  {
   "cell_type": "code",
   "execution_count": 28,
   "metadata": {
    "ExecuteTime": {
     "end_time": "2021-07-03T10:23:36.999240Z",
     "start_time": "2021-07-03T10:23:36.986248Z"
    }
   },
   "outputs": [
    {
     "name": "stdout",
     "output_type": "stream",
     "text": [
      "['ActualElapsedTime', 'AirTime', 'DepDelay', 'Distance', 'TaxiIn', 'TaxiOut']\n"
     ]
    }
   ],
   "source": [
    "print(x_columnes)"
   ]
  },
  {
   "cell_type": "code",
   "execution_count": 29,
   "metadata": {
    "ExecuteTime": {
     "end_time": "2021-07-03T10:23:37.125577Z",
     "start_time": "2021-07-03T10:23:37.002239Z"
    }
   },
   "outputs": [
    {
     "name": "stdout",
     "output_type": "stream",
     "text": [
      "Tamany de mostra d'entrenament: 12000\n",
      "Tamany de mostra de validació: 3000\n"
     ]
    },
    {
     "data": {
      "text/html": [
       "<div>\n",
       "<style scoped>\n",
       "    .dataframe tbody tr th:only-of-type {\n",
       "        vertical-align: middle;\n",
       "    }\n",
       "\n",
       "    .dataframe tbody tr th {\n",
       "        vertical-align: top;\n",
       "    }\n",
       "\n",
       "    .dataframe thead th {\n",
       "        text-align: right;\n",
       "    }\n",
       "</style>\n",
       "<table border=\"1\" class=\"dataframe\">\n",
       "  <thead>\n",
       "    <tr style=\"text-align: right;\">\n",
       "      <th></th>\n",
       "      <th>ActualElapsedTime</th>\n",
       "      <th>AirTime</th>\n",
       "      <th>DepDelay</th>\n",
       "      <th>Distance</th>\n",
       "      <th>TaxiIn</th>\n",
       "      <th>TaxiOut</th>\n",
       "      <th>ArrDelay_delayed</th>\n",
       "    </tr>\n",
       "    <tr>\n",
       "      <th>id</th>\n",
       "      <th></th>\n",
       "      <th></th>\n",
       "      <th></th>\n",
       "      <th></th>\n",
       "      <th></th>\n",
       "      <th></th>\n",
       "      <th></th>\n",
       "    </tr>\n",
       "  </thead>\n",
       "  <tbody>\n",
       "    <tr>\n",
       "      <th>6509369</th>\n",
       "      <td>111.0</td>\n",
       "      <td>97.0</td>\n",
       "      <td>10.0</td>\n",
       "      <td>546</td>\n",
       "      <td>4.0</td>\n",
       "      <td>10.0</td>\n",
       "      <td>1</td>\n",
       "    </tr>\n",
       "    <tr>\n",
       "      <th>3207192</th>\n",
       "      <td>70.0</td>\n",
       "      <td>18.0</td>\n",
       "      <td>79.0</td>\n",
       "      <td>67</td>\n",
       "      <td>9.0</td>\n",
       "      <td>43.0</td>\n",
       "      <td>1</td>\n",
       "    </tr>\n",
       "    <tr>\n",
       "      <th>6730678</th>\n",
       "      <td>62.0</td>\n",
       "      <td>47.0</td>\n",
       "      <td>31.0</td>\n",
       "      <td>328</td>\n",
       "      <td>7.0</td>\n",
       "      <td>8.0</td>\n",
       "      <td>1</td>\n",
       "    </tr>\n",
       "    <tr>\n",
       "      <th>54296</th>\n",
       "      <td>91.0</td>\n",
       "      <td>74.0</td>\n",
       "      <td>9.0</td>\n",
       "      <td>507</td>\n",
       "      <td>5.0</td>\n",
       "      <td>12.0</td>\n",
       "      <td>0</td>\n",
       "    </tr>\n",
       "    <tr>\n",
       "      <th>632081</th>\n",
       "      <td>123.0</td>\n",
       "      <td>106.0</td>\n",
       "      <td>6.0</td>\n",
       "      <td>810</td>\n",
       "      <td>5.0</td>\n",
       "      <td>12.0</td>\n",
       "      <td>1</td>\n",
       "    </tr>\n",
       "    <tr>\n",
       "      <th>...</th>\n",
       "      <td>...</td>\n",
       "      <td>...</td>\n",
       "      <td>...</td>\n",
       "      <td>...</td>\n",
       "      <td>...</td>\n",
       "      <td>...</td>\n",
       "      <td>...</td>\n",
       "    </tr>\n",
       "    <tr>\n",
       "      <th>4842848</th>\n",
       "      <td>157.0</td>\n",
       "      <td>142.0</td>\n",
       "      <td>62.0</td>\n",
       "      <td>1240</td>\n",
       "      <td>4.0</td>\n",
       "      <td>11.0</td>\n",
       "      <td>1</td>\n",
       "    </tr>\n",
       "    <tr>\n",
       "      <th>6983483</th>\n",
       "      <td>357.0</td>\n",
       "      <td>331.0</td>\n",
       "      <td>49.0</td>\n",
       "      <td>2133</td>\n",
       "      <td>5.0</td>\n",
       "      <td>21.0</td>\n",
       "      <td>1</td>\n",
       "    </tr>\n",
       "    <tr>\n",
       "      <th>2224274</th>\n",
       "      <td>166.0</td>\n",
       "      <td>136.0</td>\n",
       "      <td>10.0</td>\n",
       "      <td>1087</td>\n",
       "      <td>6.0</td>\n",
       "      <td>24.0</td>\n",
       "      <td>1</td>\n",
       "    </tr>\n",
       "    <tr>\n",
       "      <th>3128037</th>\n",
       "      <td>115.0</td>\n",
       "      <td>97.0</td>\n",
       "      <td>114.0</td>\n",
       "      <td>666</td>\n",
       "      <td>5.0</td>\n",
       "      <td>13.0</td>\n",
       "      <td>1</td>\n",
       "    </tr>\n",
       "    <tr>\n",
       "      <th>2037007</th>\n",
       "      <td>126.0</td>\n",
       "      <td>102.0</td>\n",
       "      <td>10.0</td>\n",
       "      <td>776</td>\n",
       "      <td>6.0</td>\n",
       "      <td>18.0</td>\n",
       "      <td>1</td>\n",
       "    </tr>\n",
       "  </tbody>\n",
       "</table>\n",
       "<p>12000 rows × 7 columns</p>\n",
       "</div>"
      ],
      "text/plain": [
       "         ActualElapsedTime  AirTime  DepDelay  Distance  TaxiIn  TaxiOut  \\\n",
       "id                                                                         \n",
       "6509369              111.0     97.0      10.0       546     4.0     10.0   \n",
       "3207192               70.0     18.0      79.0        67     9.0     43.0   \n",
       "6730678               62.0     47.0      31.0       328     7.0      8.0   \n",
       "54296                 91.0     74.0       9.0       507     5.0     12.0   \n",
       "632081               123.0    106.0       6.0       810     5.0     12.0   \n",
       "...                    ...      ...       ...       ...     ...      ...   \n",
       "4842848              157.0    142.0      62.0      1240     4.0     11.0   \n",
       "6983483              357.0    331.0      49.0      2133     5.0     21.0   \n",
       "2224274              166.0    136.0      10.0      1087     6.0     24.0   \n",
       "3128037              115.0     97.0     114.0       666     5.0     13.0   \n",
       "2037007              126.0    102.0      10.0       776     6.0     18.0   \n",
       "\n",
       "         ArrDelay_delayed  \n",
       "id                         \n",
       "6509369                 1  \n",
       "3207192                 1  \n",
       "6730678                 1  \n",
       "54296                   0  \n",
       "632081                  1  \n",
       "...                   ...  \n",
       "4842848                 1  \n",
       "6983483                 1  \n",
       "2224274                 1  \n",
       "3128037                 1  \n",
       "2037007                 1  \n",
       "\n",
       "[12000 rows x 7 columns]"
      ]
     },
     "metadata": {},
     "output_type": "display_data"
    },
    {
     "data": {
      "text/html": [
       "<div>\n",
       "<style scoped>\n",
       "    .dataframe tbody tr th:only-of-type {\n",
       "        vertical-align: middle;\n",
       "    }\n",
       "\n",
       "    .dataframe tbody tr th {\n",
       "        vertical-align: top;\n",
       "    }\n",
       "\n",
       "    .dataframe thead th {\n",
       "        text-align: right;\n",
       "    }\n",
       "</style>\n",
       "<table border=\"1\" class=\"dataframe\">\n",
       "  <thead>\n",
       "    <tr style=\"text-align: right;\">\n",
       "      <th></th>\n",
       "      <th>ActualElapsedTime</th>\n",
       "      <th>AirTime</th>\n",
       "      <th>DepDelay</th>\n",
       "      <th>Distance</th>\n",
       "      <th>TaxiIn</th>\n",
       "      <th>TaxiOut</th>\n",
       "    </tr>\n",
       "    <tr>\n",
       "      <th>id</th>\n",
       "      <th></th>\n",
       "      <th></th>\n",
       "      <th></th>\n",
       "      <th></th>\n",
       "      <th></th>\n",
       "      <th></th>\n",
       "    </tr>\n",
       "  </thead>\n",
       "  <tbody>\n",
       "    <tr>\n",
       "      <th>6509369</th>\n",
       "      <td>111.0</td>\n",
       "      <td>97.0</td>\n",
       "      <td>10.0</td>\n",
       "      <td>546</td>\n",
       "      <td>4.0</td>\n",
       "      <td>10.0</td>\n",
       "    </tr>\n",
       "    <tr>\n",
       "      <th>3207192</th>\n",
       "      <td>70.0</td>\n",
       "      <td>18.0</td>\n",
       "      <td>79.0</td>\n",
       "      <td>67</td>\n",
       "      <td>9.0</td>\n",
       "      <td>43.0</td>\n",
       "    </tr>\n",
       "    <tr>\n",
       "      <th>6730678</th>\n",
       "      <td>62.0</td>\n",
       "      <td>47.0</td>\n",
       "      <td>31.0</td>\n",
       "      <td>328</td>\n",
       "      <td>7.0</td>\n",
       "      <td>8.0</td>\n",
       "    </tr>\n",
       "    <tr>\n",
       "      <th>54296</th>\n",
       "      <td>91.0</td>\n",
       "      <td>74.0</td>\n",
       "      <td>9.0</td>\n",
       "      <td>507</td>\n",
       "      <td>5.0</td>\n",
       "      <td>12.0</td>\n",
       "    </tr>\n",
       "    <tr>\n",
       "      <th>632081</th>\n",
       "      <td>123.0</td>\n",
       "      <td>106.0</td>\n",
       "      <td>6.0</td>\n",
       "      <td>810</td>\n",
       "      <td>5.0</td>\n",
       "      <td>12.0</td>\n",
       "    </tr>\n",
       "  </tbody>\n",
       "</table>\n",
       "</div>"
      ],
      "text/plain": [
       "         ActualElapsedTime  AirTime  DepDelay  Distance  TaxiIn  TaxiOut\n",
       "id                                                                      \n",
       "6509369              111.0     97.0      10.0       546     4.0     10.0\n",
       "3207192               70.0     18.0      79.0        67     9.0     43.0\n",
       "6730678               62.0     47.0      31.0       328     7.0      8.0\n",
       "54296                 91.0     74.0       9.0       507     5.0     12.0\n",
       "632081               123.0    106.0       6.0       810     5.0     12.0"
      ]
     },
     "metadata": {},
     "output_type": "display_data"
    },
    {
     "data": {
      "text/plain": [
       "id\n",
       "6509369    1\n",
       "3207192    1\n",
       "6730678    1\n",
       "54296      0\n",
       "632081     1\n",
       "Name: ArrDelay_delayed, dtype: int32"
      ]
     },
     "metadata": {},
     "output_type": "display_data"
    },
    {
     "data": {
      "text/html": [
       "<div>\n",
       "<style scoped>\n",
       "    .dataframe tbody tr th:only-of-type {\n",
       "        vertical-align: middle;\n",
       "    }\n",
       "\n",
       "    .dataframe tbody tr th {\n",
       "        vertical-align: top;\n",
       "    }\n",
       "\n",
       "    .dataframe thead th {\n",
       "        text-align: right;\n",
       "    }\n",
       "</style>\n",
       "<table border=\"1\" class=\"dataframe\">\n",
       "  <thead>\n",
       "    <tr style=\"text-align: right;\">\n",
       "      <th></th>\n",
       "      <th>ActualElapsedTime</th>\n",
       "      <th>AirTime</th>\n",
       "      <th>DepDelay</th>\n",
       "      <th>Distance</th>\n",
       "      <th>TaxiIn</th>\n",
       "      <th>TaxiOut</th>\n",
       "      <th>ArrDelay_delayed</th>\n",
       "    </tr>\n",
       "    <tr>\n",
       "      <th>id</th>\n",
       "      <th></th>\n",
       "      <th></th>\n",
       "      <th></th>\n",
       "      <th></th>\n",
       "      <th></th>\n",
       "      <th></th>\n",
       "      <th></th>\n",
       "    </tr>\n",
       "  </thead>\n",
       "  <tbody>\n",
       "    <tr>\n",
       "      <th>1787870</th>\n",
       "      <td>134.0</td>\n",
       "      <td>96.0</td>\n",
       "      <td>89.0</td>\n",
       "      <td>403</td>\n",
       "      <td>14.0</td>\n",
       "      <td>24.0</td>\n",
       "      <td>1</td>\n",
       "    </tr>\n",
       "    <tr>\n",
       "      <th>2264296</th>\n",
       "      <td>336.0</td>\n",
       "      <td>310.0</td>\n",
       "      <td>8.0</td>\n",
       "      <td>2342</td>\n",
       "      <td>10.0</td>\n",
       "      <td>16.0</td>\n",
       "      <td>1</td>\n",
       "    </tr>\n",
       "    <tr>\n",
       "      <th>3029928</th>\n",
       "      <td>62.0</td>\n",
       "      <td>43.0</td>\n",
       "      <td>31.0</td>\n",
       "      <td>223</td>\n",
       "      <td>4.0</td>\n",
       "      <td>15.0</td>\n",
       "      <td>1</td>\n",
       "    </tr>\n",
       "    <tr>\n",
       "      <th>6028125</th>\n",
       "      <td>214.0</td>\n",
       "      <td>199.0</td>\n",
       "      <td>13.0</td>\n",
       "      <td>1390</td>\n",
       "      <td>6.0</td>\n",
       "      <td>9.0</td>\n",
       "      <td>1</td>\n",
       "    </tr>\n",
       "    <tr>\n",
       "      <th>3318600</th>\n",
       "      <td>75.0</td>\n",
       "      <td>45.0</td>\n",
       "      <td>30.0</td>\n",
       "      <td>171</td>\n",
       "      <td>3.0</td>\n",
       "      <td>27.0</td>\n",
       "      <td>1</td>\n",
       "    </tr>\n",
       "    <tr>\n",
       "      <th>...</th>\n",
       "      <td>...</td>\n",
       "      <td>...</td>\n",
       "      <td>...</td>\n",
       "      <td>...</td>\n",
       "      <td>...</td>\n",
       "      <td>...</td>\n",
       "      <td>...</td>\n",
       "    </tr>\n",
       "    <tr>\n",
       "      <th>5243010</th>\n",
       "      <td>173.0</td>\n",
       "      <td>152.0</td>\n",
       "      <td>21.0</td>\n",
       "      <td>1123</td>\n",
       "      <td>7.0</td>\n",
       "      <td>14.0</td>\n",
       "      <td>1</td>\n",
       "    </tr>\n",
       "    <tr>\n",
       "      <th>3690122</th>\n",
       "      <td>244.0</td>\n",
       "      <td>234.0</td>\n",
       "      <td>59.0</td>\n",
       "      <td>1999</td>\n",
       "      <td>4.0</td>\n",
       "      <td>6.0</td>\n",
       "      <td>1</td>\n",
       "    </tr>\n",
       "    <tr>\n",
       "      <th>1993642</th>\n",
       "      <td>56.0</td>\n",
       "      <td>35.0</td>\n",
       "      <td>92.0</td>\n",
       "      <td>177</td>\n",
       "      <td>8.0</td>\n",
       "      <td>13.0</td>\n",
       "      <td>1</td>\n",
       "    </tr>\n",
       "    <tr>\n",
       "      <th>3560523</th>\n",
       "      <td>210.0</td>\n",
       "      <td>183.0</td>\n",
       "      <td>20.0</td>\n",
       "      <td>1400</td>\n",
       "      <td>8.0</td>\n",
       "      <td>19.0</td>\n",
       "      <td>1</td>\n",
       "    </tr>\n",
       "    <tr>\n",
       "      <th>646314</th>\n",
       "      <td>100.0</td>\n",
       "      <td>81.0</td>\n",
       "      <td>10.0</td>\n",
       "      <td>408</td>\n",
       "      <td>4.0</td>\n",
       "      <td>15.0</td>\n",
       "      <td>1</td>\n",
       "    </tr>\n",
       "  </tbody>\n",
       "</table>\n",
       "<p>3000 rows × 7 columns</p>\n",
       "</div>"
      ],
      "text/plain": [
       "         ActualElapsedTime  AirTime  DepDelay  Distance  TaxiIn  TaxiOut  \\\n",
       "id                                                                         \n",
       "1787870              134.0     96.0      89.0       403    14.0     24.0   \n",
       "2264296              336.0    310.0       8.0      2342    10.0     16.0   \n",
       "3029928               62.0     43.0      31.0       223     4.0     15.0   \n",
       "6028125              214.0    199.0      13.0      1390     6.0      9.0   \n",
       "3318600               75.0     45.0      30.0       171     3.0     27.0   \n",
       "...                    ...      ...       ...       ...     ...      ...   \n",
       "5243010              173.0    152.0      21.0      1123     7.0     14.0   \n",
       "3690122              244.0    234.0      59.0      1999     4.0      6.0   \n",
       "1993642               56.0     35.0      92.0       177     8.0     13.0   \n",
       "3560523              210.0    183.0      20.0      1400     8.0     19.0   \n",
       "646314               100.0     81.0      10.0       408     4.0     15.0   \n",
       "\n",
       "         ArrDelay_delayed  \n",
       "id                         \n",
       "1787870                 1  \n",
       "2264296                 1  \n",
       "3029928                 1  \n",
       "6028125                 1  \n",
       "3318600                 1  \n",
       "...                   ...  \n",
       "5243010                 1  \n",
       "3690122                 1  \n",
       "1993642                 1  \n",
       "3560523                 1  \n",
       "646314                  1  \n",
       "\n",
       "[3000 rows x 7 columns]"
      ]
     },
     "metadata": {},
     "output_type": "display_data"
    },
    {
     "data": {
      "text/html": [
       "<div>\n",
       "<style scoped>\n",
       "    .dataframe tbody tr th:only-of-type {\n",
       "        vertical-align: middle;\n",
       "    }\n",
       "\n",
       "    .dataframe tbody tr th {\n",
       "        vertical-align: top;\n",
       "    }\n",
       "\n",
       "    .dataframe thead th {\n",
       "        text-align: right;\n",
       "    }\n",
       "</style>\n",
       "<table border=\"1\" class=\"dataframe\">\n",
       "  <thead>\n",
       "    <tr style=\"text-align: right;\">\n",
       "      <th></th>\n",
       "      <th>ActualElapsedTime</th>\n",
       "      <th>AirTime</th>\n",
       "      <th>DepDelay</th>\n",
       "      <th>Distance</th>\n",
       "      <th>TaxiIn</th>\n",
       "      <th>TaxiOut</th>\n",
       "    </tr>\n",
       "    <tr>\n",
       "      <th>id</th>\n",
       "      <th></th>\n",
       "      <th></th>\n",
       "      <th></th>\n",
       "      <th></th>\n",
       "      <th></th>\n",
       "      <th></th>\n",
       "    </tr>\n",
       "  </thead>\n",
       "  <tbody>\n",
       "    <tr>\n",
       "      <th>1787870</th>\n",
       "      <td>134.0</td>\n",
       "      <td>96.0</td>\n",
       "      <td>89.0</td>\n",
       "      <td>403</td>\n",
       "      <td>14.0</td>\n",
       "      <td>24.0</td>\n",
       "    </tr>\n",
       "    <tr>\n",
       "      <th>2264296</th>\n",
       "      <td>336.0</td>\n",
       "      <td>310.0</td>\n",
       "      <td>8.0</td>\n",
       "      <td>2342</td>\n",
       "      <td>10.0</td>\n",
       "      <td>16.0</td>\n",
       "    </tr>\n",
       "    <tr>\n",
       "      <th>3029928</th>\n",
       "      <td>62.0</td>\n",
       "      <td>43.0</td>\n",
       "      <td>31.0</td>\n",
       "      <td>223</td>\n",
       "      <td>4.0</td>\n",
       "      <td>15.0</td>\n",
       "    </tr>\n",
       "    <tr>\n",
       "      <th>6028125</th>\n",
       "      <td>214.0</td>\n",
       "      <td>199.0</td>\n",
       "      <td>13.0</td>\n",
       "      <td>1390</td>\n",
       "      <td>6.0</td>\n",
       "      <td>9.0</td>\n",
       "    </tr>\n",
       "    <tr>\n",
       "      <th>3318600</th>\n",
       "      <td>75.0</td>\n",
       "      <td>45.0</td>\n",
       "      <td>30.0</td>\n",
       "      <td>171</td>\n",
       "      <td>3.0</td>\n",
       "      <td>27.0</td>\n",
       "    </tr>\n",
       "  </tbody>\n",
       "</table>\n",
       "</div>"
      ],
      "text/plain": [
       "         ActualElapsedTime  AirTime  DepDelay  Distance  TaxiIn  TaxiOut\n",
       "id                                                                      \n",
       "1787870              134.0     96.0      89.0       403    14.0     24.0\n",
       "2264296              336.0    310.0       8.0      2342    10.0     16.0\n",
       "3029928               62.0     43.0      31.0       223     4.0     15.0\n",
       "6028125              214.0    199.0      13.0      1390     6.0      9.0\n",
       "3318600               75.0     45.0      30.0       171     3.0     27.0"
      ]
     },
     "metadata": {},
     "output_type": "display_data"
    },
    {
     "data": {
      "text/plain": [
       "id\n",
       "1787870    1\n",
       "2264296    1\n",
       "3029928    1\n",
       "6028125    1\n",
       "3318600    1\n",
       "Name: ArrDelay_delayed, dtype: int32"
      ]
     },
     "metadata": {},
     "output_type": "display_data"
    }
   ],
   "source": [
    "# Creació de la mostra d'entrenament i validació\n",
    "#seed(1234)\n",
    "mostra_entrenament_x, mostra_validacio_x, mostra_entrenament_y, mostra_validacio_y = train_test_split(x, y, test_size = 0.2, random_state=5678)\n",
    "\n",
    "mostra_entrenament = pd.concat([mostra_entrenament_x, mostra_entrenament_y], axis=1)\n",
    "mostra_validacio = pd.concat([mostra_validacio_x, mostra_validacio_y], axis=1)\n",
    "\n",
    "print(\"Tamany de mostra d'entrenament: {}\".format(mostra_entrenament_x.shape[0]))\n",
    "print(\"Tamany de mostra de validació: {}\".format(mostra_validacio_x.shape[0]))\n",
    "\n",
    "display(mostra_entrenament)\n",
    "display(mostra_entrenament_x.head())\n",
    "display(mostra_entrenament_y.head())\n",
    "\n",
    "display(mostra_validacio)\n",
    "display(mostra_validacio_x.head())\n",
    "display(mostra_validacio_y.head())"
   ]
  },
  {
   "cell_type": "code",
   "execution_count": 30,
   "metadata": {
    "ExecuteTime": {
     "end_time": "2021-07-03T10:23:39.946564Z",
     "start_time": "2021-07-03T10:23:37.128575Z"
    }
   },
   "outputs": [],
   "source": [
    "# Model de xarxes neuronals\n",
    "xarxa_neuronal = MLPClassifier(hidden_layer_sizes=(8,8,8), activation='relu', solver='adam', max_iter=500, random_state=5678)\n",
    "xarxa_neuronal.fit(mostra_entrenament_x, mostra_entrenament_y)\n",
    "\n",
    "# Generem la predicció\n",
    "xarxa_neuronal_prediccio = xarxa_neuronal.predict(mostra_validacio_x)"
   ]
  },
  {
   "cell_type": "code",
   "execution_count": 31,
   "metadata": {
    "ExecuteTime": {
     "end_time": "2021-07-03T10:23:40.120464Z",
     "start_time": "2021-07-03T10:23:39.948565Z"
    }
   },
   "outputs": [],
   "source": [
    "# Model logístic\n",
    "logistica = LogisticRegression(max_iter=1000, random_state=5678)\n",
    "logistica.fit(mostra_entrenament_x, mostra_entrenament_y)\n",
    "\n",
    "# Generem la predicció\n",
    "logistica_prediccio = logistica.predict(mostra_validacio_x)"
   ]
  },
  {
   "cell_type": "code",
   "execution_count": 32,
   "metadata": {
    "ExecuteTime": {
     "end_time": "2021-07-03T10:23:40.803590Z",
     "start_time": "2021-07-03T10:23:40.123464Z"
    }
   },
   "outputs": [
    {
     "name": "stdout",
     "output_type": "stream",
     "text": [
      "[12:23:40] WARNING: C:/Users/Administrator/workspace/xgboost-win64_release_1.4.0/src/learner.cc:1095: Starting in XGBoost 1.3.0, the default evaluation metric used with the objective 'binary:logistic' was changed from 'error' to 'logloss'. Explicitly set eval_metric if you'd like to restore the old behavior.\n"
     ]
    }
   ],
   "source": [
    "# Model XGBoost\n",
    "xgboost = xgb.XGBClassifier(objective ='binary:logistic', use_label_encoder=False, random_state=5678)\n",
    "xgboost.fit(mostra_entrenament_x, mostra_entrenament_y)\n",
    "\n",
    "# Generem la predicció\n",
    "xgboost_prediccio = xgboost.predict(mostra_validacio_x)"
   ]
  },
  {
   "cell_type": "markdown",
   "metadata": {
    "ExecuteTime": {
     "end_time": "2021-06-21T20:44:02.472637Z",
     "start_time": "2021-06-21T20:44:02.452649Z"
    }
   },
   "source": [
    "- Exercici 2\n",
    "\n",
    "    Compara els models de classificació utilitzant la precisió (accuracy), una matriu de confiança i d’altres mètriques més avançades."
   ]
  },
  {
   "cell_type": "code",
   "execution_count": 33,
   "metadata": {
    "ExecuteTime": {
     "end_time": "2021-07-03T10:23:40.818582Z",
     "start_time": "2021-07-03T10:23:40.806588Z"
    }
   },
   "outputs": [
    {
     "name": "stdout",
     "output_type": "stream",
     "text": [
      "0.8973\n",
      "0.901\n",
      "0.8977\n"
     ]
    }
   ],
   "source": [
    "# Calculem el grau de exactitud\n",
    "\n",
    "# Model de xarxes neuronals\n",
    "xarxa_neuronal_exactitud = round(metrics.accuracy_score(mostra_validacio_y, xarxa_neuronal_prediccio),4)\n",
    "print(xarxa_neuronal_exactitud)\n",
    "\n",
    "# Model logístic\n",
    "logistica_exactitud = round(metrics.accuracy_score(mostra_validacio_y, logistica_prediccio),4)\n",
    "print(logistica_exactitud)\n",
    "\n",
    "# Model XGBoost\n",
    "xgboost_exactitud = round(metrics.accuracy_score(mostra_validacio_y, xgboost_prediccio),4)\n",
    "print(xgboost_exactitud)"
   ]
  },
  {
   "cell_type": "markdown",
   "metadata": {},
   "source": [
    "El model més exacte és el de XGBoost"
   ]
  },
  {
   "cell_type": "code",
   "execution_count": 34,
   "metadata": {
    "ExecuteTime": {
     "end_time": "2021-07-03T10:23:40.850566Z",
     "start_time": "2021-07-03T10:23:40.821581Z"
    }
   },
   "outputs": [
    {
     "name": "stdout",
     "output_type": "stream",
     "text": [
      "[[  80  250]\n",
      " [  58 2612]]\n",
      "[[  81  249]\n",
      " [  48 2622]]\n",
      "[[ 117  213]\n",
      " [  94 2576]]\n"
     ]
    }
   ],
   "source": [
    "# Calculem la matriu de confusió\n",
    "\n",
    "# Model de xarxes neuronals\n",
    "xarxa_neuronal_matriu_confusio = metrics.confusion_matrix(mostra_validacio_y, xarxa_neuronal_prediccio)\n",
    "print(xarxa_neuronal_matriu_confusio)\n",
    "\n",
    "# Model logístic\n",
    "logistica_matriu_confusio = metrics.confusion_matrix(mostra_validacio_y, logistica_prediccio)\n",
    "print(logistica_matriu_confusio)\n",
    "\n",
    "# Model XGBoost\n",
    "xgboost_matriu_confusio = metrics.confusion_matrix(mostra_validacio_y, xgboost_prediccio)\n",
    "print(xgboost_matriu_confusio)"
   ]
  },
  {
   "cell_type": "markdown",
   "metadata": {},
   "source": [
    "El model amb una matriu de confusió amb més verdaders positius i verdaders negatius és el de XGBoost."
   ]
  },
  {
   "cell_type": "code",
   "execution_count": 35,
   "metadata": {
    "ExecuteTime": {
     "end_time": "2021-07-03T10:23:40.882545Z",
     "start_time": "2021-07-03T10:23:40.853561Z"
    }
   },
   "outputs": [
    {
     "name": "stdout",
     "output_type": "stream",
     "text": [
      "0.9126\n",
      "0.9133\n",
      "0.9236\n"
     ]
    }
   ],
   "source": [
    "# Calculem el grau de precisió\n",
    "\n",
    "# Model de xarxes neuronals\n",
    "xarxa_neuronal_precisio = round(metrics.precision_score(mostra_validacio_y, xarxa_neuronal_prediccio),4)\n",
    "print(xarxa_neuronal_precisio)\n",
    "\n",
    "# Model logístic\n",
    "logistica_precisio = round(metrics.precision_score(mostra_validacio_y, logistica_prediccio),4)\n",
    "print(logistica_precisio)\n",
    "\n",
    "# Model XGBoost\n",
    "xgboost_precisio = round(metrics.precision_score(mostra_validacio_y, xgboost_prediccio),4)\n",
    "print(xgboost_precisio)"
   ]
  },
  {
   "cell_type": "markdown",
   "metadata": {
    "ExecuteTime": {
     "end_time": "2021-06-24T17:13:50.364092Z",
     "start_time": "2021-06-24T17:13:50.332858Z"
    }
   },
   "source": [
    "El model més precís és el XGBoost"
   ]
  },
  {
   "cell_type": "code",
   "execution_count": 36,
   "metadata": {
    "ExecuteTime": {
     "end_time": "2021-07-03T10:23:40.914526Z",
     "start_time": "2021-07-03T10:23:40.885544Z"
    }
   },
   "outputs": [
    {
     "name": "stdout",
     "output_type": "stream",
     "text": [
      "0.6104\n",
      "0.6137\n",
      "0.6597\n"
     ]
    }
   ],
   "source": [
    "# Calculem l'àrea sota la corba\n",
    "\n",
    "# Model de xarxes neuronals\n",
    "xarxa_neuronal_asc = round(metrics.roc_auc_score(mostra_validacio_y, xarxa_neuronal_prediccio),4)\n",
    "print(xarxa_neuronal_asc)\n",
    "\n",
    "# Model logístic\n",
    "logistica_asc = round(metrics.roc_auc_score(mostra_validacio_y, logistica_prediccio),4)\n",
    "print(logistica_asc)\n",
    "\n",
    "# Model XGBoost\n",
    "xgboost_asc = round(metrics.roc_auc_score(mostra_validacio_y, xgboost_prediccio),4)\n",
    "print(xgboost_asc)"
   ]
  },
  {
   "cell_type": "markdown",
   "metadata": {},
   "source": [
    "El model amb una àrea sota la corba és el XGBoost"
   ]
  },
  {
   "cell_type": "markdown",
   "metadata": {},
   "source": [
    "- Exercici 3\n",
    "\n",
    "    Entrena’ls utilitzant els diferents paràmetres que admeten."
   ]
  },
  {
   "cell_type": "code",
   "execution_count": 37,
   "metadata": {
    "ExecuteTime": {
     "end_time": "2021-07-03T10:35:50.156058Z",
     "start_time": "2021-07-03T10:23:40.916526Z"
    }
   },
   "outputs": [
    {
     "name": "stdout",
     "output_type": "stream",
     "text": [
      "Els paràmetres que afinen millor la métrica són: \n",
      "{'activation': 'relu', 'hidden_layer_sizes': [8, 8, 8, 8], 'solver': 'lbfgs'}\n",
      "\n"
     ]
    }
   ],
   "source": [
    "# Model xarxa neuronal\n",
    "\n",
    "# Definició dels paràmetres a afinar\n",
    "xarxa_neuronal_parametres_a_afinar = {'hidden_layer_sizes': [[8,8],[8,8,8],[8,8,8,8]], 'activation': ['identity', 'logistic', 'tanh', 'relu'],'solver': ['lbfgs', 'sgd', 'adam'],}\n",
    "\n",
    "# Métrica escollida d'entre: precision, recall, f1, f1_weighted, f1_micro, f1_macro, accuracy, roc_auc\n",
    "xarxa_neuronal_metrica = 'accuracy'\n",
    "\n",
    "# Entrenament dels hiper_paràmetres de la métrica escollida\n",
    "xarxa_neuronal_entrenament = GridSearchCV(estimator = MLPClassifier(max_iter=500,random_state=5678), param_grid = xarxa_neuronal_parametres_a_afinar, cv=10, scoring='%s' % xarxa_neuronal_metrica, n_jobs= -1)\n",
    "# Ajust\n",
    "xarxa_neuronal_entrenament.fit(mostra_entrenament_x, mostra_entrenament_y)\n",
    "    \n",
    "print(\"Els paràmetres que afinen millor la métrica són: \\n{}\\n\".format(xarxa_neuronal_entrenament.best_params_))\n",
    "\n",
    "xarxa_neuronal_metrica_mitjana = xarxa_neuronal_entrenament.cv_results_['mean_test_score']\n",
    "xarxa_neuronal_metrica_desviacio_estandar = xarxa_neuronal_entrenament.cv_results_['std_test_score']"
   ]
  },
  {
   "cell_type": "code",
   "execution_count": 38,
   "metadata": {
    "ExecuteTime": {
     "end_time": "2021-07-03T10:35:50.188050Z",
     "start_time": "2021-07-03T10:35:50.156058Z"
    }
   },
   "outputs": [
    {
     "name": "stdout",
     "output_type": "stream",
     "text": [
      "Llista de puntuacións obtinguda en les diferents combinacions de hiper_paràmetres:\n",
      "\n",
      "Puntuació   Desv. Estd.     Paràmetres\n",
      "====================================================================================================\n",
      "0.9128   |  [+/-0.0]  |  {'activation': 'identity', 'hidden_layer_sizes': [8, 8], 'solver': 'lbfgs'}\n",
      "____________________________________________________________________________________________________\n",
      "0.912   |  [+/-0.0]  |  {'activation': 'identity', 'hidden_layer_sizes': [8, 8], 'solver': 'sgd'}\n",
      "____________________________________________________________________________________________________\n",
      "0.9119   |  [+/-0.0204]  |  {'activation': 'identity', 'hidden_layer_sizes': [8, 8], 'solver': 'adam'}\n",
      "____________________________________________________________________________________________________\n",
      "0.9118   |  [+/-0.0003]  |  {'activation': 'identity', 'hidden_layer_sizes': [8, 8, 8], 'solver': 'lbfgs'}\n",
      "____________________________________________________________________________________________________\n",
      "0.9117   |  [+/-0.0]  |  {'activation': 'identity', 'hidden_layer_sizes': [8, 8, 8], 'solver': 'sgd'}\n",
      "____________________________________________________________________________________________________\n",
      "0.9113   |  [+/-0.0076]  |  {'activation': 'identity', 'hidden_layer_sizes': [8, 8, 8], 'solver': 'adam'}\n",
      "____________________________________________________________________________________________________\n",
      "0.9105   |  [+/-0.0]  |  {'activation': 'identity', 'hidden_layer_sizes': [8, 8, 8, 8], 'solver': 'lbfgs'}\n",
      "____________________________________________________________________________________________________\n",
      "0.9067   |  [+/-0.0]  |  {'activation': 'identity', 'hidden_layer_sizes': [8, 8, 8, 8], 'solver': 'sgd'}\n",
      "____________________________________________________________________________________________________\n",
      "0.9063   |  [+/-0.0089]  |  {'activation': 'identity', 'hidden_layer_sizes': [8, 8, 8, 8], 'solver': 'adam'}\n",
      "____________________________________________________________________________________________________\n",
      "0.9062   |  [+/-0.0048]  |  {'activation': 'logistic', 'hidden_layer_sizes': [8, 8], 'solver': 'lbfgs'}\n",
      "____________________________________________________________________________________________________\n",
      "0.9045   |  [+/-0.0]  |  {'activation': 'logistic', 'hidden_layer_sizes': [8, 8], 'solver': 'sgd'}\n",
      "____________________________________________________________________________________________________\n",
      "0.9043   |  [+/-0.0096]  |  {'activation': 'logistic', 'hidden_layer_sizes': [8, 8], 'solver': 'adam'}\n",
      "____________________________________________________________________________________________________\n",
      "0.9034   |  [+/-0.0049]  |  {'activation': 'logistic', 'hidden_layer_sizes': [8, 8, 8], 'solver': 'lbfgs'}\n",
      "____________________________________________________________________________________________________\n",
      "0.9015   |  [+/-0.0]  |  {'activation': 'logistic', 'hidden_layer_sizes': [8, 8, 8], 'solver': 'sgd'}\n",
      "____________________________________________________________________________________________________\n",
      "0.9015   |  [+/-0.0072]  |  {'activation': 'logistic', 'hidden_layer_sizes': [8, 8, 8], 'solver': 'adam'}\n",
      "____________________________________________________________________________________________________\n",
      "0.9007   |  [+/-0.0]  |  {'activation': 'logistic', 'hidden_layer_sizes': [8, 8, 8, 8], 'solver': 'lbfgs'}\n",
      "____________________________________________________________________________________________________\n",
      "0.8997   |  [+/-0.0]  |  {'activation': 'logistic', 'hidden_layer_sizes': [8, 8, 8, 8], 'solver': 'sgd'}\n",
      "____________________________________________________________________________________________________\n",
      "0.8988   |  [+/-0.0]  |  {'activation': 'logistic', 'hidden_layer_sizes': [8, 8, 8, 8], 'solver': 'adam'}\n",
      "____________________________________________________________________________________________________\n",
      "0.8982   |  [+/-0.0076]  |  {'activation': 'tanh', 'hidden_layer_sizes': [8, 8], 'solver': 'lbfgs'}\n",
      "____________________________________________________________________________________________________\n",
      "0.8975   |  [+/-0.0]  |  {'activation': 'tanh', 'hidden_layer_sizes': [8, 8], 'solver': 'sgd'}\n",
      "____________________________________________________________________________________________________\n",
      "0.8975   |  [+/-0.0083]  |  {'activation': 'tanh', 'hidden_layer_sizes': [8, 8], 'solver': 'adam'}\n",
      "____________________________________________________________________________________________________\n",
      "0.8975   |  [+/-0.0049]  |  {'activation': 'tanh', 'hidden_layer_sizes': [8, 8, 8], 'solver': 'lbfgs'}\n",
      "____________________________________________________________________________________________________\n",
      "0.8975   |  [+/-0.0]  |  {'activation': 'tanh', 'hidden_layer_sizes': [8, 8, 8], 'solver': 'sgd'}\n",
      "____________________________________________________________________________________________________\n",
      "0.8975   |  [+/-0.0073]  |  {'activation': 'tanh', 'hidden_layer_sizes': [8, 8, 8], 'solver': 'adam'}\n",
      "____________________________________________________________________________________________________\n",
      "0.8975   |  [+/-0.0046]  |  {'activation': 'tanh', 'hidden_layer_sizes': [8, 8, 8, 8], 'solver': 'lbfgs'}\n",
      "____________________________________________________________________________________________________\n",
      "0.8975   |  [+/-0.0]  |  {'activation': 'tanh', 'hidden_layer_sizes': [8, 8, 8, 8], 'solver': 'sgd'}\n",
      "____________________________________________________________________________________________________\n",
      "0.8975   |  [+/-0.0061]  |  {'activation': 'tanh', 'hidden_layer_sizes': [8, 8, 8, 8], 'solver': 'adam'}\n",
      "____________________________________________________________________________________________________\n",
      "0.8975   |  [+/-0.0055]  |  {'activation': 'relu', 'hidden_layer_sizes': [8, 8], 'solver': 'lbfgs'}\n",
      "____________________________________________________________________________________________________\n",
      "0.8975   |  [+/-0.0]  |  {'activation': 'relu', 'hidden_layer_sizes': [8, 8], 'solver': 'sgd'}\n",
      "____________________________________________________________________________________________________\n",
      "0.8975   |  [+/-0.0126]  |  {'activation': 'relu', 'hidden_layer_sizes': [8, 8], 'solver': 'adam'}\n",
      "____________________________________________________________________________________________________\n",
      "0.8975   |  [+/-0.0004]  |  {'activation': 'relu', 'hidden_layer_sizes': [8, 8, 8], 'solver': 'lbfgs'}\n",
      "____________________________________________________________________________________________________\n",
      "0.8973   |  [+/-0.0068]  |  {'activation': 'relu', 'hidden_layer_sizes': [8, 8, 8], 'solver': 'sgd'}\n",
      "____________________________________________________________________________________________________\n",
      "0.897   |  [+/-0.0058]  |  {'activation': 'relu', 'hidden_layer_sizes': [8, 8, 8], 'solver': 'adam'}\n",
      "____________________________________________________________________________________________________\n",
      "0.1025   |  [+/-0.0058]  |  {'activation': 'relu', 'hidden_layer_sizes': [8, 8, 8, 8], 'solver': 'lbfgs'}\n",
      "____________________________________________________________________________________________________\n",
      "0.1025   |  [+/-0.0]  |  {'activation': 'relu', 'hidden_layer_sizes': [8, 8, 8, 8], 'solver': 'sgd'}\n",
      "____________________________________________________________________________________________________\n",
      "0.1025   |  [+/-0.005]  |  {'activation': 'relu', 'hidden_layer_sizes': [8, 8, 8, 8], 'solver': 'adam'}\n",
      "____________________________________________________________________________________________________\n"
     ]
    }
   ],
   "source": [
    "print(\"Llista de puntuacións obtinguda en les diferents combinacions de hiper_paràmetres:\\n\")\n",
    "print(\"Puntuació   Desv. Estd.     Paràmetres\")\n",
    "print(\"====================================================================================================\")\n",
    "\n",
    "for mitjana, desviacio_estandard, parametres in zip(np.sort(xarxa_neuronal_metrica_mitjana)[::-1], xarxa_neuronal_metrica_desviacio_estandar, xarxa_neuronal_entrenament.cv_results_['params']):\n",
    "    print(\"{}   |  [+/-{}]  |  {}\".format(round(mitjana,4), round(desviacio_estandard,4), parametres))\n",
    "    print(\"____________________________________________________________________________________________________\")"
   ]
  },
  {
   "cell_type": "code",
   "execution_count": 39,
   "metadata": {
    "ExecuteTime": {
     "end_time": "2021-07-03T10:37:25.439693Z",
     "start_time": "2021-07-03T10:35:50.188050Z"
    }
   },
   "outputs": [
    {
     "name": "stdout",
     "output_type": "stream",
     "text": [
      "Els paràmetres que afinen millor la métrica són: \n",
      "{'C': 1.0, 'penalty': 'l2', 'solver': 'lbfgs'}\n",
      "\n"
     ]
    }
   ],
   "source": [
    "# Model logístic\n",
    "\n",
    "# Definició dels paràmetres a afinar\n",
    "logistica_parametres_a_afinar = {'penalty': ['l2', 'none'],'C': [0.5,1.0,1.5],'solver': ['newton-cg', 'lbfgs', 'sag', 'saga'],}\n",
    "\n",
    "# Métrica escollida d'entre: precision, recall, f1, f1_weighted, f1_micro, f1_macro, accuracy, roc_auc\n",
    "logistica_metrica = 'accuracy'\n",
    "\n",
    "# Entrenament dels hiper_paràmetres de la métrica escollida\n",
    "logistica_entrenament = GridSearchCV(estimator = LogisticRegression(max_iter = 1000), param_grid = logistica_parametres_a_afinar, cv=10, scoring='%s' % logistica_metrica, n_jobs= -1)\n",
    "# Ajust\n",
    "logistica_entrenament.fit(mostra_entrenament_x, mostra_entrenament_y)\n",
    "    \n",
    "print(\"Els paràmetres que afinen millor la métrica són: \\n{}\\n\".format(logistica_entrenament.best_params_))\n",
    "\n",
    "logistica_metrica_mitjana = logistica_entrenament.cv_results_['mean_test_score']\n",
    "logistica_metrica_desviacio_estandar = logistica_entrenament.cv_results_['std_test_score']"
   ]
  },
  {
   "cell_type": "code",
   "execution_count": 40,
   "metadata": {
    "ExecuteTime": {
     "end_time": "2021-07-03T10:37:25.455691Z",
     "start_time": "2021-07-03T10:37:25.439693Z"
    }
   },
   "outputs": [
    {
     "name": "stdout",
     "output_type": "stream",
     "text": [
      "Llista de puntuacions obtinguda en les diferents combinacions de hiper_paràmetres:\n",
      "\n",
      "Puntuació   Desv. Estd.     Paràmetres\n",
      "====================================================================================================\n",
      "0.9126   |  [+/-0.0048]  |  {'C': 0.5, 'penalty': 'l2', 'solver': 'newton-cg'}\n",
      "____________________________________________________________________________________________________\n",
      "0.9125   |  [+/-0.0048]  |  {'C': 0.5, 'penalty': 'l2', 'solver': 'lbfgs'}\n",
      "____________________________________________________________________________________________________\n",
      "0.9125   |  [+/-0.0039]  |  {'C': 0.5, 'penalty': 'l2', 'solver': 'sag'}\n",
      "____________________________________________________________________________________________________\n",
      "0.9125   |  [+/-0.0038]  |  {'C': 0.5, 'penalty': 'l2', 'solver': 'saga'}\n",
      "____________________________________________________________________________________________________\n",
      "0.9125   |  [+/-0.0048]  |  {'C': 0.5, 'penalty': 'none', 'solver': 'newton-cg'}\n",
      "____________________________________________________________________________________________________\n",
      "0.9125   |  [+/-0.0048]  |  {'C': 0.5, 'penalty': 'none', 'solver': 'lbfgs'}\n",
      "____________________________________________________________________________________________________\n",
      "0.9125   |  [+/-0.0039]  |  {'C': 0.5, 'penalty': 'none', 'solver': 'sag'}\n",
      "____________________________________________________________________________________________________\n",
      "0.9125   |  [+/-0.0038]  |  {'C': 0.5, 'penalty': 'none', 'solver': 'saga'}\n",
      "____________________________________________________________________________________________________\n",
      "0.9125   |  [+/-0.0048]  |  {'C': 1.0, 'penalty': 'l2', 'solver': 'newton-cg'}\n",
      "____________________________________________________________________________________________________\n",
      "0.9125   |  [+/-0.0047]  |  {'C': 1.0, 'penalty': 'l2', 'solver': 'lbfgs'}\n",
      "____________________________________________________________________________________________________\n",
      "0.9125   |  [+/-0.0039]  |  {'C': 1.0, 'penalty': 'l2', 'solver': 'sag'}\n",
      "____________________________________________________________________________________________________\n",
      "0.9124   |  [+/-0.0038]  |  {'C': 1.0, 'penalty': 'l2', 'solver': 'saga'}\n",
      "____________________________________________________________________________________________________\n",
      "0.9025   |  [+/-0.0048]  |  {'C': 1.0, 'penalty': 'none', 'solver': 'newton-cg'}\n",
      "____________________________________________________________________________________________________\n",
      "0.9025   |  [+/-0.0048]  |  {'C': 1.0, 'penalty': 'none', 'solver': 'lbfgs'}\n",
      "____________________________________________________________________________________________________\n",
      "0.9025   |  [+/-0.0039]  |  {'C': 1.0, 'penalty': 'none', 'solver': 'sag'}\n",
      "____________________________________________________________________________________________________\n",
      "0.9025   |  [+/-0.0038]  |  {'C': 1.0, 'penalty': 'none', 'solver': 'saga'}\n",
      "____________________________________________________________________________________________________\n",
      "0.9025   |  [+/-0.0048]  |  {'C': 1.5, 'penalty': 'l2', 'solver': 'newton-cg'}\n",
      "____________________________________________________________________________________________________\n",
      "0.9025   |  [+/-0.0049]  |  {'C': 1.5, 'penalty': 'l2', 'solver': 'lbfgs'}\n",
      "____________________________________________________________________________________________________\n",
      "0.9023   |  [+/-0.0039]  |  {'C': 1.5, 'penalty': 'l2', 'solver': 'sag'}\n",
      "____________________________________________________________________________________________________\n",
      "0.9023   |  [+/-0.0038]  |  {'C': 1.5, 'penalty': 'l2', 'solver': 'saga'}\n",
      "____________________________________________________________________________________________________\n",
      "0.9023   |  [+/-0.0048]  |  {'C': 1.5, 'penalty': 'none', 'solver': 'newton-cg'}\n",
      "____________________________________________________________________________________________________\n",
      "0.9023   |  [+/-0.0048]  |  {'C': 1.5, 'penalty': 'none', 'solver': 'lbfgs'}\n",
      "____________________________________________________________________________________________________\n",
      "0.9023   |  [+/-0.0039]  |  {'C': 1.5, 'penalty': 'none', 'solver': 'sag'}\n",
      "____________________________________________________________________________________________________\n",
      "0.9023   |  [+/-0.0038]  |  {'C': 1.5, 'penalty': 'none', 'solver': 'saga'}\n",
      "____________________________________________________________________________________________________\n"
     ]
    }
   ],
   "source": [
    "print(\"Llista de puntuacions obtinguda en les diferents combinacions de hiper_paràmetres:\\n\")\n",
    "print(\"Puntuació   Desv. Estd.     Paràmetres\")\n",
    "print(\"====================================================================================================\")\n",
    "\n",
    "for mitjana, desviacio_estandard, parametres in zip(np.sort(logistica_metrica_mitjana)[::-1], logistica_metrica_desviacio_estandar, logistica_entrenament.cv_results_['params']):\n",
    "    print(\"{}   |  [+/-{}]  |  {}\".format(round(mitjana,4), round(desviacio_estandard,4), parametres))\n",
    "    print(\"____________________________________________________________________________________________________\")"
   ]
  },
  {
   "cell_type": "code",
   "execution_count": 41,
   "metadata": {
    "ExecuteTime": {
     "end_time": "2021-07-03T10:37:52.031530Z",
     "start_time": "2021-07-03T10:37:25.459689Z"
    }
   },
   "outputs": [
    {
     "name": "stdout",
     "output_type": "stream",
     "text": [
      "[12:37:51] WARNING: C:/Users/Administrator/workspace/xgboost-win64_release_1.4.0/src/learner.cc:1095: Starting in XGBoost 1.3.0, the default evaluation metric used with the objective 'binary:logistic' was changed from 'error' to 'logloss'. Explicitly set eval_metric if you'd like to restore the old behavior.\n",
      "Els paràmetres que afinen millor la métrica són: \n",
      "{'booster': 'gbtree'}\n",
      "\n"
     ]
    }
   ],
   "source": [
    "# Model XGBoost\n",
    "\n",
    "# Definició dels paràmetres a afinar\n",
    "xgboost_parametres_a_afinar = {'booster': ['gbtree', 'gblinear', 'dart'],}\n",
    "\n",
    "# Métrica escollida d'entre: precision, recall, f1, f1_weighted, f1_micro, f1_macro, accuracy, roc_auc\n",
    "xgboost_metrica = 'accuracy'\n",
    "\n",
    "# Entrenament dels hiper_paràmetres de la métrica escollida\n",
    "xgboost_entrenament = GridSearchCV(estimator = xgb.XGBClassifier(objective ='binary:logistic', use_label_encoder = False, random_state = 5678), param_grid = xgboost_parametres_a_afinar, cv=10, scoring='%s' % xgboost_metrica, n_jobs= -1)\n",
    "# Ajust\n",
    "xgboost_entrenament.fit(mostra_entrenament_x, mostra_entrenament_y)\n",
    "    \n",
    "print(\"Els paràmetres que afinen millor la métrica són: \\n{}\\n\".format(xgboost_entrenament.best_params_))\n",
    "\n",
    "xgboost_metrica_mitjana = xgboost_entrenament.cv_results_['mean_test_score']\n",
    "xgboost_metrica_desviacio_estandar = xgboost_entrenament.cv_results_['std_test_score']"
   ]
  },
  {
   "cell_type": "code",
   "execution_count": 42,
   "metadata": {
    "ExecuteTime": {
     "end_time": "2021-07-03T10:37:52.046553Z",
     "start_time": "2021-07-03T10:37:52.031530Z"
    }
   },
   "outputs": [
    {
     "name": "stdout",
     "output_type": "stream",
     "text": [
      "Llista de puntuacions obtinguda en les diferents combinacions de hiper_paràmetres:\n",
      "\n",
      "Puntuació   Desv. Estd.     Paràmetres\n",
      "====================================================================================================\n",
      "0.9109   |  [+/-0.0023]  |  {'booster': 'gbtree'}\n",
      "____________________________________________________________________________________________________\n",
      "0.9109   |  [+/-0.0047]  |  {'booster': 'gblinear'}\n",
      "____________________________________________________________________________________________________\n",
      "0.9095   |  [+/-0.0023]  |  {'booster': 'dart'}\n",
      "____________________________________________________________________________________________________\n"
     ]
    }
   ],
   "source": [
    "print(\"Llista de puntuacions obtinguda en les diferents combinacions de hiper_paràmetres:\\n\")\n",
    "print(\"Puntuació   Desv. Estd.     Paràmetres\")\n",
    "print(\"====================================================================================================\")\n",
    "\n",
    "for mitjana, desviacio_estandard, parametres in zip(np.sort(xgboost_metrica_mitjana)[::-1], xgboost_metrica_desviacio_estandar, xgboost_entrenament.cv_results_['params']):\n",
    "    print(\"{}   |  [+/-{}]  |  {}\".format(round(mitjana,4), round(desviacio_estandard,4), parametres))\n",
    "    print(\"____________________________________________________________________________________________________\")"
   ]
  },
  {
   "cell_type": "markdown",
   "metadata": {},
   "source": [
    "- Exercici 4\n",
    "\n",
    "    Compara el seu rendiment utilitzant l’aproximació traint/test o cross-validation."
   ]
  },
  {
   "cell_type": "code",
   "execution_count": 43,
   "metadata": {
    "ExecuteTime": {
     "end_time": "2021-07-03T10:37:52.075632Z",
     "start_time": "2021-07-03T10:37:52.049596Z"
    }
   },
   "outputs": [
    {
     "name": "stdout",
     "output_type": "stream",
     "text": [
      "Exactitud:            0.8973\n",
      "Àrea sota la corba  : 0.6104\n"
     ]
    }
   ],
   "source": [
    "# Model xarxa neuronal\n",
    "\n",
    "xarxa_neuronal_prediccio_rendiment = xarxa_neuronal.predict(mostra_validacio_x)\n",
    "xarxa_neuronal_metrica_exactitud_prediccio_rendiment = round(metrics.accuracy_score(mostra_validacio_y, xarxa_neuronal_prediccio_rendiment),4)\n",
    "xarxa_neuronal_metrica_asc_prediccio_rendiment = round(metrics.roc_auc_score(mostra_validacio_y, xarxa_neuronal_prediccio_rendiment),4)\n",
    "\n",
    "#print(classification_report(mostra_validacio_y, xarxa_neuronal_prediccio_rendiment))\n",
    "print(\"Exactitud:           \", xarxa_neuronal_metrica_exactitud_prediccio_rendiment)\n",
    "print(\"Àrea sota la corba  :\", xarxa_neuronal_metrica_asc_prediccio_rendiment)"
   ]
  },
  {
   "cell_type": "code",
   "execution_count": 44,
   "metadata": {
    "ExecuteTime": {
     "end_time": "2021-07-03T10:37:52.103625Z",
     "start_time": "2021-07-03T10:37:52.079630Z"
    }
   },
   "outputs": [
    {
     "name": "stdout",
     "output_type": "stream",
     "text": [
      "Exactitud:            0.901\n",
      "Àrea sota la corba  : 0.6137\n"
     ]
    }
   ],
   "source": [
    "# Model logístic\n",
    "\n",
    "logistica_prediccio_rendiment = logistica.predict(mostra_validacio_x)\n",
    "logistica_metrica_exactitud_prediccio_rendiment = round(metrics.accuracy_score(mostra_validacio_y, logistica_prediccio_rendiment),4)\n",
    "logistica_metrica_asc_prediccio_rendiment = round(metrics.roc_auc_score(mostra_validacio_y, logistica_prediccio_rendiment),4)\n",
    "\n",
    "#print(classification_report(mostra_validacio_y, logistica_prediccio_rendiment))\n",
    "print(\"Exactitud:           \", logistica_metrica_exactitud_prediccio_rendiment)\n",
    "print(\"Àrea sota la corba  :\", logistica_metrica_asc_prediccio_rendiment)"
   ]
  },
  {
   "cell_type": "code",
   "execution_count": 45,
   "metadata": {
    "ExecuteTime": {
     "end_time": "2021-07-03T10:37:52.133666Z",
     "start_time": "2021-07-03T10:37:52.103625Z"
    }
   },
   "outputs": [
    {
     "name": "stdout",
     "output_type": "stream",
     "text": [
      "Exactitud:            0.8977\n",
      "Àrea sota la corba:   0.6597\n"
     ]
    }
   ],
   "source": [
    "# Model XGBoost\n",
    "\n",
    "xgboost_prediccio_rendiment = xgboost.predict(mostra_validacio_x)\n",
    "xgboost_metrica_exactitud_prediccio_rendiment = round(metrics.accuracy_score(mostra_validacio_y, xgboost_prediccio_rendiment),4)\n",
    "xgboost_metrica_asc_prediccio_rendiment = round(metrics.roc_auc_score(mostra_validacio_y, xgboost_prediccio_rendiment),4)\n",
    "\n",
    "#print(classification_report(mostra_validacio_y, xgboost_prediccio_rendiment))\n",
    "print(\"Exactitud:           \", xgboost_metrica_exactitud_prediccio_rendiment)\n",
    "print(\"Àrea sota la corba:  \", xgboost_metrica_asc_prediccio_rendiment)"
   ]
  },
  {
   "cell_type": "markdown",
   "metadata": {},
   "source": [
    "## Nivell 2\n",
    "\n",
    "- Exercici 5\n",
    "\n",
    "    Realitza algun procés d’enginyeria de variables per millorar-ne la predicció."
   ]
  },
  {
   "cell_type": "code",
   "execution_count": 46,
   "metadata": {
    "ExecuteTime": {
     "end_time": "2021-07-03T10:37:52.145663Z",
     "start_time": "2021-07-03T10:37:52.133666Z"
    }
   },
   "outputs": [
    {
     "name": "stdout",
     "output_type": "stream",
     "text": [
      "['ActualElapsedTime', 'AirTime', 'DepDelay', 'Distance', 'TaxiIn', 'TaxiOut']\n"
     ]
    }
   ],
   "source": [
    "# Refarem el dataframe de vols per tal de normalitzar-lo\n",
    "# Primer mirem quines columnes hi ha a normalitzar, és a dir, numériques\n",
    "columnes = []\n",
    "columnes.extend(x.columns)\n",
    "columnes.insert(len(columnes),y.name)\n",
    "columnes_a_normalitzar = []\n",
    "columnes_a_normalitzar.extend(x.columns)\n",
    "\n",
    "print(columnes_a_normalitzar)"
   ]
  },
  {
   "cell_type": "code",
   "execution_count": 47,
   "metadata": {
    "ExecuteTime": {
     "end_time": "2021-07-03T10:37:52.175720Z",
     "start_time": "2021-07-03T10:37:52.146693Z"
    }
   },
   "outputs": [
    {
     "data": {
      "text/plain": [
       "array([[0.18646617, 0.19543974, 0.01464844, 0.18373555, 0.0625    ,\n",
       "        0.0224359 ],\n",
       "       [0.15789474, 0.15798046, 0.03808594, 0.13100791, 0.05208333,\n",
       "        0.03846154],\n",
       "       [0.09774436, 0.07166124, 0.00390625, 0.05252484, 0.03125   ,\n",
       "        0.08653846],\n",
       "       ...,\n",
       "       [0.21052632, 0.20358306, 0.06835938, 0.18130197, 0.05208333,\n",
       "        0.06089744],\n",
       "       [0.16691729, 0.12540717, 0.01269531, 0.09815453, 0.27083333,\n",
       "        0.05448718],\n",
       "       [0.06616541, 0.04560261, 0.        , 0.03346177, 0.13541667,\n",
       "        0.03846154]])"
      ]
     },
     "metadata": {},
     "output_type": "display_data"
    }
   ],
   "source": [
    "# Fem cópia de 'vols'\n",
    "vols_normalitzat = vols.copy()\n",
    "vols_normalitzat = vols_normalitzat[columnes]\n",
    "\n",
    "# Normalitzem 'vols' --> 'vols_normalitzat'\n",
    "normalitzador = preprocessing.MinMaxScaler()\n",
    "vols_normalitzat_normalitzades = normalitzador.fit_transform(vols_normalitzat[columnes_a_normalitzar])\n",
    "display(vols_normalitzat_normalitzades)"
   ]
  },
  {
   "cell_type": "code",
   "execution_count": 48,
   "metadata": {
    "ExecuteTime": {
     "end_time": "2021-07-03T10:37:52.213765Z",
     "start_time": "2021-07-03T10:37:52.175720Z"
    }
   },
   "outputs": [
    {
     "name": "stdout",
     "output_type": "stream",
     "text": [
      "['ActualElapsedTime', 'AirTime', 'DepDelay', 'Distance', 'TaxiIn', 'TaxiOut']\n"
     ]
    },
    {
     "data": {
      "text/html": [
       "<div>\n",
       "<style scoped>\n",
       "    .dataframe tbody tr th:only-of-type {\n",
       "        vertical-align: middle;\n",
       "    }\n",
       "\n",
       "    .dataframe tbody tr th {\n",
       "        vertical-align: top;\n",
       "    }\n",
       "\n",
       "    .dataframe thead th {\n",
       "        text-align: right;\n",
       "    }\n",
       "</style>\n",
       "<table border=\"1\" class=\"dataframe\">\n",
       "  <thead>\n",
       "    <tr style=\"text-align: right;\">\n",
       "      <th></th>\n",
       "      <th>ActualElapsedTime</th>\n",
       "      <th>AirTime</th>\n",
       "      <th>DepDelay</th>\n",
       "      <th>Distance</th>\n",
       "      <th>TaxiIn</th>\n",
       "      <th>TaxiOut</th>\n",
       "      <th>ArrDelay_delayed</th>\n",
       "    </tr>\n",
       "    <tr>\n",
       "      <th>id</th>\n",
       "      <th></th>\n",
       "      <th></th>\n",
       "      <th></th>\n",
       "      <th></th>\n",
       "      <th></th>\n",
       "      <th></th>\n",
       "      <th></th>\n",
       "    </tr>\n",
       "  </thead>\n",
       "  <tbody>\n",
       "    <tr>\n",
       "      <th>3696449</th>\n",
       "      <td>0.186466</td>\n",
       "      <td>0.195440</td>\n",
       "      <td>0.014648</td>\n",
       "      <td>0.183736</td>\n",
       "      <td>0.062500</td>\n",
       "      <td>0.022436</td>\n",
       "      <td>1</td>\n",
       "    </tr>\n",
       "    <tr>\n",
       "      <th>6652612</th>\n",
       "      <td>0.157895</td>\n",
       "      <td>0.157980</td>\n",
       "      <td>0.038086</td>\n",
       "      <td>0.131008</td>\n",
       "      <td>0.052083</td>\n",
       "      <td>0.038462</td>\n",
       "      <td>1</td>\n",
       "    </tr>\n",
       "    <tr>\n",
       "      <th>3639563</th>\n",
       "      <td>0.097744</td>\n",
       "      <td>0.071661</td>\n",
       "      <td>0.003906</td>\n",
       "      <td>0.052525</td>\n",
       "      <td>0.031250</td>\n",
       "      <td>0.086538</td>\n",
       "      <td>0</td>\n",
       "    </tr>\n",
       "    <tr>\n",
       "      <th>2194623</th>\n",
       "      <td>0.088722</td>\n",
       "      <td>0.042345</td>\n",
       "      <td>0.002930</td>\n",
       "      <td>0.029609</td>\n",
       "      <td>0.052083</td>\n",
       "      <td>0.118590</td>\n",
       "      <td>1</td>\n",
       "    </tr>\n",
       "    <tr>\n",
       "      <th>6222288</th>\n",
       "      <td>0.524812</td>\n",
       "      <td>0.480456</td>\n",
       "      <td>0.007812</td>\n",
       "      <td>0.495640</td>\n",
       "      <td>0.395833</td>\n",
       "      <td>0.080128</td>\n",
       "      <td>1</td>\n",
       "    </tr>\n",
       "    <tr>\n",
       "      <th>...</th>\n",
       "      <td>...</td>\n",
       "      <td>...</td>\n",
       "      <td>...</td>\n",
       "      <td>...</td>\n",
       "      <td>...</td>\n",
       "      <td>...</td>\n",
       "      <td>...</td>\n",
       "    </tr>\n",
       "    <tr>\n",
       "      <th>2713469</th>\n",
       "      <td>0.069173</td>\n",
       "      <td>0.063518</td>\n",
       "      <td>0.022461</td>\n",
       "      <td>0.028392</td>\n",
       "      <td>0.083333</td>\n",
       "      <td>0.025641</td>\n",
       "      <td>1</td>\n",
       "    </tr>\n",
       "    <tr>\n",
       "      <th>5926114</th>\n",
       "      <td>0.201504</td>\n",
       "      <td>0.192182</td>\n",
       "      <td>0.166016</td>\n",
       "      <td>0.211925</td>\n",
       "      <td>0.125000</td>\n",
       "      <td>0.041667</td>\n",
       "      <td>1</td>\n",
       "    </tr>\n",
       "    <tr>\n",
       "      <th>570932</th>\n",
       "      <td>0.210526</td>\n",
       "      <td>0.203583</td>\n",
       "      <td>0.068359</td>\n",
       "      <td>0.181302</td>\n",
       "      <td>0.052083</td>\n",
       "      <td>0.060897</td>\n",
       "      <td>1</td>\n",
       "    </tr>\n",
       "    <tr>\n",
       "      <th>4545661</th>\n",
       "      <td>0.166917</td>\n",
       "      <td>0.125407</td>\n",
       "      <td>0.012695</td>\n",
       "      <td>0.098155</td>\n",
       "      <td>0.270833</td>\n",
       "      <td>0.054487</td>\n",
       "      <td>1</td>\n",
       "    </tr>\n",
       "    <tr>\n",
       "      <th>4025328</th>\n",
       "      <td>0.066165</td>\n",
       "      <td>0.045603</td>\n",
       "      <td>0.000000</td>\n",
       "      <td>0.033462</td>\n",
       "      <td>0.135417</td>\n",
       "      <td>0.038462</td>\n",
       "      <td>1</td>\n",
       "    </tr>\n",
       "  </tbody>\n",
       "</table>\n",
       "<p>15000 rows × 7 columns</p>\n",
       "</div>"
      ],
      "text/plain": [
       "         ActualElapsedTime   AirTime  DepDelay  Distance    TaxiIn   TaxiOut  \\\n",
       "id                                                                             \n",
       "3696449           0.186466  0.195440  0.014648  0.183736  0.062500  0.022436   \n",
       "6652612           0.157895  0.157980  0.038086  0.131008  0.052083  0.038462   \n",
       "3639563           0.097744  0.071661  0.003906  0.052525  0.031250  0.086538   \n",
       "2194623           0.088722  0.042345  0.002930  0.029609  0.052083  0.118590   \n",
       "6222288           0.524812  0.480456  0.007812  0.495640  0.395833  0.080128   \n",
       "...                    ...       ...       ...       ...       ...       ...   \n",
       "2713469           0.069173  0.063518  0.022461  0.028392  0.083333  0.025641   \n",
       "5926114           0.201504  0.192182  0.166016  0.211925  0.125000  0.041667   \n",
       "570932            0.210526  0.203583  0.068359  0.181302  0.052083  0.060897   \n",
       "4545661           0.166917  0.125407  0.012695  0.098155  0.270833  0.054487   \n",
       "4025328           0.066165  0.045603  0.000000  0.033462  0.135417  0.038462   \n",
       "\n",
       "         ArrDelay_delayed  \n",
       "id                         \n",
       "3696449                 1  \n",
       "6652612                 1  \n",
       "3639563                 0  \n",
       "2194623                 1  \n",
       "6222288                 1  \n",
       "...                   ...  \n",
       "2713469                 1  \n",
       "5926114                 1  \n",
       "570932                  1  \n",
       "4545661                 1  \n",
       "4025328                 1  \n",
       "\n",
       "[15000 rows x 7 columns]"
      ]
     },
     "metadata": {},
     "output_type": "display_data"
    }
   ],
   "source": [
    "# Materialitzem la normalització en el dataframe\n",
    "k = 0\n",
    "print(columnes_a_normalitzar)\n",
    "\n",
    "for columna in columnes_a_normalitzar:\n",
    "    vols_normalitzat[columna] = vols_normalitzat_normalitzades[:,k]\n",
    "    k = k + 1\n",
    "\n",
    "display(vols_normalitzat)"
   ]
  },
  {
   "cell_type": "code",
   "execution_count": 49,
   "metadata": {
    "ExecuteTime": {
     "end_time": "2021-07-03T10:37:52.229826Z",
     "start_time": "2021-07-03T10:37:52.213765Z"
    }
   },
   "outputs": [],
   "source": [
    "## Variable dependent\n",
    "y = vols_normalitzat['ArrDelay_delayed']\n",
    "\n",
    "# Variables predictores\n",
    "x = vols_normalitzat.drop(['ArrDelay_delayed'], axis = 1)\n",
    "\n",
    "# LLista amb el nom dels predictors\n",
    "x_columnes = list(x.columns)"
   ]
  },
  {
   "cell_type": "code",
   "execution_count": 50,
   "metadata": {
    "ExecuteTime": {
     "end_time": "2021-07-03T10:37:52.331955Z",
     "start_time": "2021-07-03T10:37:52.231849Z"
    }
   },
   "outputs": [
    {
     "name": "stdout",
     "output_type": "stream",
     "text": [
      "Tamany de mostra d'entrenament: 12000\n",
      "Tamany de mostra de validació: 3000\n"
     ]
    },
    {
     "data": {
      "text/html": [
       "<div>\n",
       "<style scoped>\n",
       "    .dataframe tbody tr th:only-of-type {\n",
       "        vertical-align: middle;\n",
       "    }\n",
       "\n",
       "    .dataframe tbody tr th {\n",
       "        vertical-align: top;\n",
       "    }\n",
       "\n",
       "    .dataframe thead th {\n",
       "        text-align: right;\n",
       "    }\n",
       "</style>\n",
       "<table border=\"1\" class=\"dataframe\">\n",
       "  <thead>\n",
       "    <tr style=\"text-align: right;\">\n",
       "      <th></th>\n",
       "      <th>ActualElapsedTime</th>\n",
       "      <th>AirTime</th>\n",
       "      <th>DepDelay</th>\n",
       "      <th>Distance</th>\n",
       "      <th>TaxiIn</th>\n",
       "      <th>TaxiOut</th>\n",
       "      <th>ArrDelay_delayed</th>\n",
       "    </tr>\n",
       "    <tr>\n",
       "      <th>id</th>\n",
       "      <th></th>\n",
       "      <th></th>\n",
       "      <th></th>\n",
       "      <th></th>\n",
       "      <th></th>\n",
       "      <th></th>\n",
       "      <th></th>\n",
       "    </tr>\n",
       "  </thead>\n",
       "  <tbody>\n",
       "    <tr>\n",
       "      <th>1020517</th>\n",
       "      <td>0.171429</td>\n",
       "      <td>0.154723</td>\n",
       "      <td>0.084961</td>\n",
       "      <td>0.132225</td>\n",
       "      <td>0.072917</td>\n",
       "      <td>0.067308</td>\n",
       "      <td>1</td>\n",
       "    </tr>\n",
       "    <tr>\n",
       "      <th>751521</th>\n",
       "      <td>0.135338</td>\n",
       "      <td>0.122150</td>\n",
       "      <td>0.003906</td>\n",
       "      <td>0.079903</td>\n",
       "      <td>0.145833</td>\n",
       "      <td>0.032051</td>\n",
       "      <td>0</td>\n",
       "    </tr>\n",
       "    <tr>\n",
       "      <th>1528665</th>\n",
       "      <td>0.142857</td>\n",
       "      <td>0.141694</td>\n",
       "      <td>0.014648</td>\n",
       "      <td>0.115798</td>\n",
       "      <td>0.041667</td>\n",
       "      <td>0.041667</td>\n",
       "      <td>1</td>\n",
       "    </tr>\n",
       "    <tr>\n",
       "      <th>815631</th>\n",
       "      <td>0.445113</td>\n",
       "      <td>0.462541</td>\n",
       "      <td>0.024414</td>\n",
       "      <td>0.542081</td>\n",
       "      <td>0.062500</td>\n",
       "      <td>0.048077</td>\n",
       "      <td>1</td>\n",
       "    </tr>\n",
       "    <tr>\n",
       "      <th>1169295</th>\n",
       "      <td>0.557895</td>\n",
       "      <td>0.516287</td>\n",
       "      <td>0.012695</td>\n",
       "      <td>0.449605</td>\n",
       "      <td>0.062500</td>\n",
       "      <td>0.182692</td>\n",
       "      <td>1</td>\n",
       "    </tr>\n",
       "    <tr>\n",
       "      <th>...</th>\n",
       "      <td>...</td>\n",
       "      <td>...</td>\n",
       "      <td>...</td>\n",
       "      <td>...</td>\n",
       "      <td>...</td>\n",
       "      <td>...</td>\n",
       "      <td>...</td>\n",
       "    </tr>\n",
       "    <tr>\n",
       "      <th>3365651</th>\n",
       "      <td>0.482707</td>\n",
       "      <td>0.490228</td>\n",
       "      <td>0.013672</td>\n",
       "      <td>0.466031</td>\n",
       "      <td>0.114583</td>\n",
       "      <td>0.057692</td>\n",
       "      <td>1</td>\n",
       "    </tr>\n",
       "    <tr>\n",
       "      <th>1214504</th>\n",
       "      <td>0.114286</td>\n",
       "      <td>0.112378</td>\n",
       "      <td>0.017578</td>\n",
       "      <td>0.084364</td>\n",
       "      <td>0.031250</td>\n",
       "      <td>0.041667</td>\n",
       "      <td>1</td>\n",
       "    </tr>\n",
       "    <tr>\n",
       "      <th>886636</th>\n",
       "      <td>0.072180</td>\n",
       "      <td>0.055375</td>\n",
       "      <td>0.008789</td>\n",
       "      <td>0.048672</td>\n",
       "      <td>0.052083</td>\n",
       "      <td>0.057692</td>\n",
       "      <td>1</td>\n",
       "    </tr>\n",
       "    <tr>\n",
       "      <th>2469311</th>\n",
       "      <td>0.073684</td>\n",
       "      <td>0.057003</td>\n",
       "      <td>0.035156</td>\n",
       "      <td>0.060231</td>\n",
       "      <td>0.031250</td>\n",
       "      <td>0.064103</td>\n",
       "      <td>1</td>\n",
       "    </tr>\n",
       "    <tr>\n",
       "      <th>3395782</th>\n",
       "      <td>0.090226</td>\n",
       "      <td>0.078176</td>\n",
       "      <td>0.020508</td>\n",
       "      <td>0.067532</td>\n",
       "      <td>0.093750</td>\n",
       "      <td>0.038462</td>\n",
       "      <td>1</td>\n",
       "    </tr>\n",
       "  </tbody>\n",
       "</table>\n",
       "<p>12000 rows × 7 columns</p>\n",
       "</div>"
      ],
      "text/plain": [
       "         ActualElapsedTime   AirTime  DepDelay  Distance    TaxiIn   TaxiOut  \\\n",
       "id                                                                             \n",
       "1020517           0.171429  0.154723  0.084961  0.132225  0.072917  0.067308   \n",
       "751521            0.135338  0.122150  0.003906  0.079903  0.145833  0.032051   \n",
       "1528665           0.142857  0.141694  0.014648  0.115798  0.041667  0.041667   \n",
       "815631            0.445113  0.462541  0.024414  0.542081  0.062500  0.048077   \n",
       "1169295           0.557895  0.516287  0.012695  0.449605  0.062500  0.182692   \n",
       "...                    ...       ...       ...       ...       ...       ...   \n",
       "3365651           0.482707  0.490228  0.013672  0.466031  0.114583  0.057692   \n",
       "1214504           0.114286  0.112378  0.017578  0.084364  0.031250  0.041667   \n",
       "886636            0.072180  0.055375  0.008789  0.048672  0.052083  0.057692   \n",
       "2469311           0.073684  0.057003  0.035156  0.060231  0.031250  0.064103   \n",
       "3395782           0.090226  0.078176  0.020508  0.067532  0.093750  0.038462   \n",
       "\n",
       "         ArrDelay_delayed  \n",
       "id                         \n",
       "1020517                 1  \n",
       "751521                  0  \n",
       "1528665                 1  \n",
       "815631                  1  \n",
       "1169295                 1  \n",
       "...                   ...  \n",
       "3365651                 1  \n",
       "1214504                 1  \n",
       "886636                  1  \n",
       "2469311                 1  \n",
       "3395782                 1  \n",
       "\n",
       "[12000 rows x 7 columns]"
      ]
     },
     "metadata": {},
     "output_type": "display_data"
    },
    {
     "data": {
      "text/html": [
       "<div>\n",
       "<style scoped>\n",
       "    .dataframe tbody tr th:only-of-type {\n",
       "        vertical-align: middle;\n",
       "    }\n",
       "\n",
       "    .dataframe tbody tr th {\n",
       "        vertical-align: top;\n",
       "    }\n",
       "\n",
       "    .dataframe thead th {\n",
       "        text-align: right;\n",
       "    }\n",
       "</style>\n",
       "<table border=\"1\" class=\"dataframe\">\n",
       "  <thead>\n",
       "    <tr style=\"text-align: right;\">\n",
       "      <th></th>\n",
       "      <th>ActualElapsedTime</th>\n",
       "      <th>AirTime</th>\n",
       "      <th>DepDelay</th>\n",
       "      <th>Distance</th>\n",
       "      <th>TaxiIn</th>\n",
       "      <th>TaxiOut</th>\n",
       "    </tr>\n",
       "    <tr>\n",
       "      <th>id</th>\n",
       "      <th></th>\n",
       "      <th></th>\n",
       "      <th></th>\n",
       "      <th></th>\n",
       "      <th></th>\n",
       "      <th></th>\n",
       "    </tr>\n",
       "  </thead>\n",
       "  <tbody>\n",
       "    <tr>\n",
       "      <th>1020517</th>\n",
       "      <td>0.171429</td>\n",
       "      <td>0.154723</td>\n",
       "      <td>0.084961</td>\n",
       "      <td>0.132225</td>\n",
       "      <td>0.072917</td>\n",
       "      <td>0.067308</td>\n",
       "    </tr>\n",
       "    <tr>\n",
       "      <th>751521</th>\n",
       "      <td>0.135338</td>\n",
       "      <td>0.122150</td>\n",
       "      <td>0.003906</td>\n",
       "      <td>0.079903</td>\n",
       "      <td>0.145833</td>\n",
       "      <td>0.032051</td>\n",
       "    </tr>\n",
       "    <tr>\n",
       "      <th>1528665</th>\n",
       "      <td>0.142857</td>\n",
       "      <td>0.141694</td>\n",
       "      <td>0.014648</td>\n",
       "      <td>0.115798</td>\n",
       "      <td>0.041667</td>\n",
       "      <td>0.041667</td>\n",
       "    </tr>\n",
       "    <tr>\n",
       "      <th>815631</th>\n",
       "      <td>0.445113</td>\n",
       "      <td>0.462541</td>\n",
       "      <td>0.024414</td>\n",
       "      <td>0.542081</td>\n",
       "      <td>0.062500</td>\n",
       "      <td>0.048077</td>\n",
       "    </tr>\n",
       "    <tr>\n",
       "      <th>1169295</th>\n",
       "      <td>0.557895</td>\n",
       "      <td>0.516287</td>\n",
       "      <td>0.012695</td>\n",
       "      <td>0.449605</td>\n",
       "      <td>0.062500</td>\n",
       "      <td>0.182692</td>\n",
       "    </tr>\n",
       "  </tbody>\n",
       "</table>\n",
       "</div>"
      ],
      "text/plain": [
       "         ActualElapsedTime   AirTime  DepDelay  Distance    TaxiIn   TaxiOut\n",
       "id                                                                          \n",
       "1020517           0.171429  0.154723  0.084961  0.132225  0.072917  0.067308\n",
       "751521            0.135338  0.122150  0.003906  0.079903  0.145833  0.032051\n",
       "1528665           0.142857  0.141694  0.014648  0.115798  0.041667  0.041667\n",
       "815631            0.445113  0.462541  0.024414  0.542081  0.062500  0.048077\n",
       "1169295           0.557895  0.516287  0.012695  0.449605  0.062500  0.182692"
      ]
     },
     "metadata": {},
     "output_type": "display_data"
    },
    {
     "data": {
      "text/plain": [
       "id\n",
       "1020517    1\n",
       "751521     0\n",
       "1528665    1\n",
       "815631     1\n",
       "1169295    1\n",
       "Name: ArrDelay_delayed, dtype: int32"
      ]
     },
     "metadata": {},
     "output_type": "display_data"
    },
    {
     "data": {
      "text/html": [
       "<div>\n",
       "<style scoped>\n",
       "    .dataframe tbody tr th:only-of-type {\n",
       "        vertical-align: middle;\n",
       "    }\n",
       "\n",
       "    .dataframe tbody tr th {\n",
       "        vertical-align: top;\n",
       "    }\n",
       "\n",
       "    .dataframe thead th {\n",
       "        text-align: right;\n",
       "    }\n",
       "</style>\n",
       "<table border=\"1\" class=\"dataframe\">\n",
       "  <thead>\n",
       "    <tr style=\"text-align: right;\">\n",
       "      <th></th>\n",
       "      <th>ActualElapsedTime</th>\n",
       "      <th>AirTime</th>\n",
       "      <th>DepDelay</th>\n",
       "      <th>Distance</th>\n",
       "      <th>TaxiIn</th>\n",
       "      <th>TaxiOut</th>\n",
       "      <th>ArrDelay_delayed</th>\n",
       "    </tr>\n",
       "    <tr>\n",
       "      <th>id</th>\n",
       "      <th></th>\n",
       "      <th></th>\n",
       "      <th></th>\n",
       "      <th></th>\n",
       "      <th></th>\n",
       "      <th></th>\n",
       "      <th></th>\n",
       "    </tr>\n",
       "  </thead>\n",
       "  <tbody>\n",
       "    <tr>\n",
       "      <th>689285</th>\n",
       "      <td>0.357895</td>\n",
       "      <td>0.351792</td>\n",
       "      <td>0.009766</td>\n",
       "      <td>0.404786</td>\n",
       "      <td>0.052083</td>\n",
       "      <td>0.083333</td>\n",
       "      <td>1</td>\n",
       "    </tr>\n",
       "    <tr>\n",
       "      <th>1513378</th>\n",
       "      <td>0.066165</td>\n",
       "      <td>0.042345</td>\n",
       "      <td>0.000977</td>\n",
       "      <td>0.035895</td>\n",
       "      <td>0.052083</td>\n",
       "      <td>0.070513</td>\n",
       "      <td>0</td>\n",
       "    </tr>\n",
       "    <tr>\n",
       "      <th>80624</th>\n",
       "      <td>0.114286</td>\n",
       "      <td>0.105863</td>\n",
       "      <td>0.069336</td>\n",
       "      <td>0.074630</td>\n",
       "      <td>0.052083</td>\n",
       "      <td>0.048077</td>\n",
       "      <td>1</td>\n",
       "    </tr>\n",
       "    <tr>\n",
       "      <th>1239004</th>\n",
       "      <td>0.064662</td>\n",
       "      <td>0.066775</td>\n",
       "      <td>0.002930</td>\n",
       "      <td>0.053133</td>\n",
       "      <td>0.041667</td>\n",
       "      <td>0.022436</td>\n",
       "      <td>1</td>\n",
       "    </tr>\n",
       "    <tr>\n",
       "      <th>1327794</th>\n",
       "      <td>0.066165</td>\n",
       "      <td>0.052117</td>\n",
       "      <td>0.008789</td>\n",
       "      <td>0.018252</td>\n",
       "      <td>0.062500</td>\n",
       "      <td>0.048077</td>\n",
       "      <td>1</td>\n",
       "    </tr>\n",
       "    <tr>\n",
       "      <th>...</th>\n",
       "      <td>...</td>\n",
       "      <td>...</td>\n",
       "      <td>...</td>\n",
       "      <td>...</td>\n",
       "      <td>...</td>\n",
       "      <td>...</td>\n",
       "      <td>...</td>\n",
       "    </tr>\n",
       "    <tr>\n",
       "      <th>6618180</th>\n",
       "      <td>0.064662</td>\n",
       "      <td>0.030945</td>\n",
       "      <td>0.083984</td>\n",
       "      <td>0.013182</td>\n",
       "      <td>0.041667</td>\n",
       "      <td>0.092949</td>\n",
       "      <td>1</td>\n",
       "    </tr>\n",
       "    <tr>\n",
       "      <th>5023448</th>\n",
       "      <td>0.055639</td>\n",
       "      <td>0.045603</td>\n",
       "      <td>0.001953</td>\n",
       "      <td>0.024133</td>\n",
       "      <td>0.052083</td>\n",
       "      <td>0.041667</td>\n",
       "      <td>1</td>\n",
       "    </tr>\n",
       "    <tr>\n",
       "      <th>649241</th>\n",
       "      <td>0.187970</td>\n",
       "      <td>0.193811</td>\n",
       "      <td>0.036133</td>\n",
       "      <td>0.152099</td>\n",
       "      <td>0.062500</td>\n",
       "      <td>0.028846</td>\n",
       "      <td>1</td>\n",
       "    </tr>\n",
       "    <tr>\n",
       "      <th>1710902</th>\n",
       "      <td>0.210526</td>\n",
       "      <td>0.197068</td>\n",
       "      <td>0.023438</td>\n",
       "      <td>0.244170</td>\n",
       "      <td>0.156250</td>\n",
       "      <td>0.041667</td>\n",
       "      <td>1</td>\n",
       "    </tr>\n",
       "    <tr>\n",
       "      <th>6485523</th>\n",
       "      <td>0.102256</td>\n",
       "      <td>0.099349</td>\n",
       "      <td>0.016602</td>\n",
       "      <td>0.073819</td>\n",
       "      <td>0.052083</td>\n",
       "      <td>0.035256</td>\n",
       "      <td>1</td>\n",
       "    </tr>\n",
       "  </tbody>\n",
       "</table>\n",
       "<p>3000 rows × 7 columns</p>\n",
       "</div>"
      ],
      "text/plain": [
       "         ActualElapsedTime   AirTime  DepDelay  Distance    TaxiIn   TaxiOut  \\\n",
       "id                                                                             \n",
       "689285            0.357895  0.351792  0.009766  0.404786  0.052083  0.083333   \n",
       "1513378           0.066165  0.042345  0.000977  0.035895  0.052083  0.070513   \n",
       "80624             0.114286  0.105863  0.069336  0.074630  0.052083  0.048077   \n",
       "1239004           0.064662  0.066775  0.002930  0.053133  0.041667  0.022436   \n",
       "1327794           0.066165  0.052117  0.008789  0.018252  0.062500  0.048077   \n",
       "...                    ...       ...       ...       ...       ...       ...   \n",
       "6618180           0.064662  0.030945  0.083984  0.013182  0.041667  0.092949   \n",
       "5023448           0.055639  0.045603  0.001953  0.024133  0.052083  0.041667   \n",
       "649241            0.187970  0.193811  0.036133  0.152099  0.062500  0.028846   \n",
       "1710902           0.210526  0.197068  0.023438  0.244170  0.156250  0.041667   \n",
       "6485523           0.102256  0.099349  0.016602  0.073819  0.052083  0.035256   \n",
       "\n",
       "         ArrDelay_delayed  \n",
       "id                         \n",
       "689285                  1  \n",
       "1513378                 0  \n",
       "80624                   1  \n",
       "1239004                 1  \n",
       "1327794                 1  \n",
       "...                   ...  \n",
       "6618180                 1  \n",
       "5023448                 1  \n",
       "649241                  1  \n",
       "1710902                 1  \n",
       "6485523                 1  \n",
       "\n",
       "[3000 rows x 7 columns]"
      ]
     },
     "metadata": {},
     "output_type": "display_data"
    },
    {
     "data": {
      "text/html": [
       "<div>\n",
       "<style scoped>\n",
       "    .dataframe tbody tr th:only-of-type {\n",
       "        vertical-align: middle;\n",
       "    }\n",
       "\n",
       "    .dataframe tbody tr th {\n",
       "        vertical-align: top;\n",
       "    }\n",
       "\n",
       "    .dataframe thead th {\n",
       "        text-align: right;\n",
       "    }\n",
       "</style>\n",
       "<table border=\"1\" class=\"dataframe\">\n",
       "  <thead>\n",
       "    <tr style=\"text-align: right;\">\n",
       "      <th></th>\n",
       "      <th>ActualElapsedTime</th>\n",
       "      <th>AirTime</th>\n",
       "      <th>DepDelay</th>\n",
       "      <th>Distance</th>\n",
       "      <th>TaxiIn</th>\n",
       "      <th>TaxiOut</th>\n",
       "    </tr>\n",
       "    <tr>\n",
       "      <th>id</th>\n",
       "      <th></th>\n",
       "      <th></th>\n",
       "      <th></th>\n",
       "      <th></th>\n",
       "      <th></th>\n",
       "      <th></th>\n",
       "    </tr>\n",
       "  </thead>\n",
       "  <tbody>\n",
       "    <tr>\n",
       "      <th>689285</th>\n",
       "      <td>0.357895</td>\n",
       "      <td>0.351792</td>\n",
       "      <td>0.009766</td>\n",
       "      <td>0.404786</td>\n",
       "      <td>0.052083</td>\n",
       "      <td>0.083333</td>\n",
       "    </tr>\n",
       "    <tr>\n",
       "      <th>1513378</th>\n",
       "      <td>0.066165</td>\n",
       "      <td>0.042345</td>\n",
       "      <td>0.000977</td>\n",
       "      <td>0.035895</td>\n",
       "      <td>0.052083</td>\n",
       "      <td>0.070513</td>\n",
       "    </tr>\n",
       "    <tr>\n",
       "      <th>80624</th>\n",
       "      <td>0.114286</td>\n",
       "      <td>0.105863</td>\n",
       "      <td>0.069336</td>\n",
       "      <td>0.074630</td>\n",
       "      <td>0.052083</td>\n",
       "      <td>0.048077</td>\n",
       "    </tr>\n",
       "    <tr>\n",
       "      <th>1239004</th>\n",
       "      <td>0.064662</td>\n",
       "      <td>0.066775</td>\n",
       "      <td>0.002930</td>\n",
       "      <td>0.053133</td>\n",
       "      <td>0.041667</td>\n",
       "      <td>0.022436</td>\n",
       "    </tr>\n",
       "    <tr>\n",
       "      <th>1327794</th>\n",
       "      <td>0.066165</td>\n",
       "      <td>0.052117</td>\n",
       "      <td>0.008789</td>\n",
       "      <td>0.018252</td>\n",
       "      <td>0.062500</td>\n",
       "      <td>0.048077</td>\n",
       "    </tr>\n",
       "  </tbody>\n",
       "</table>\n",
       "</div>"
      ],
      "text/plain": [
       "         ActualElapsedTime   AirTime  DepDelay  Distance    TaxiIn   TaxiOut\n",
       "id                                                                          \n",
       "689285            0.357895  0.351792  0.009766  0.404786  0.052083  0.083333\n",
       "1513378           0.066165  0.042345  0.000977  0.035895  0.052083  0.070513\n",
       "80624             0.114286  0.105863  0.069336  0.074630  0.052083  0.048077\n",
       "1239004           0.064662  0.066775  0.002930  0.053133  0.041667  0.022436\n",
       "1327794           0.066165  0.052117  0.008789  0.018252  0.062500  0.048077"
      ]
     },
     "metadata": {},
     "output_type": "display_data"
    },
    {
     "data": {
      "text/plain": [
       "id\n",
       "689285     1\n",
       "1513378    0\n",
       "80624      1\n",
       "1239004    1\n",
       "1327794    1\n",
       "Name: ArrDelay_delayed, dtype: int32"
      ]
     },
     "metadata": {},
     "output_type": "display_data"
    }
   ],
   "source": [
    "# Creació de la mostra d'entrenament i validació\n",
    "mostra_entrenament_normalitzada_x, mostra_validacio_normalitzada_x, mostra_entrenament_normalitzada_y, mostra_validacio_normalitzada_y = train_test_split(x, y, test_size = 0.2, random_state=567)\n",
    "\n",
    "mostra_entrenament_normalitzada = pd.concat([mostra_entrenament_normalitzada_x, mostra_entrenament_normalitzada_y], axis=1)\n",
    "mostra_validacio_normalitzada = pd.concat([mostra_validacio_normalitzada_x, mostra_validacio_normalitzada_y], axis=1)\n",
    "\n",
    "print(\"Tamany de mostra d'entrenament: {}\".format(mostra_entrenament_normalitzada_x.shape[0]))\n",
    "print(\"Tamany de mostra de validació: {}\".format(mostra_validacio_normalitzada_x.shape[0]))\n",
    "\n",
    "display(mostra_entrenament_normalitzada)\n",
    "display(mostra_entrenament_normalitzada_x.head())\n",
    "display(mostra_entrenament_normalitzada_y.head())\n",
    "\n",
    "display(mostra_validacio_normalitzada)\n",
    "display(mostra_validacio_normalitzada_x.head())\n",
    "display(mostra_validacio_normalitzada_y.head())"
   ]
  },
  {
   "cell_type": "code",
   "execution_count": 51,
   "metadata": {
    "ExecuteTime": {
     "end_time": "2021-07-03T10:37:59.699868Z",
     "start_time": "2021-07-03T10:37:52.331955Z"
    }
   },
   "outputs": [],
   "source": [
    "# Model de xarxes neuronals\n",
    "xarxa_neuronal_normalitzada = MLPClassifier(hidden_layer_sizes=(8,8,8), activation='relu', solver='adam', max_iter=500, random_state=5678)\n",
    "xarxa_neuronal_normalitzada.fit(mostra_entrenament_normalitzada_x, mostra_entrenament_normalitzada_y)\n",
    "\n",
    "# Generem la predicció\n",
    "xarxa_neuronal_normalitzada_prediccio = xarxa_neuronal_normalitzada.predict(mostra_validacio_normalitzada_x)"
   ]
  },
  {
   "cell_type": "code",
   "execution_count": 52,
   "metadata": {
    "ExecuteTime": {
     "end_time": "2021-07-03T10:37:59.791858Z",
     "start_time": "2021-07-03T10:37:59.699868Z"
    }
   },
   "outputs": [],
   "source": [
    "# Model logístic\n",
    "logistica_normalitzada = LogisticRegression(max_iter=1000, random_state=5678)\n",
    "logistica_normalitzada.fit(mostra_entrenament_normalitzada_x, mostra_entrenament_normalitzada_y)\n",
    "\n",
    "# Generem la predicció\n",
    "logistica_normalitzada_prediccio = logistica_normalitzada.predict(mostra_validacio_normalitzada_x)"
   ]
  },
  {
   "cell_type": "code",
   "execution_count": 53,
   "metadata": {
    "ExecuteTime": {
     "end_time": "2021-07-03T10:38:00.476130Z",
     "start_time": "2021-07-03T10:37:59.791858Z"
    }
   },
   "outputs": [
    {
     "name": "stdout",
     "output_type": "stream",
     "text": [
      "[12:37:59] WARNING: C:/Users/Administrator/workspace/xgboost-win64_release_1.4.0/src/learner.cc:1095: Starting in XGBoost 1.3.0, the default evaluation metric used with the objective 'binary:logistic' was changed from 'error' to 'logloss'. Explicitly set eval_metric if you'd like to restore the old behavior.\n"
     ]
    }
   ],
   "source": [
    "# Model xgboost_normalitzada\n",
    "xgboost_normalitzada = xgb.XGBClassifier(objective ='binary:logistic', use_label_encoder=False, random_state=5678)\n",
    "xgboost_normalitzada.fit(mostra_entrenament_normalitzada_x, mostra_entrenament_normalitzada_y)\n",
    "\n",
    "# Generem la predicció\n",
    "xgboost_normalitzada_prediccio = xgboost_normalitzada.predict(mostra_validacio_normalitzada_x)"
   ]
  },
  {
   "cell_type": "markdown",
   "metadata": {},
   "source": [
    "Comparativa de models de classificació utilitzant la precisió (accuracy), una matriu de confiança i d’altres mètriques més avançades"
   ]
  },
  {
   "cell_type": "code",
   "execution_count": 54,
   "metadata": {
    "ExecuteTime": {
     "end_time": "2021-07-03T10:38:00.492099Z",
     "start_time": "2021-07-03T10:38:00.476130Z"
    }
   },
   "outputs": [
    {
     "name": "stdout",
     "output_type": "stream",
     "text": [
      "0.9203\n",
      "0.9037\n",
      "0.9117\n"
     ]
    }
   ],
   "source": [
    "# Calculem el grau de exactitud\n",
    "\n",
    "# Model de xarxes neuronals\n",
    "xarxa_neuronal_normalitzada_exactitud = round(metrics.accuracy_score(mostra_validacio_normalitzada_y, xarxa_neuronal_normalitzada_prediccio),4)\n",
    "print(xarxa_neuronal_normalitzada_exactitud)\n",
    "\n",
    "# Model logístic\n",
    "logistica_normalitzada_exactitud = round(metrics.accuracy_score(mostra_validacio_normalitzada_y, logistica_normalitzada_prediccio),4)\n",
    "print(logistica_normalitzada_exactitud)\n",
    "\n",
    "# Model xgboost_normalitzada\n",
    "xgboost_normalitzada_exactitud = round(metrics.accuracy_score(mostra_validacio_normalitzada_y, xgboost_normalitzada_prediccio),4)\n",
    "print(xgboost_normalitzada_exactitud)"
   ]
  },
  {
   "cell_type": "markdown",
   "metadata": {},
   "source": [
    "El model més exacte és el de xarxes neuronals"
   ]
  },
  {
   "cell_type": "code",
   "execution_count": 55,
   "metadata": {
    "ExecuteTime": {
     "end_time": "2021-07-03T10:38:00.522168Z",
     "start_time": "2021-07-03T10:38:00.492099Z"
    }
   },
   "outputs": [
    {
     "name": "stdout",
     "output_type": "stream",
     "text": [
      "[[  97  192]\n",
      " [  47 2664]]\n",
      "[[   0  289]\n",
      " [   0 2711]]\n",
      "[[ 130  159]\n",
      " [ 106 2605]]\n"
     ]
    }
   ],
   "source": [
    "# Calculem la matriu de confusió\n",
    "\n",
    "# Model de xarxes neuronals\n",
    "xarxa_neuronal_normalitzada_matriu_confusio = metrics.confusion_matrix(mostra_validacio_normalitzada_y, xarxa_neuronal_normalitzada_prediccio)\n",
    "print(xarxa_neuronal_normalitzada_matriu_confusio)\n",
    "\n",
    "# Model logístic\n",
    "logistica_normalitzada_matriu_confusio = metrics.confusion_matrix(mostra_validacio_normalitzada_y, logistica_normalitzada_prediccio)\n",
    "print(logistica_normalitzada_matriu_confusio)\n",
    "\n",
    "# Model xgboost_normalitzada\n",
    "xgboost_normalitzada_matriu_confusio = metrics.confusion_matrix(mostra_validacio_normalitzada_y, xgboost_normalitzada_prediccio)\n",
    "print(xgboost_normalitzada_matriu_confusio)"
   ]
  },
  {
   "cell_type": "markdown",
   "metadata": {},
   "source": [
    "El model amb una matriu de confusió amb més verdaders positius i verdaders negatius és el logístic.\n"
   ]
  },
  {
   "cell_type": "code",
   "execution_count": 56,
   "metadata": {
    "ExecuteTime": {
     "end_time": "2021-07-03T10:38:00.554160Z",
     "start_time": "2021-07-03T10:38:00.522168Z"
    }
   },
   "outputs": [
    {
     "name": "stdout",
     "output_type": "stream",
     "text": [
      "0.9328\n",
      "0.9037\n",
      "0.9425\n"
     ]
    }
   ],
   "source": [
    "# Calculem el grau de precisió\n",
    "\n",
    "# Model de xarxes neuronals\n",
    "xarxa_neuronal_normalitzada_precisio = round(metrics.precision_score(mostra_validacio_normalitzada_y, xarxa_neuronal_normalitzada_prediccio),4)\n",
    "print(xarxa_neuronal_normalitzada_precisio)\n",
    "\n",
    "# Model logístic\n",
    "logistica_normalitzada_precisio = round(metrics.precision_score(mostra_validacio_normalitzada_y, logistica_normalitzada_prediccio),4)\n",
    "print(logistica_normalitzada_precisio)\n",
    "\n",
    "# Model xgboost_normalitzada\n",
    "xgboost_normalitzada_precisio = round(metrics.precision_score(mostra_validacio_normalitzada_y, xgboost_normalitzada_prediccio),4)\n",
    "print(xgboost_normalitzada_precisio)"
   ]
  },
  {
   "cell_type": "markdown",
   "metadata": {},
   "source": [
    "El model més precís és el xgboost"
   ]
  },
  {
   "cell_type": "code",
   "execution_count": 57,
   "metadata": {
    "ExecuteTime": {
     "end_time": "2021-07-03T10:38:00.585941Z",
     "start_time": "2021-07-03T10:38:00.554160Z"
    }
   },
   "outputs": [
    {
     "name": "stdout",
     "output_type": "stream",
     "text": [
      "0.6592\n",
      "0.5\n",
      "0.7054\n"
     ]
    }
   ],
   "source": [
    "# Calculem l'àrea sota la corba\n",
    "\n",
    "# Model de xarxes neuronals\n",
    "xarxa_neuronal_normalitzada_asc = round(metrics.roc_auc_score(mostra_validacio_normalitzada_y, xarxa_neuronal_normalitzada_prediccio),4)\n",
    "print(xarxa_neuronal_normalitzada_asc)\n",
    "\n",
    "# Model logístic\n",
    "logistica_normalitzada_asc = round(metrics.roc_auc_score(mostra_validacio_normalitzada_y, logistica_normalitzada_prediccio),4)\n",
    "print(logistica_normalitzada_asc)\n",
    "\n",
    "# Model xgboost_normalitzada\n",
    "xgboost_normalitzada_asc = round(metrics.roc_auc_score(mostra_validacio_normalitzada_y, xgboost_normalitzada_prediccio),4)\n",
    "print(xgboost_normalitzada_asc)"
   ]
  },
  {
   "cell_type": "markdown",
   "metadata": {},
   "source": [
    "El model amb una àrea sota la corba més alt és el xgboost"
   ]
  },
  {
   "cell_type": "markdown",
   "metadata": {},
   "source": [
    "Faig entrenament utilitzant els diferents paràmetres que admeten."
   ]
  },
  {
   "cell_type": "code",
   "execution_count": 58,
   "metadata": {
    "ExecuteTime": {
     "end_time": "2021-07-03T10:51:51.471882Z",
     "start_time": "2021-07-03T10:38:00.585941Z"
    }
   },
   "outputs": [
    {
     "name": "stdout",
     "output_type": "stream",
     "text": [
      "Els paràmetres que afinen millor la métrica són: \n",
      "{'activation': 'relu', 'hidden_layer_sizes': [8, 8, 8], 'solver': 'lbfgs'}\n",
      "\n"
     ]
    },
    {
     "name": "stderr",
     "output_type": "stream",
     "text": [
      "C:\\Users\\Antoni\\anaconda3\\lib\\site-packages\\sklearn\\neural_network\\_multilayer_perceptron.py:471: ConvergenceWarning: lbfgs failed to converge (status=1):\n",
      "STOP: TOTAL NO. of ITERATIONS REACHED LIMIT.\n",
      "\n",
      "Increase the number of iterations (max_iter) or scale the data as shown in:\n",
      "    https://scikit-learn.org/stable/modules/preprocessing.html\n",
      "  self.n_iter_ = _check_optimize_result(\"lbfgs\", opt_res, self.max_iter)\n"
     ]
    }
   ],
   "source": [
    "# Model xarxa neuronal\n",
    "\n",
    "# Definició dels paràmetres a afinar\n",
    "xarxa_neuronal_normalitzada_parametres_a_afinar = {'hidden_layer_sizes': [[8,8],[8,8,8],[8,8,8,8]], 'activation': ['identity', 'logistic', 'tanh', 'relu'],'solver': ['lbfgs', 'sgd', 'adam'],}\n",
    "\n",
    "# Métrica escollida d'entre: precision, recall, f1, f1_weighted, f1_micro, f1_macro, accuracy, roc_auc\n",
    "xarxa_neuronal_normalitzada_metrica = 'accuracy'\n",
    "\n",
    "# Entrenament dels hiper_paràmetres de la métrica escollida\n",
    "xarxa_neuronal_normalitzada_entrenament = GridSearchCV(estimator = MLPClassifier(max_iter=500,random_state=5678), param_grid = xarxa_neuronal_normalitzada_parametres_a_afinar, cv=10, scoring='%s' % xarxa_neuronal_normalitzada_metrica, n_jobs= -1)\n",
    "# Ajust\n",
    "xarxa_neuronal_normalitzada_entrenament.fit(mostra_entrenament_normalitzada_x, mostra_entrenament_normalitzada_y)\n",
    "    \n",
    "print(\"Els paràmetres que afinen millor la métrica són: \\n{}\\n\".format(xarxa_neuronal_normalitzada_entrenament.best_params_))\n",
    "\n",
    "xarxa_neuronal_normalitzada_metrica_mitjana = xarxa_neuronal_normalitzada_entrenament.cv_results_['mean_test_score']\n",
    "xarxa_neuronal_normalitzada_metrica_desviacio_estandar = xarxa_neuronal_normalitzada_entrenament.cv_results_['std_test_score']"
   ]
  },
  {
   "cell_type": "code",
   "execution_count": 59,
   "metadata": {
    "ExecuteTime": {
     "end_time": "2021-07-03T10:51:51.501931Z",
     "start_time": "2021-07-03T10:51:51.471882Z"
    }
   },
   "outputs": [
    {
     "name": "stdout",
     "output_type": "stream",
     "text": [
      "Llista de puntuacións obtinguda en les diferents combinacions de hiper_paràmetres:\n",
      "\n",
      "Puntuació   Desv. Estd.     Paràmetres\n",
      "====================================================================================================\n",
      "0.9121   |  [+/-0.007]  |  {'activation': 'identity', 'hidden_layer_sizes': [8, 8], 'solver': 'lbfgs'}\n",
      "____________________________________________________________________________________________________\n",
      "0.9112   |  [+/-0.0027]  |  {'activation': 'identity', 'hidden_layer_sizes': [8, 8], 'solver': 'sgd'}\n",
      "____________________________________________________________________________________________________\n",
      "0.9109   |  [+/-0.0077]  |  {'activation': 'identity', 'hidden_layer_sizes': [8, 8], 'solver': 'adam'}\n",
      "____________________________________________________________________________________________________\n",
      "0.9108   |  [+/-0.007]  |  {'activation': 'identity', 'hidden_layer_sizes': [8, 8, 8], 'solver': 'lbfgs'}\n",
      "____________________________________________________________________________________________________\n",
      "0.9107   |  [+/-0.0063]  |  {'activation': 'identity', 'hidden_layer_sizes': [8, 8, 8], 'solver': 'sgd'}\n",
      "____________________________________________________________________________________________________\n",
      "0.9106   |  [+/-0.0061]  |  {'activation': 'identity', 'hidden_layer_sizes': [8, 8, 8], 'solver': 'adam'}\n",
      "____________________________________________________________________________________________________\n",
      "0.9105   |  [+/-0.007]  |  {'activation': 'identity', 'hidden_layer_sizes': [8, 8, 8, 8], 'solver': 'lbfgs'}\n",
      "____________________________________________________________________________________________________\n",
      "0.9105   |  [+/-0.0065]  |  {'activation': 'identity', 'hidden_layer_sizes': [8, 8, 8, 8], 'solver': 'sgd'}\n",
      "____________________________________________________________________________________________________\n",
      "0.9101   |  [+/-0.0078]  |  {'activation': 'identity', 'hidden_layer_sizes': [8, 8, 8, 8], 'solver': 'adam'}\n",
      "____________________________________________________________________________________________________\n",
      "0.9099   |  [+/-0.0061]  |  {'activation': 'logistic', 'hidden_layer_sizes': [8, 8], 'solver': 'lbfgs'}\n",
      "____________________________________________________________________________________________________\n",
      "0.9097   |  [+/-0.0003]  |  {'activation': 'logistic', 'hidden_layer_sizes': [8, 8], 'solver': 'sgd'}\n",
      "____________________________________________________________________________________________________\n",
      "0.9097   |  [+/-0.0074]  |  {'activation': 'logistic', 'hidden_layer_sizes': [8, 8], 'solver': 'adam'}\n",
      "____________________________________________________________________________________________________\n",
      "0.9094   |  [+/-0.0003]  |  {'activation': 'logistic', 'hidden_layer_sizes': [8, 8, 8], 'solver': 'lbfgs'}\n",
      "____________________________________________________________________________________________________\n",
      "0.9092   |  [+/-0.0003]  |  {'activation': 'logistic', 'hidden_layer_sizes': [8, 8, 8], 'solver': 'sgd'}\n",
      "____________________________________________________________________________________________________\n",
      "0.9089   |  [+/-0.0003]  |  {'activation': 'logistic', 'hidden_layer_sizes': [8, 8, 8], 'solver': 'adam'}\n",
      "____________________________________________________________________________________________________\n",
      "0.9087   |  [+/-0.0003]  |  {'activation': 'logistic', 'hidden_layer_sizes': [8, 8, 8, 8], 'solver': 'lbfgs'}\n",
      "____________________________________________________________________________________________________\n",
      "0.908   |  [+/-0.0003]  |  {'activation': 'logistic', 'hidden_layer_sizes': [8, 8, 8, 8], 'solver': 'sgd'}\n",
      "____________________________________________________________________________________________________\n",
      "0.908   |  [+/-0.0003]  |  {'activation': 'logistic', 'hidden_layer_sizes': [8, 8, 8, 8], 'solver': 'adam'}\n",
      "____________________________________________________________________________________________________\n",
      "0.908   |  [+/-0.0069]  |  {'activation': 'tanh', 'hidden_layer_sizes': [8, 8], 'solver': 'lbfgs'}\n",
      "____________________________________________________________________________________________________\n",
      "0.9073   |  [+/-0.0003]  |  {'activation': 'tanh', 'hidden_layer_sizes': [8, 8], 'solver': 'sgd'}\n",
      "____________________________________________________________________________________________________\n",
      "0.9061   |  [+/-0.0083]  |  {'activation': 'tanh', 'hidden_layer_sizes': [8, 8], 'solver': 'adam'}\n",
      "____________________________________________________________________________________________________\n",
      "0.9056   |  [+/-0.0067]  |  {'activation': 'tanh', 'hidden_layer_sizes': [8, 8, 8], 'solver': 'lbfgs'}\n",
      "____________________________________________________________________________________________________\n",
      "0.8968   |  [+/-0.0003]  |  {'activation': 'tanh', 'hidden_layer_sizes': [8, 8, 8], 'solver': 'sgd'}\n",
      "____________________________________________________________________________________________________\n",
      "0.8942   |  [+/-0.0076]  |  {'activation': 'tanh', 'hidden_layer_sizes': [8, 8, 8], 'solver': 'adam'}\n",
      "____________________________________________________________________________________________________\n",
      "0.8941   |  [+/-0.007]  |  {'activation': 'tanh', 'hidden_layer_sizes': [8, 8, 8, 8], 'solver': 'lbfgs'}\n",
      "____________________________________________________________________________________________________\n",
      "0.8941   |  [+/-0.0003]  |  {'activation': 'tanh', 'hidden_layer_sizes': [8, 8, 8, 8], 'solver': 'sgd'}\n",
      "____________________________________________________________________________________________________\n",
      "0.8941   |  [+/-0.006]  |  {'activation': 'tanh', 'hidden_layer_sizes': [8, 8, 8, 8], 'solver': 'adam'}\n",
      "____________________________________________________________________________________________________\n",
      "0.8941   |  [+/-0.0073]  |  {'activation': 'relu', 'hidden_layer_sizes': [8, 8], 'solver': 'lbfgs'}\n",
      "____________________________________________________________________________________________________\n",
      "0.8941   |  [+/-0.0006]  |  {'activation': 'relu', 'hidden_layer_sizes': [8, 8], 'solver': 'sgd'}\n",
      "____________________________________________________________________________________________________\n",
      "0.8941   |  [+/-0.008]  |  {'activation': 'relu', 'hidden_layer_sizes': [8, 8], 'solver': 'adam'}\n",
      "____________________________________________________________________________________________________\n",
      "0.8941   |  [+/-0.0049]  |  {'activation': 'relu', 'hidden_layer_sizes': [8, 8, 8], 'solver': 'lbfgs'}\n",
      "____________________________________________________________________________________________________\n",
      "0.8941   |  [+/-0.0003]  |  {'activation': 'relu', 'hidden_layer_sizes': [8, 8, 8], 'solver': 'sgd'}\n",
      "____________________________________________________________________________________________________\n",
      "0.8941   |  [+/-0.0068]  |  {'activation': 'relu', 'hidden_layer_sizes': [8, 8, 8], 'solver': 'adam'}\n",
      "____________________________________________________________________________________________________\n",
      "0.8941   |  [+/-0.0087]  |  {'activation': 'relu', 'hidden_layer_sizes': [8, 8, 8, 8], 'solver': 'lbfgs'}\n",
      "____________________________________________________________________________________________________\n",
      "0.8941   |  [+/-0.0003]  |  {'activation': 'relu', 'hidden_layer_sizes': [8, 8, 8, 8], 'solver': 'sgd'}\n",
      "____________________________________________________________________________________________________\n",
      "0.8941   |  [+/-0.0065]  |  {'activation': 'relu', 'hidden_layer_sizes': [8, 8, 8, 8], 'solver': 'adam'}\n",
      "____________________________________________________________________________________________________\n"
     ]
    }
   ],
   "source": [
    "print(\"Llista de puntuacións obtinguda en les diferents combinacions de hiper_paràmetres:\\n\")\n",
    "print(\"Puntuació   Desv. Estd.     Paràmetres\")\n",
    "print(\"====================================================================================================\")\n",
    "\n",
    "for mitjana, desviacio_estandard, parametres in zip(np.sort(xarxa_neuronal_normalitzada_metrica_mitjana)[::-1], xarxa_neuronal_normalitzada_metrica_desviacio_estandar, xarxa_neuronal_normalitzada_entrenament.cv_results_['params']):\n",
    "    print(\"{}   |  [+/-{}]  |  {}\".format(round(mitjana,4), round(desviacio_estandard,4), parametres))\n",
    "    print(\"____________________________________________________________________________________________________\")"
   ]
  },
  {
   "cell_type": "code",
   "execution_count": 60,
   "metadata": {
    "ExecuteTime": {
     "end_time": "2021-07-03T10:52:32.793693Z",
     "start_time": "2021-07-03T10:51:51.501931Z"
    }
   },
   "outputs": [
    {
     "name": "stderr",
     "output_type": "stream",
     "text": [
      "C:\\Users\\Antoni\\anaconda3\\lib\\site-packages\\sklearn\\linear_model\\_logistic.py:1320: UserWarning: Setting penalty='none' will ignore the C and l1_ratio parameters\n",
      "  warnings.warn(\n"
     ]
    },
    {
     "name": "stdout",
     "output_type": "stream",
     "text": [
      "Els paràmetres que afinen millor la métrica són: \n",
      "{'C': 0.5, 'penalty': 'none', 'solver': 'saga'}\n",
      "\n"
     ]
    }
   ],
   "source": [
    "# Model logístic\n",
    "\n",
    "# Definició dels paràmetres a afinar\n",
    "logistica_normalitzada_parametres_a_afinar = {'penalty': ['l2', 'none'],'C': [0.5,1.0,1.5],'solver': ['newton-cg', 'lbfgs', 'sag', 'saga'],}\n",
    "\n",
    "# Métrica escollida d'entre: precision, recall, f1, f1_weighted, f1_micro, f1_macro, accuracy, roc_auc\n",
    "logistica_normalitzada_metrica = 'accuracy'\n",
    "\n",
    "# Entrenament dels hiper_paràmetres de la métrica escollida\n",
    "logistica_normalitzada_entrenament = GridSearchCV(estimator = LogisticRegression(max_iter = 1000), param_grid = logistica_normalitzada_parametres_a_afinar, cv=10, scoring='%s' % logistica_normalitzada_metrica, n_jobs= -1)\n",
    "# Ajust\n",
    "logistica_normalitzada_entrenament.fit(mostra_entrenament_normalitzada_x, mostra_entrenament_normalitzada_y)\n",
    "    \n",
    "print(\"Els paràmetres que afinen millor la métrica són: \\n{}\\n\".format(logistica_normalitzada_entrenament.best_params_))\n",
    "\n",
    "logistica_normalitzada_metrica_mitjana = logistica_normalitzada_entrenament.cv_results_['mean_test_score']\n",
    "logistica_normalitzada_metrica_desviacio_estandar = logistica_normalitzada_entrenament.cv_results_['std_test_score']"
   ]
  },
  {
   "cell_type": "code",
   "execution_count": 61,
   "metadata": {
    "ExecuteTime": {
     "end_time": "2021-07-03T10:52:32.819696Z",
     "start_time": "2021-07-03T10:52:32.793693Z"
    }
   },
   "outputs": [
    {
     "name": "stdout",
     "output_type": "stream",
     "text": [
      "Llista de puntuacions obtinguda en les diferents combinacions de hiper_paràmetres:\n",
      "\n",
      "Puntuació   Desv. Estd.     Paràmetres\n",
      "====================================================================================================\n",
      "0.9081   |  [+/-0.0006]  |  {'C': 0.5, 'penalty': 'l2', 'solver': 'newton-cg'}\n",
      "____________________________________________________________________________________________________\n",
      "0.9081   |  [+/-0.0006]  |  {'C': 0.5, 'penalty': 'l2', 'solver': 'lbfgs'}\n",
      "____________________________________________________________________________________________________\n",
      "0.9081   |  [+/-0.0006]  |  {'C': 0.5, 'penalty': 'l2', 'solver': 'sag'}\n",
      "____________________________________________________________________________________________________\n",
      "0.908   |  [+/-0.0006]  |  {'C': 0.5, 'penalty': 'l2', 'solver': 'saga'}\n",
      "____________________________________________________________________________________________________\n",
      "0.908   |  [+/-0.007]  |  {'C': 0.5, 'penalty': 'none', 'solver': 'newton-cg'}\n",
      "____________________________________________________________________________________________________\n",
      "0.908   |  [+/-0.007]  |  {'C': 0.5, 'penalty': 'none', 'solver': 'lbfgs'}\n",
      "____________________________________________________________________________________________________\n",
      "0.908   |  [+/-0.007]  |  {'C': 0.5, 'penalty': 'none', 'solver': 'sag'}\n",
      "____________________________________________________________________________________________________\n",
      "0.908   |  [+/-0.0067]  |  {'C': 0.5, 'penalty': 'none', 'solver': 'saga'}\n",
      "____________________________________________________________________________________________________\n",
      "0.908   |  [+/-0.0006]  |  {'C': 1.0, 'penalty': 'l2', 'solver': 'newton-cg'}\n",
      "____________________________________________________________________________________________________\n",
      "0.9079   |  [+/-0.0006]  |  {'C': 1.0, 'penalty': 'l2', 'solver': 'lbfgs'}\n",
      "____________________________________________________________________________________________________\n",
      "0.9079   |  [+/-0.0006]  |  {'C': 1.0, 'penalty': 'l2', 'solver': 'sag'}\n",
      "____________________________________________________________________________________________________\n",
      "0.9079   |  [+/-0.0006]  |  {'C': 1.0, 'penalty': 'l2', 'solver': 'saga'}\n",
      "____________________________________________________________________________________________________\n",
      "0.8941   |  [+/-0.007]  |  {'C': 1.0, 'penalty': 'none', 'solver': 'newton-cg'}\n",
      "____________________________________________________________________________________________________\n",
      "0.8941   |  [+/-0.007]  |  {'C': 1.0, 'penalty': 'none', 'solver': 'lbfgs'}\n",
      "____________________________________________________________________________________________________\n",
      "0.8941   |  [+/-0.007]  |  {'C': 1.0, 'penalty': 'none', 'solver': 'sag'}\n",
      "____________________________________________________________________________________________________\n",
      "0.8941   |  [+/-0.0067]  |  {'C': 1.0, 'penalty': 'none', 'solver': 'saga'}\n",
      "____________________________________________________________________________________________________\n",
      "0.8938   |  [+/-0.0009]  |  {'C': 1.5, 'penalty': 'l2', 'solver': 'newton-cg'}\n",
      "____________________________________________________________________________________________________\n",
      "0.8938   |  [+/-0.0009]  |  {'C': 1.5, 'penalty': 'l2', 'solver': 'lbfgs'}\n",
      "____________________________________________________________________________________________________\n",
      "0.8938   |  [+/-0.0009]  |  {'C': 1.5, 'penalty': 'l2', 'solver': 'sag'}\n",
      "____________________________________________________________________________________________________\n",
      "0.8938   |  [+/-0.0009]  |  {'C': 1.5, 'penalty': 'l2', 'solver': 'saga'}\n",
      "____________________________________________________________________________________________________\n",
      "0.8938   |  [+/-0.007]  |  {'C': 1.5, 'penalty': 'none', 'solver': 'newton-cg'}\n",
      "____________________________________________________________________________________________________\n",
      "0.8938   |  [+/-0.007]  |  {'C': 1.5, 'penalty': 'none', 'solver': 'lbfgs'}\n",
      "____________________________________________________________________________________________________\n",
      "0.8938   |  [+/-0.007]  |  {'C': 1.5, 'penalty': 'none', 'solver': 'sag'}\n",
      "____________________________________________________________________________________________________\n",
      "0.8938   |  [+/-0.0067]  |  {'C': 1.5, 'penalty': 'none', 'solver': 'saga'}\n",
      "____________________________________________________________________________________________________\n"
     ]
    }
   ],
   "source": [
    "print(\"Llista de puntuacions obtinguda en les diferents combinacions de hiper_paràmetres:\\n\")\n",
    "print(\"Puntuació   Desv. Estd.     Paràmetres\")\n",
    "print(\"====================================================================================================\")\n",
    "\n",
    "for mitjana, desviacio_estandard, parametres in zip(np.sort(logistica_normalitzada_metrica_mitjana)[::-1], logistica_normalitzada_metrica_desviacio_estandar, logistica_normalitzada_entrenament.cv_results_['params']):\n",
    "    print(\"{}   |  [+/-{}]  |  {}\".format(round(mitjana,4), round(desviacio_estandard,4), parametres))\n",
    "    print(\"____________________________________________________________________________________________________\")"
   ]
  },
  {
   "cell_type": "code",
   "execution_count": 62,
   "metadata": {
    "ExecuteTime": {
     "end_time": "2021-07-03T10:52:58.597677Z",
     "start_time": "2021-07-03T10:52:32.819696Z"
    }
   },
   "outputs": [
    {
     "name": "stdout",
     "output_type": "stream",
     "text": [
      "[12:52:58] WARNING: C:/Users/Administrator/workspace/xgboost-win64_release_1.4.0/src/learner.cc:1095: Starting in XGBoost 1.3.0, the default evaluation metric used with the objective 'binary:logistic' was changed from 'error' to 'logloss'. Explicitly set eval_metric if you'd like to restore the old behavior.\n",
      "Els paràmetres que afinen millor la métrica són: \n",
      "{'booster': 'gblinear'}\n",
      "\n"
     ]
    }
   ],
   "source": [
    "# Model xgboost_normalitzada\n",
    "\n",
    "# Definició dels paràmetres a afinar\n",
    "xgboost_normalitzada_parametres_a_afinar = {'booster': ['gbtree', 'gblinear', 'dart'],}\n",
    "\n",
    "# Métrica escollida d'entre: precision, recall, f1, f1_weighted, f1_micro, f1_macro, accuracy, roc_auc\n",
    "xgboost_normalitzada_metrica = 'accuracy'\n",
    "\n",
    "# Entrenament dels hiper_paràmetres de la métrica escollida\n",
    "xgboost_normalitzada_entrenament = GridSearchCV(estimator = xgb.XGBClassifier(objective ='binary:logistic', use_label_encoder = False, random_state = 5678), param_grid = xgboost_normalitzada_parametres_a_afinar, cv=10, scoring='%s' % xgboost_normalitzada_metrica, n_jobs= -1)\n",
    "# Ajust\n",
    "xgboost_normalitzada_entrenament.fit(mostra_entrenament_normalitzada_x, mostra_entrenament_normalitzada_y)\n",
    "    \n",
    "print(\"Els paràmetres que afinen millor la métrica són: \\n{}\\n\".format(xgboost_normalitzada_entrenament.best_params_))\n",
    "\n",
    "xgboost_normalitzada_metrica_mitjana = xgboost_normalitzada_entrenament.cv_results_['mean_test_score']\n",
    "xgboost_normalitzada_metrica_desviacio_estandar = xgboost_normalitzada_entrenament.cv_results_['std_test_score']"
   ]
  },
  {
   "cell_type": "code",
   "execution_count": 63,
   "metadata": {
    "ExecuteTime": {
     "end_time": "2021-07-03T10:52:58.613674Z",
     "start_time": "2021-07-03T10:52:58.597677Z"
    }
   },
   "outputs": [
    {
     "name": "stdout",
     "output_type": "stream",
     "text": [
      "Llista de puntuacions obtinguda en les diferents combinacions de hiper_paràmetres:\n",
      "\n",
      "Puntuació   Desv. Estd.     Paràmetres\n",
      "====================================================================================================\n",
      "0.9064   |  [+/-0.008]  |  {'booster': 'gbtree'}\n",
      "____________________________________________________________________________________________________\n",
      "0.9037   |  [+/-0.0047]  |  {'booster': 'gblinear'}\n",
      "____________________________________________________________________________________________________\n",
      "0.9037   |  [+/-0.008]  |  {'booster': 'dart'}\n",
      "____________________________________________________________________________________________________\n"
     ]
    }
   ],
   "source": [
    "print(\"Llista de puntuacions obtinguda en les diferents combinacions de hiper_paràmetres:\\n\")\n",
    "print(\"Puntuació   Desv. Estd.     Paràmetres\")\n",
    "print(\"====================================================================================================\")\n",
    "\n",
    "for mitjana, desviacio_estandard, parametres in zip(np.sort(xgboost_normalitzada_metrica_mitjana)[::-1], xgboost_normalitzada_metrica_desviacio_estandar, xgboost_normalitzada_entrenament.cv_results_['params']):\n",
    "    print(\"{}   |  [+/-{}]  |  {}\".format(round(mitjana,4), round(desviacio_estandard,4), parametres))\n",
    "    print(\"____________________________________________________________________________________________________\")"
   ]
  },
  {
   "cell_type": "markdown",
   "metadata": {},
   "source": [
    "Comparo el seu rendiment utilitzant l’aproximació traint/test o cross-validation."
   ]
  },
  {
   "cell_type": "code",
   "execution_count": 64,
   "metadata": {
    "ExecuteTime": {
     "end_time": "2021-07-03T10:52:58.637669Z",
     "start_time": "2021-07-03T10:52:58.613674Z"
    }
   },
   "outputs": [
    {
     "name": "stdout",
     "output_type": "stream",
     "text": [
      "Exactitud:            0.9203\n",
      "Àrea sota la corba  : 0.6592\n"
     ]
    }
   ],
   "source": [
    "# Model xarxa neuronal\n",
    "\n",
    "xarxa_neuronal_normalitzada_prediccio_rendiment = xarxa_neuronal_normalitzada.predict(mostra_validacio_normalitzada_x)\n",
    "xarxa_neuronal_normalitzada_metrica_exactitud_prediccio_rendiment = round(metrics.accuracy_score(mostra_validacio_normalitzada_y, xarxa_neuronal_normalitzada_prediccio_rendiment),4)\n",
    "xarxa_neuronal_normalitzada_metrica_asc_prediccio_rendiment = round(metrics.roc_auc_score(mostra_validacio_normalitzada_y, xarxa_neuronal_normalitzada_prediccio_rendiment),4)\n",
    "\n",
    "#print(classification_report(mostra_validacio_normalitzada_y, xarxa_neuronal_normalitzada_prediccio_rendiment))\n",
    "print(\"Exactitud:           \", xarxa_neuronal_normalitzada_metrica_exactitud_prediccio_rendiment)\n",
    "print(\"Àrea sota la corba  :\", xarxa_neuronal_normalitzada_metrica_asc_prediccio_rendiment)"
   ]
  },
  {
   "cell_type": "code",
   "execution_count": 65,
   "metadata": {
    "ExecuteTime": {
     "end_time": "2021-07-03T10:52:58.653664Z",
     "start_time": "2021-07-03T10:52:58.637669Z"
    }
   },
   "outputs": [
    {
     "name": "stdout",
     "output_type": "stream",
     "text": [
      "Exactitud:            0.9037\n",
      "Àrea sota la corba  : 0.5\n"
     ]
    }
   ],
   "source": [
    "# Model logístic\n",
    "\n",
    "logistica_normalitzada_prediccio_rendiment = logistica_normalitzada.predict(mostra_validacio_normalitzada_x)\n",
    "logistica_normalitzada_metrica_exactitud_prediccio_rendiment = round(metrics.accuracy_score(mostra_validacio_normalitzada_y, logistica_normalitzada_prediccio_rendiment),4)\n",
    "logistica_normalitzada_metrica_asc_prediccio_rendiment = round(metrics.roc_auc_score(mostra_validacio_normalitzada_y, logistica_normalitzada_prediccio_rendiment),4)\n",
    "\n",
    "#print(classification_report(mostra_validacio_normalitzada_y, logistica_normalitzada_prediccio_rendiment))\n",
    "print(\"Exactitud:           \", logistica_normalitzada_metrica_exactitud_prediccio_rendiment)\n",
    "print(\"Àrea sota la corba  :\", logistica_normalitzada_metrica_asc_prediccio_rendiment)"
   ]
  },
  {
   "cell_type": "code",
   "execution_count": 66,
   "metadata": {
    "ExecuteTime": {
     "end_time": "2021-07-03T10:52:58.679700Z",
     "start_time": "2021-07-03T10:52:58.653664Z"
    }
   },
   "outputs": [
    {
     "name": "stdout",
     "output_type": "stream",
     "text": [
      "Exactitud:            0.9117\n",
      "Àrea sota la corba:   0.7054\n"
     ]
    }
   ],
   "source": [
    "# Model xgboost_normalitzada\n",
    "\n",
    "xgboost_normalitzada_prediccio_rendiment = xgboost_normalitzada.predict(mostra_validacio_normalitzada_x)\n",
    "xgboost_normalitzada_metrica_exactitud_prediccio_rendiment = round(metrics.accuracy_score(mostra_validacio_normalitzada_y, xgboost_normalitzada_prediccio_rendiment),4)\n",
    "xgboost_normalitzada_metrica_asc_prediccio_rendiment = round(metrics.roc_auc_score(mostra_validacio_normalitzada_y, xgboost_normalitzada_prediccio_rendiment),4)\n",
    "\n",
    "#print(classification_report(mostra_validacio_normalitzada_y, xgboost_normalitzada_prediccio_rendiment))\n",
    "print(\"Exactitud:           \", xgboost_normalitzada_metrica_exactitud_prediccio_rendiment)\n",
    "print(\"Àrea sota la corba:  \", xgboost_normalitzada_metrica_asc_prediccio_rendiment)"
   ]
  },
  {
   "cell_type": "markdown",
   "metadata": {
    "ExecuteTime": {
     "end_time": "2021-06-25T18:42:40.089119Z",
     "start_time": "2021-06-25T18:42:40.077123Z"
    }
   },
   "source": [
    "## Nivell 3\n",
    "\n",
    "- Exercici 6\n",
    "\n",
    "    No utilitzis la variable DepDelay a l’hora de fer prediccions."
   ]
  },
  {
   "cell_type": "code",
   "execution_count": 67,
   "metadata": {
    "ExecuteTime": {
     "end_time": "2021-07-03T10:52:58.691697Z",
     "start_time": "2021-07-03T10:52:58.679700Z"
    }
   },
   "outputs": [],
   "source": [
    "# Refem-ho tot sense 'DepDelay'\n",
    "\n",
    "## Variable dependent\n",
    "y = vols_normalitzat['ArrDelay_delayed']\n",
    "\n",
    "# Variables predictores\n",
    "x = vols_normalitzat.drop(['ArrDelay_delayed', 'DepDelay'], axis = 1)\n",
    "\n",
    "# LLista amb el nom dels predictors\n",
    "x_columnes = list(x.columns)"
   ]
  },
  {
   "cell_type": "code",
   "execution_count": 68,
   "metadata": {
    "ExecuteTime": {
     "end_time": "2021-07-03T10:52:58.794274Z",
     "start_time": "2021-07-03T10:52:58.699695Z"
    }
   },
   "outputs": [
    {
     "name": "stdout",
     "output_type": "stream",
     "text": [
      "Tamany de mostra d'entrenament: 12000\n",
      "Tamany de mostra de validació: 3000\n"
     ]
    },
    {
     "data": {
      "text/html": [
       "<div>\n",
       "<style scoped>\n",
       "    .dataframe tbody tr th:only-of-type {\n",
       "        vertical-align: middle;\n",
       "    }\n",
       "\n",
       "    .dataframe tbody tr th {\n",
       "        vertical-align: top;\n",
       "    }\n",
       "\n",
       "    .dataframe thead th {\n",
       "        text-align: right;\n",
       "    }\n",
       "</style>\n",
       "<table border=\"1\" class=\"dataframe\">\n",
       "  <thead>\n",
       "    <tr style=\"text-align: right;\">\n",
       "      <th></th>\n",
       "      <th>ActualElapsedTime</th>\n",
       "      <th>AirTime</th>\n",
       "      <th>Distance</th>\n",
       "      <th>TaxiIn</th>\n",
       "      <th>TaxiOut</th>\n",
       "      <th>ArrDelay_delayed</th>\n",
       "    </tr>\n",
       "    <tr>\n",
       "      <th>id</th>\n",
       "      <th></th>\n",
       "      <th></th>\n",
       "      <th></th>\n",
       "      <th></th>\n",
       "      <th></th>\n",
       "      <th></th>\n",
       "    </tr>\n",
       "  </thead>\n",
       "  <tbody>\n",
       "    <tr>\n",
       "      <th>1020517</th>\n",
       "      <td>0.171429</td>\n",
       "      <td>0.154723</td>\n",
       "      <td>0.132225</td>\n",
       "      <td>0.072917</td>\n",
       "      <td>0.067308</td>\n",
       "      <td>1</td>\n",
       "    </tr>\n",
       "    <tr>\n",
       "      <th>751521</th>\n",
       "      <td>0.135338</td>\n",
       "      <td>0.122150</td>\n",
       "      <td>0.079903</td>\n",
       "      <td>0.145833</td>\n",
       "      <td>0.032051</td>\n",
       "      <td>0</td>\n",
       "    </tr>\n",
       "    <tr>\n",
       "      <th>1528665</th>\n",
       "      <td>0.142857</td>\n",
       "      <td>0.141694</td>\n",
       "      <td>0.115798</td>\n",
       "      <td>0.041667</td>\n",
       "      <td>0.041667</td>\n",
       "      <td>1</td>\n",
       "    </tr>\n",
       "    <tr>\n",
       "      <th>815631</th>\n",
       "      <td>0.445113</td>\n",
       "      <td>0.462541</td>\n",
       "      <td>0.542081</td>\n",
       "      <td>0.062500</td>\n",
       "      <td>0.048077</td>\n",
       "      <td>1</td>\n",
       "    </tr>\n",
       "    <tr>\n",
       "      <th>1169295</th>\n",
       "      <td>0.557895</td>\n",
       "      <td>0.516287</td>\n",
       "      <td>0.449605</td>\n",
       "      <td>0.062500</td>\n",
       "      <td>0.182692</td>\n",
       "      <td>1</td>\n",
       "    </tr>\n",
       "    <tr>\n",
       "      <th>...</th>\n",
       "      <td>...</td>\n",
       "      <td>...</td>\n",
       "      <td>...</td>\n",
       "      <td>...</td>\n",
       "      <td>...</td>\n",
       "      <td>...</td>\n",
       "    </tr>\n",
       "    <tr>\n",
       "      <th>3365651</th>\n",
       "      <td>0.482707</td>\n",
       "      <td>0.490228</td>\n",
       "      <td>0.466031</td>\n",
       "      <td>0.114583</td>\n",
       "      <td>0.057692</td>\n",
       "      <td>1</td>\n",
       "    </tr>\n",
       "    <tr>\n",
       "      <th>1214504</th>\n",
       "      <td>0.114286</td>\n",
       "      <td>0.112378</td>\n",
       "      <td>0.084364</td>\n",
       "      <td>0.031250</td>\n",
       "      <td>0.041667</td>\n",
       "      <td>1</td>\n",
       "    </tr>\n",
       "    <tr>\n",
       "      <th>886636</th>\n",
       "      <td>0.072180</td>\n",
       "      <td>0.055375</td>\n",
       "      <td>0.048672</td>\n",
       "      <td>0.052083</td>\n",
       "      <td>0.057692</td>\n",
       "      <td>1</td>\n",
       "    </tr>\n",
       "    <tr>\n",
       "      <th>2469311</th>\n",
       "      <td>0.073684</td>\n",
       "      <td>0.057003</td>\n",
       "      <td>0.060231</td>\n",
       "      <td>0.031250</td>\n",
       "      <td>0.064103</td>\n",
       "      <td>1</td>\n",
       "    </tr>\n",
       "    <tr>\n",
       "      <th>3395782</th>\n",
       "      <td>0.090226</td>\n",
       "      <td>0.078176</td>\n",
       "      <td>0.067532</td>\n",
       "      <td>0.093750</td>\n",
       "      <td>0.038462</td>\n",
       "      <td>1</td>\n",
       "    </tr>\n",
       "  </tbody>\n",
       "</table>\n",
       "<p>12000 rows × 6 columns</p>\n",
       "</div>"
      ],
      "text/plain": [
       "         ActualElapsedTime   AirTime  Distance    TaxiIn   TaxiOut  \\\n",
       "id                                                                   \n",
       "1020517           0.171429  0.154723  0.132225  0.072917  0.067308   \n",
       "751521            0.135338  0.122150  0.079903  0.145833  0.032051   \n",
       "1528665           0.142857  0.141694  0.115798  0.041667  0.041667   \n",
       "815631            0.445113  0.462541  0.542081  0.062500  0.048077   \n",
       "1169295           0.557895  0.516287  0.449605  0.062500  0.182692   \n",
       "...                    ...       ...       ...       ...       ...   \n",
       "3365651           0.482707  0.490228  0.466031  0.114583  0.057692   \n",
       "1214504           0.114286  0.112378  0.084364  0.031250  0.041667   \n",
       "886636            0.072180  0.055375  0.048672  0.052083  0.057692   \n",
       "2469311           0.073684  0.057003  0.060231  0.031250  0.064103   \n",
       "3395782           0.090226  0.078176  0.067532  0.093750  0.038462   \n",
       "\n",
       "         ArrDelay_delayed  \n",
       "id                         \n",
       "1020517                 1  \n",
       "751521                  0  \n",
       "1528665                 1  \n",
       "815631                  1  \n",
       "1169295                 1  \n",
       "...                   ...  \n",
       "3365651                 1  \n",
       "1214504                 1  \n",
       "886636                  1  \n",
       "2469311                 1  \n",
       "3395782                 1  \n",
       "\n",
       "[12000 rows x 6 columns]"
      ]
     },
     "metadata": {},
     "output_type": "display_data"
    },
    {
     "data": {
      "text/html": [
       "<div>\n",
       "<style scoped>\n",
       "    .dataframe tbody tr th:only-of-type {\n",
       "        vertical-align: middle;\n",
       "    }\n",
       "\n",
       "    .dataframe tbody tr th {\n",
       "        vertical-align: top;\n",
       "    }\n",
       "\n",
       "    .dataframe thead th {\n",
       "        text-align: right;\n",
       "    }\n",
       "</style>\n",
       "<table border=\"1\" class=\"dataframe\">\n",
       "  <thead>\n",
       "    <tr style=\"text-align: right;\">\n",
       "      <th></th>\n",
       "      <th>ActualElapsedTime</th>\n",
       "      <th>AirTime</th>\n",
       "      <th>Distance</th>\n",
       "      <th>TaxiIn</th>\n",
       "      <th>TaxiOut</th>\n",
       "    </tr>\n",
       "    <tr>\n",
       "      <th>id</th>\n",
       "      <th></th>\n",
       "      <th></th>\n",
       "      <th></th>\n",
       "      <th></th>\n",
       "      <th></th>\n",
       "    </tr>\n",
       "  </thead>\n",
       "  <tbody>\n",
       "    <tr>\n",
       "      <th>1020517</th>\n",
       "      <td>0.171429</td>\n",
       "      <td>0.154723</td>\n",
       "      <td>0.132225</td>\n",
       "      <td>0.072917</td>\n",
       "      <td>0.067308</td>\n",
       "    </tr>\n",
       "    <tr>\n",
       "      <th>751521</th>\n",
       "      <td>0.135338</td>\n",
       "      <td>0.122150</td>\n",
       "      <td>0.079903</td>\n",
       "      <td>0.145833</td>\n",
       "      <td>0.032051</td>\n",
       "    </tr>\n",
       "    <tr>\n",
       "      <th>1528665</th>\n",
       "      <td>0.142857</td>\n",
       "      <td>0.141694</td>\n",
       "      <td>0.115798</td>\n",
       "      <td>0.041667</td>\n",
       "      <td>0.041667</td>\n",
       "    </tr>\n",
       "    <tr>\n",
       "      <th>815631</th>\n",
       "      <td>0.445113</td>\n",
       "      <td>0.462541</td>\n",
       "      <td>0.542081</td>\n",
       "      <td>0.062500</td>\n",
       "      <td>0.048077</td>\n",
       "    </tr>\n",
       "    <tr>\n",
       "      <th>1169295</th>\n",
       "      <td>0.557895</td>\n",
       "      <td>0.516287</td>\n",
       "      <td>0.449605</td>\n",
       "      <td>0.062500</td>\n",
       "      <td>0.182692</td>\n",
       "    </tr>\n",
       "  </tbody>\n",
       "</table>\n",
       "</div>"
      ],
      "text/plain": [
       "         ActualElapsedTime   AirTime  Distance    TaxiIn   TaxiOut\n",
       "id                                                                \n",
       "1020517           0.171429  0.154723  0.132225  0.072917  0.067308\n",
       "751521            0.135338  0.122150  0.079903  0.145833  0.032051\n",
       "1528665           0.142857  0.141694  0.115798  0.041667  0.041667\n",
       "815631            0.445113  0.462541  0.542081  0.062500  0.048077\n",
       "1169295           0.557895  0.516287  0.449605  0.062500  0.182692"
      ]
     },
     "metadata": {},
     "output_type": "display_data"
    },
    {
     "data": {
      "text/plain": [
       "id\n",
       "1020517    1\n",
       "751521     0\n",
       "1528665    1\n",
       "815631     1\n",
       "1169295    1\n",
       "Name: ArrDelay_delayed, dtype: int32"
      ]
     },
     "metadata": {},
     "output_type": "display_data"
    },
    {
     "data": {
      "text/html": [
       "<div>\n",
       "<style scoped>\n",
       "    .dataframe tbody tr th:only-of-type {\n",
       "        vertical-align: middle;\n",
       "    }\n",
       "\n",
       "    .dataframe tbody tr th {\n",
       "        vertical-align: top;\n",
       "    }\n",
       "\n",
       "    .dataframe thead th {\n",
       "        text-align: right;\n",
       "    }\n",
       "</style>\n",
       "<table border=\"1\" class=\"dataframe\">\n",
       "  <thead>\n",
       "    <tr style=\"text-align: right;\">\n",
       "      <th></th>\n",
       "      <th>ActualElapsedTime</th>\n",
       "      <th>AirTime</th>\n",
       "      <th>Distance</th>\n",
       "      <th>TaxiIn</th>\n",
       "      <th>TaxiOut</th>\n",
       "      <th>ArrDelay_delayed</th>\n",
       "    </tr>\n",
       "    <tr>\n",
       "      <th>id</th>\n",
       "      <th></th>\n",
       "      <th></th>\n",
       "      <th></th>\n",
       "      <th></th>\n",
       "      <th></th>\n",
       "      <th></th>\n",
       "    </tr>\n",
       "  </thead>\n",
       "  <tbody>\n",
       "    <tr>\n",
       "      <th>689285</th>\n",
       "      <td>0.357895</td>\n",
       "      <td>0.351792</td>\n",
       "      <td>0.404786</td>\n",
       "      <td>0.052083</td>\n",
       "      <td>0.083333</td>\n",
       "      <td>1</td>\n",
       "    </tr>\n",
       "    <tr>\n",
       "      <th>1513378</th>\n",
       "      <td>0.066165</td>\n",
       "      <td>0.042345</td>\n",
       "      <td>0.035895</td>\n",
       "      <td>0.052083</td>\n",
       "      <td>0.070513</td>\n",
       "      <td>0</td>\n",
       "    </tr>\n",
       "    <tr>\n",
       "      <th>80624</th>\n",
       "      <td>0.114286</td>\n",
       "      <td>0.105863</td>\n",
       "      <td>0.074630</td>\n",
       "      <td>0.052083</td>\n",
       "      <td>0.048077</td>\n",
       "      <td>1</td>\n",
       "    </tr>\n",
       "    <tr>\n",
       "      <th>1239004</th>\n",
       "      <td>0.064662</td>\n",
       "      <td>0.066775</td>\n",
       "      <td>0.053133</td>\n",
       "      <td>0.041667</td>\n",
       "      <td>0.022436</td>\n",
       "      <td>1</td>\n",
       "    </tr>\n",
       "    <tr>\n",
       "      <th>1327794</th>\n",
       "      <td>0.066165</td>\n",
       "      <td>0.052117</td>\n",
       "      <td>0.018252</td>\n",
       "      <td>0.062500</td>\n",
       "      <td>0.048077</td>\n",
       "      <td>1</td>\n",
       "    </tr>\n",
       "    <tr>\n",
       "      <th>...</th>\n",
       "      <td>...</td>\n",
       "      <td>...</td>\n",
       "      <td>...</td>\n",
       "      <td>...</td>\n",
       "      <td>...</td>\n",
       "      <td>...</td>\n",
       "    </tr>\n",
       "    <tr>\n",
       "      <th>6618180</th>\n",
       "      <td>0.064662</td>\n",
       "      <td>0.030945</td>\n",
       "      <td>0.013182</td>\n",
       "      <td>0.041667</td>\n",
       "      <td>0.092949</td>\n",
       "      <td>1</td>\n",
       "    </tr>\n",
       "    <tr>\n",
       "      <th>5023448</th>\n",
       "      <td>0.055639</td>\n",
       "      <td>0.045603</td>\n",
       "      <td>0.024133</td>\n",
       "      <td>0.052083</td>\n",
       "      <td>0.041667</td>\n",
       "      <td>1</td>\n",
       "    </tr>\n",
       "    <tr>\n",
       "      <th>649241</th>\n",
       "      <td>0.187970</td>\n",
       "      <td>0.193811</td>\n",
       "      <td>0.152099</td>\n",
       "      <td>0.062500</td>\n",
       "      <td>0.028846</td>\n",
       "      <td>1</td>\n",
       "    </tr>\n",
       "    <tr>\n",
       "      <th>1710902</th>\n",
       "      <td>0.210526</td>\n",
       "      <td>0.197068</td>\n",
       "      <td>0.244170</td>\n",
       "      <td>0.156250</td>\n",
       "      <td>0.041667</td>\n",
       "      <td>1</td>\n",
       "    </tr>\n",
       "    <tr>\n",
       "      <th>6485523</th>\n",
       "      <td>0.102256</td>\n",
       "      <td>0.099349</td>\n",
       "      <td>0.073819</td>\n",
       "      <td>0.052083</td>\n",
       "      <td>0.035256</td>\n",
       "      <td>1</td>\n",
       "    </tr>\n",
       "  </tbody>\n",
       "</table>\n",
       "<p>3000 rows × 6 columns</p>\n",
       "</div>"
      ],
      "text/plain": [
       "         ActualElapsedTime   AirTime  Distance    TaxiIn   TaxiOut  \\\n",
       "id                                                                   \n",
       "689285            0.357895  0.351792  0.404786  0.052083  0.083333   \n",
       "1513378           0.066165  0.042345  0.035895  0.052083  0.070513   \n",
       "80624             0.114286  0.105863  0.074630  0.052083  0.048077   \n",
       "1239004           0.064662  0.066775  0.053133  0.041667  0.022436   \n",
       "1327794           0.066165  0.052117  0.018252  0.062500  0.048077   \n",
       "...                    ...       ...       ...       ...       ...   \n",
       "6618180           0.064662  0.030945  0.013182  0.041667  0.092949   \n",
       "5023448           0.055639  0.045603  0.024133  0.052083  0.041667   \n",
       "649241            0.187970  0.193811  0.152099  0.062500  0.028846   \n",
       "1710902           0.210526  0.197068  0.244170  0.156250  0.041667   \n",
       "6485523           0.102256  0.099349  0.073819  0.052083  0.035256   \n",
       "\n",
       "         ArrDelay_delayed  \n",
       "id                         \n",
       "689285                  1  \n",
       "1513378                 0  \n",
       "80624                   1  \n",
       "1239004                 1  \n",
       "1327794                 1  \n",
       "...                   ...  \n",
       "6618180                 1  \n",
       "5023448                 1  \n",
       "649241                  1  \n",
       "1710902                 1  \n",
       "6485523                 1  \n",
       "\n",
       "[3000 rows x 6 columns]"
      ]
     },
     "metadata": {},
     "output_type": "display_data"
    },
    {
     "data": {
      "text/html": [
       "<div>\n",
       "<style scoped>\n",
       "    .dataframe tbody tr th:only-of-type {\n",
       "        vertical-align: middle;\n",
       "    }\n",
       "\n",
       "    .dataframe tbody tr th {\n",
       "        vertical-align: top;\n",
       "    }\n",
       "\n",
       "    .dataframe thead th {\n",
       "        text-align: right;\n",
       "    }\n",
       "</style>\n",
       "<table border=\"1\" class=\"dataframe\">\n",
       "  <thead>\n",
       "    <tr style=\"text-align: right;\">\n",
       "      <th></th>\n",
       "      <th>ActualElapsedTime</th>\n",
       "      <th>AirTime</th>\n",
       "      <th>Distance</th>\n",
       "      <th>TaxiIn</th>\n",
       "      <th>TaxiOut</th>\n",
       "    </tr>\n",
       "    <tr>\n",
       "      <th>id</th>\n",
       "      <th></th>\n",
       "      <th></th>\n",
       "      <th></th>\n",
       "      <th></th>\n",
       "      <th></th>\n",
       "    </tr>\n",
       "  </thead>\n",
       "  <tbody>\n",
       "    <tr>\n",
       "      <th>689285</th>\n",
       "      <td>0.357895</td>\n",
       "      <td>0.351792</td>\n",
       "      <td>0.404786</td>\n",
       "      <td>0.052083</td>\n",
       "      <td>0.083333</td>\n",
       "    </tr>\n",
       "    <tr>\n",
       "      <th>1513378</th>\n",
       "      <td>0.066165</td>\n",
       "      <td>0.042345</td>\n",
       "      <td>0.035895</td>\n",
       "      <td>0.052083</td>\n",
       "      <td>0.070513</td>\n",
       "    </tr>\n",
       "    <tr>\n",
       "      <th>80624</th>\n",
       "      <td>0.114286</td>\n",
       "      <td>0.105863</td>\n",
       "      <td>0.074630</td>\n",
       "      <td>0.052083</td>\n",
       "      <td>0.048077</td>\n",
       "    </tr>\n",
       "    <tr>\n",
       "      <th>1239004</th>\n",
       "      <td>0.064662</td>\n",
       "      <td>0.066775</td>\n",
       "      <td>0.053133</td>\n",
       "      <td>0.041667</td>\n",
       "      <td>0.022436</td>\n",
       "    </tr>\n",
       "    <tr>\n",
       "      <th>1327794</th>\n",
       "      <td>0.066165</td>\n",
       "      <td>0.052117</td>\n",
       "      <td>0.018252</td>\n",
       "      <td>0.062500</td>\n",
       "      <td>0.048077</td>\n",
       "    </tr>\n",
       "  </tbody>\n",
       "</table>\n",
       "</div>"
      ],
      "text/plain": [
       "         ActualElapsedTime   AirTime  Distance    TaxiIn   TaxiOut\n",
       "id                                                                \n",
       "689285            0.357895  0.351792  0.404786  0.052083  0.083333\n",
       "1513378           0.066165  0.042345  0.035895  0.052083  0.070513\n",
       "80624             0.114286  0.105863  0.074630  0.052083  0.048077\n",
       "1239004           0.064662  0.066775  0.053133  0.041667  0.022436\n",
       "1327794           0.066165  0.052117  0.018252  0.062500  0.048077"
      ]
     },
     "metadata": {},
     "output_type": "display_data"
    },
    {
     "data": {
      "text/plain": [
       "id\n",
       "689285     1\n",
       "1513378    0\n",
       "80624      1\n",
       "1239004    1\n",
       "1327794    1\n",
       "Name: ArrDelay_delayed, dtype: int32"
      ]
     },
     "metadata": {},
     "output_type": "display_data"
    }
   ],
   "source": [
    "# Creació de la mostra d'entrenament i validació\n",
    "mostra_entrenament_normalitzada_senseDepDelay_x, mostra_validacio_normalitzada_senseDepDelay_x, mostra_entrenament_normalitzada_senseDepDelay_y, mostra_validacio_normalitzada_senseDepDelay_y = train_test_split(x, y, test_size = 0.2, random_state=567)\n",
    "\n",
    "mostra_entrenament_normalitzada_senseDepDelay = pd.concat([mostra_entrenament_normalitzada_senseDepDelay_x, mostra_entrenament_normalitzada_senseDepDelay_y], axis=1)\n",
    "mostra_validacio_normalitzada_senseDepDelay = pd.concat([mostra_validacio_normalitzada_senseDepDelay_x, mostra_validacio_normalitzada_senseDepDelay_y], axis=1)\n",
    "\n",
    "print(\"Tamany de mostra d'entrenament: {}\".format(mostra_entrenament_normalitzada_senseDepDelay_x.shape[0]))\n",
    "print(\"Tamany de mostra de validació: {}\".format(mostra_validacio_normalitzada_senseDepDelay_x.shape[0]))\n",
    "\n",
    "display(mostra_entrenament_normalitzada_senseDepDelay)\n",
    "display(mostra_entrenament_normalitzada_senseDepDelay_x.head())\n",
    "display(mostra_entrenament_normalitzada_senseDepDelay_y.head())\n",
    "\n",
    "display(mostra_validacio_normalitzada_senseDepDelay)\n",
    "display(mostra_validacio_normalitzada_senseDepDelay_x.head())\n",
    "display(mostra_validacio_normalitzada_senseDepDelay_y.head())"
   ]
  },
  {
   "cell_type": "code",
   "execution_count": 69,
   "metadata": {
    "ExecuteTime": {
     "end_time": "2021-07-03T10:53:11.630926Z",
     "start_time": "2021-07-03T10:52:58.798279Z"
    }
   },
   "outputs": [],
   "source": [
    "# Model de xarxes neuronals\n",
    "xarxa_neuronal_normalitzada_senseDepDelay = MLPClassifier(hidden_layer_sizes=(8,8,8), activation='relu', solver='adam', max_iter=500, random_state=5678)\n",
    "xarxa_neuronal_normalitzada_senseDepDelay.fit(mostra_entrenament_normalitzada_senseDepDelay_x, mostra_entrenament_normalitzada_senseDepDelay_y)\n",
    "\n",
    "# Generem la predicció\n",
    "xarxa_neuronal_normalitzada_senseDepDelay_prediccio = xarxa_neuronal_normalitzada_senseDepDelay.predict(mostra_validacio_normalitzada_senseDepDelay_x)"
   ]
  },
  {
   "cell_type": "code",
   "execution_count": 70,
   "metadata": {
    "ExecuteTime": {
     "end_time": "2021-07-03T10:53:11.706883Z",
     "start_time": "2021-07-03T10:53:11.630926Z"
    }
   },
   "outputs": [],
   "source": [
    "# Model logístic\n",
    "logistica_normalitzada_senseDepDelay = LogisticRegression(max_iter=1000, random_state=5678)\n",
    "logistica_normalitzada_senseDepDelay.fit(mostra_entrenament_normalitzada_senseDepDelay_x, mostra_entrenament_normalitzada_senseDepDelay_y)\n",
    "\n",
    "# Generem la predicció\n",
    "logistica_normalitzada_senseDepDelay_prediccio = logistica_normalitzada_senseDepDelay.predict(mostra_validacio_normalitzada_senseDepDelay_x)"
   ]
  },
  {
   "cell_type": "code",
   "execution_count": 71,
   "metadata": {
    "ExecuteTime": {
     "end_time": "2021-07-03T10:53:12.385225Z",
     "start_time": "2021-07-03T10:53:11.706883Z"
    }
   },
   "outputs": [
    {
     "name": "stdout",
     "output_type": "stream",
     "text": [
      "[12:53:11] WARNING: C:/Users/Administrator/workspace/xgboost-win64_release_1.4.0/src/learner.cc:1095: Starting in XGBoost 1.3.0, the default evaluation metric used with the objective 'binary:logistic' was changed from 'error' to 'logloss'. Explicitly set eval_metric if you'd like to restore the old behavior.\n"
     ]
    }
   ],
   "source": [
    "# Model xgboost_normalitzada_senseDepDelay\n",
    "xgboost_normalitzada_senseDepDelay = xgb.XGBClassifier(objective ='binary:logistic', use_label_encoder=False, random_state=5678)\n",
    "xgboost_normalitzada_senseDepDelay.fit(mostra_entrenament_normalitzada_senseDepDelay_x, mostra_entrenament_normalitzada_senseDepDelay_y)\n",
    "\n",
    "# Generem la predicció\n",
    "xgboost_normalitzada_senseDepDelay_prediccio = xgboost_normalitzada_senseDepDelay.predict(mostra_validacio_normalitzada_senseDepDelay_x)"
   ]
  },
  {
   "cell_type": "markdown",
   "metadata": {},
   "source": [
    "Comparativa dels models de classificació utilitzant la precisió (accuracy), una matriu de confiança i d’altres mètriques més avançades."
   ]
  },
  {
   "cell_type": "code",
   "execution_count": 72,
   "metadata": {
    "ExecuteTime": {
     "end_time": "2021-07-03T10:53:12.401283Z",
     "start_time": "2021-07-03T10:53:12.385225Z"
    }
   },
   "outputs": [
    {
     "name": "stdout",
     "output_type": "stream",
     "text": [
      "0.9037\n",
      "0.903\n",
      "0.8973\n"
     ]
    }
   ],
   "source": [
    "# Calculem el grau de exactitud\n",
    "\n",
    "# Model de xarxes neuronals\n",
    "xarxa_neuronal_normalitzada_senseDepDelay_exactitud = round(metrics.accuracy_score(mostra_validacio_normalitzada_senseDepDelay_y, xarxa_neuronal_normalitzada_senseDepDelay_prediccio),4)\n",
    "print(xarxa_neuronal_normalitzada_senseDepDelay_exactitud)\n",
    "\n",
    "# Model logístic\n",
    "logistica_normalitzada_senseDepDelay_exactitud = round(metrics.accuracy_score(mostra_validacio_normalitzada_senseDepDelay_y, logistica_normalitzada_senseDepDelay_prediccio),4)\n",
    "print(logistica_normalitzada_senseDepDelay_exactitud)\n",
    "\n",
    "# Model xgboost_normalitzada_senseDepDelay\n",
    "xgboost_normalitzada_senseDepDelay_exactitud = round(metrics.accuracy_score(mostra_validacio_normalitzada_senseDepDelay_y, xgboost_normalitzada_senseDepDelay_prediccio),4)\n",
    "print(xgboost_normalitzada_senseDepDelay_exactitud)"
   ]
  },
  {
   "cell_type": "markdown",
   "metadata": {},
   "source": [
    "El model més exacte és el de xarxes_neuronals"
   ]
  },
  {
   "cell_type": "code",
   "execution_count": 73,
   "metadata": {
    "ExecuteTime": {
     "end_time": "2021-07-03T10:53:12.439282Z",
     "start_time": "2021-07-03T10:53:12.403301Z"
    }
   },
   "outputs": [
    {
     "name": "stdout",
     "output_type": "stream",
     "text": [
      "[[   0  289]\n",
      " [   0 2711]]\n",
      "[[   0  289]\n",
      " [   2 2709]]\n",
      "[[  11  278]\n",
      " [  30 2681]]\n"
     ]
    }
   ],
   "source": [
    "# Calculem la matriu de confusió\n",
    "\n",
    "# Model de xarxes neuronals\n",
    "xarxa_neuronal_normalitzada_senseDepDelay_matriu_confusio = metrics.confusion_matrix(mostra_validacio_normalitzada_senseDepDelay_y, xarxa_neuronal_normalitzada_senseDepDelay_prediccio)\n",
    "print(xarxa_neuronal_normalitzada_senseDepDelay_matriu_confusio)\n",
    "\n",
    "# Model logístic\n",
    "logistica_normalitzada_senseDepDelay_matriu_confusio = metrics.confusion_matrix(mostra_validacio_normalitzada_senseDepDelay_y, logistica_normalitzada_senseDepDelay_prediccio)\n",
    "print(logistica_normalitzada_senseDepDelay_matriu_confusio)\n",
    "\n",
    "# Model xgboost_normalitzada_senseDepDelay\n",
    "xgboost_normalitzada_senseDepDelay_matriu_confusio = metrics.confusion_matrix(mostra_validacio_normalitzada_senseDepDelay_y, xgboost_normalitzada_senseDepDelay_prediccio)\n",
    "print(xgboost_normalitzada_senseDepDelay_matriu_confusio)"
   ]
  },
  {
   "cell_type": "markdown",
   "metadata": {},
   "source": [
    "El model amb una matriu de confusió amb més verdaders positius i verdaders negatius és el de xgboost."
   ]
  },
  {
   "cell_type": "code",
   "execution_count": 74,
   "metadata": {
    "ExecuteTime": {
     "end_time": "2021-07-03T10:53:12.465339Z",
     "start_time": "2021-07-03T10:53:12.439282Z"
    }
   },
   "outputs": [
    {
     "name": "stdout",
     "output_type": "stream",
     "text": [
      "0.9037\n",
      "0.9036\n",
      "0.906\n"
     ]
    }
   ],
   "source": [
    "# Calculem el grau de precisió\n",
    "\n",
    "# Model de xarxes neuronals\n",
    "xarxa_neuronal_normalitzada_senseDepDelay_precisio = round(metrics.precision_score(mostra_validacio_normalitzada_senseDepDelay_y, xarxa_neuronal_normalitzada_senseDepDelay_prediccio),4)\n",
    "print(xarxa_neuronal_normalitzada_senseDepDelay_precisio)\n",
    "\n",
    "# Model logístic\n",
    "logistica_normalitzada_senseDepDelay_precisio = round(metrics.precision_score(mostra_validacio_normalitzada_senseDepDelay_y, logistica_normalitzada_senseDepDelay_prediccio),4)\n",
    "print(logistica_normalitzada_senseDepDelay_precisio)\n",
    "\n",
    "# Model xgboost_normalitzada_senseDepDelay\n",
    "xgboost_normalitzada_senseDepDelay_precisio = round(metrics.precision_score(mostra_validacio_normalitzada_senseDepDelay_y, xgboost_normalitzada_senseDepDelay_prediccio),4)\n",
    "print(xgboost_normalitzada_senseDepDelay_precisio)"
   ]
  },
  {
   "cell_type": "markdown",
   "metadata": {
    "ExecuteTime": {
     "end_time": "2021-06-25T18:50:44.736067Z",
     "start_time": "2021-06-25T18:50:44.728072Z"
    }
   },
   "source": [
    "El model més precís és el xgboost"
   ]
  },
  {
   "cell_type": "code",
   "execution_count": 75,
   "metadata": {
    "ExecuteTime": {
     "end_time": "2021-07-03T10:53:12.495308Z",
     "start_time": "2021-07-03T10:53:12.465339Z"
    }
   },
   "outputs": [
    {
     "name": "stdout",
     "output_type": "stream",
     "text": [
      "0.5\n",
      "0.4996\n",
      "0.5135\n"
     ]
    }
   ],
   "source": [
    "# Calculem l'àrea sota la corba\n",
    "\n",
    "# Model de xarxes neuronals\n",
    "xarxa_neuronal_normalitzada_senseDepDelay_asc = round(metrics.roc_auc_score(mostra_validacio_normalitzada_senseDepDelay_y, xarxa_neuronal_normalitzada_senseDepDelay_prediccio),4)\n",
    "print(xarxa_neuronal_normalitzada_senseDepDelay_asc)\n",
    "\n",
    "# Model logístic\n",
    "logistica_normalitzada_senseDepDelay_asc = round(metrics.roc_auc_score(mostra_validacio_normalitzada_senseDepDelay_y, logistica_normalitzada_senseDepDelay_prediccio),4)\n",
    "print(logistica_normalitzada_senseDepDelay_asc)\n",
    "\n",
    "# Model xgboost_normalitzada_senseDepDelay\n",
    "xgboost_normalitzada_senseDepDelay_asc = round(metrics.roc_auc_score(mostra_validacio_normalitzada_senseDepDelay_y, xgboost_normalitzada_senseDepDelay_prediccio),4)\n",
    "print(xgboost_normalitzada_senseDepDelay_asc)"
   ]
  },
  {
   "cell_type": "markdown",
   "metadata": {
    "ExecuteTime": {
     "end_time": "2021-06-25T18:51:10.034595Z",
     "start_time": "2021-06-25T18:51:10.026596Z"
    }
   },
   "source": [
    "El model amb una àrea sota la corba és el xgboost"
   ]
  },
  {
   "cell_type": "markdown",
   "metadata": {},
   "source": [
    "Entrena’ls utilitzant els diferents paràmetres que admeten."
   ]
  },
  {
   "cell_type": "code",
   "execution_count": 76,
   "metadata": {
    "ExecuteTime": {
     "end_time": "2021-07-03T11:02:29.816866Z",
     "start_time": "2021-07-03T10:53:12.495308Z"
    }
   },
   "outputs": [
    {
     "name": "stdout",
     "output_type": "stream",
     "text": [
      "Els paràmetres que afinen millor la métrica són: \n",
      "{'activation': 'tanh', 'hidden_layer_sizes': [8, 8], 'solver': 'adam'}\n",
      "\n"
     ]
    }
   ],
   "source": [
    "# Model xarxa neuronal\n",
    "\n",
    "# Definició dels paràmetres a afinar\n",
    "xarxa_neuronal_normalitzada_senseDepDelay_parametres_a_afinar = {'hidden_layer_sizes': [[8,8],[8,8,8],[8,8,8,8]], 'activation': ['identity', 'logistic', 'tanh', 'relu'],'solver': ['lbfgs', 'sgd', 'adam'],}\n",
    "\n",
    "# Métrica escollida d'entre: precision, recall, f1, f1_weighted, f1_micro, f1_macro, accuracy, roc_auc\n",
    "xarxa_neuronal_normalitzada_senseDepDelay_metrica = 'accuracy'\n",
    "\n",
    "# Entrenament dels hiper_paràmetres de la métrica escollida\n",
    "xarxa_neuronal_normalitzada_senseDepDelay_entrenament = GridSearchCV(estimator = MLPClassifier(max_iter=500,random_state=5678), param_grid = xarxa_neuronal_normalitzada_senseDepDelay_parametres_a_afinar, cv=10, scoring='%s' % xarxa_neuronal_normalitzada_senseDepDelay_metrica, n_jobs= -1)\n",
    "# Ajust\n",
    "xarxa_neuronal_normalitzada_senseDepDelay_entrenament.fit(mostra_entrenament_normalitzada_senseDepDelay_x, mostra_entrenament_normalitzada_senseDepDelay_y)\n",
    "    \n",
    "print(\"Els paràmetres que afinen millor la métrica són: \\n{}\\n\".format(xarxa_neuronal_normalitzada_senseDepDelay_entrenament.best_params_))\n",
    "\n",
    "xarxa_neuronal_normalitzada_senseDepDelay_metrica_mitjana = xarxa_neuronal_normalitzada_senseDepDelay_entrenament.cv_results_['mean_test_score']\n",
    "xarxa_neuronal_normalitzada_senseDepDelay_metrica_desviacio_estandar = xarxa_neuronal_normalitzada_senseDepDelay_entrenament.cv_results_['std_test_score']"
   ]
  },
  {
   "cell_type": "code",
   "execution_count": 77,
   "metadata": {
    "ExecuteTime": {
     "end_time": "2021-07-03T11:02:29.828861Z",
     "start_time": "2021-07-03T11:02:29.816866Z"
    }
   },
   "outputs": [
    {
     "name": "stdout",
     "output_type": "stream",
     "text": [
      "Llista de puntuacións obtinguda en les diferents combinacions de hiper_paràmetres:\n",
      "\n",
      "Puntuació   Desv. Estd.     Paràmetres\n",
      "====================================================================================================\n",
      "0.8943   |  [+/-0.0029]  |  {'activation': 'identity', 'hidden_layer_sizes': [8, 8], 'solver': 'lbfgs'}\n",
      "____________________________________________________________________________________________________\n",
      "0.8941   |  [+/-0.0003]  |  {'activation': 'identity', 'hidden_layer_sizes': [8, 8], 'solver': 'sgd'}\n",
      "____________________________________________________________________________________________________\n",
      "0.8941   |  [+/-0.0023]  |  {'activation': 'identity', 'hidden_layer_sizes': [8, 8], 'solver': 'adam'}\n",
      "____________________________________________________________________________________________________\n",
      "0.8941   |  [+/-0.0029]  |  {'activation': 'identity', 'hidden_layer_sizes': [8, 8, 8], 'solver': 'lbfgs'}\n",
      "____________________________________________________________________________________________________\n",
      "0.8941   |  [+/-0.0003]  |  {'activation': 'identity', 'hidden_layer_sizes': [8, 8, 8], 'solver': 'sgd'}\n",
      "____________________________________________________________________________________________________\n",
      "0.8941   |  [+/-0.0025]  |  {'activation': 'identity', 'hidden_layer_sizes': [8, 8, 8], 'solver': 'adam'}\n",
      "____________________________________________________________________________________________________\n",
      "0.8941   |  [+/-0.0029]  |  {'activation': 'identity', 'hidden_layer_sizes': [8, 8, 8, 8], 'solver': 'lbfgs'}\n",
      "____________________________________________________________________________________________________\n",
      "0.8941   |  [+/-0.0016]  |  {'activation': 'identity', 'hidden_layer_sizes': [8, 8, 8, 8], 'solver': 'sgd'}\n",
      "____________________________________________________________________________________________________\n",
      "0.8941   |  [+/-0.0028]  |  {'activation': 'identity', 'hidden_layer_sizes': [8, 8, 8, 8], 'solver': 'adam'}\n",
      "____________________________________________________________________________________________________\n",
      "0.8941   |  [+/-0.0003]  |  {'activation': 'logistic', 'hidden_layer_sizes': [8, 8], 'solver': 'lbfgs'}\n",
      "____________________________________________________________________________________________________\n",
      "0.8941   |  [+/-0.0003]  |  {'activation': 'logistic', 'hidden_layer_sizes': [8, 8], 'solver': 'sgd'}\n",
      "____________________________________________________________________________________________________\n",
      "0.8941   |  [+/-0.0004]  |  {'activation': 'logistic', 'hidden_layer_sizes': [8, 8], 'solver': 'adam'}\n",
      "____________________________________________________________________________________________________\n",
      "0.8941   |  [+/-0.0003]  |  {'activation': 'logistic', 'hidden_layer_sizes': [8, 8, 8], 'solver': 'lbfgs'}\n",
      "____________________________________________________________________________________________________\n",
      "0.8941   |  [+/-0.0003]  |  {'activation': 'logistic', 'hidden_layer_sizes': [8, 8, 8], 'solver': 'sgd'}\n",
      "____________________________________________________________________________________________________\n",
      "0.8941   |  [+/-0.0003]  |  {'activation': 'logistic', 'hidden_layer_sizes': [8, 8, 8], 'solver': 'adam'}\n",
      "____________________________________________________________________________________________________\n",
      "0.8941   |  [+/-0.0003]  |  {'activation': 'logistic', 'hidden_layer_sizes': [8, 8, 8, 8], 'solver': 'lbfgs'}\n",
      "____________________________________________________________________________________________________\n",
      "0.8941   |  [+/-0.0003]  |  {'activation': 'logistic', 'hidden_layer_sizes': [8, 8, 8, 8], 'solver': 'sgd'}\n",
      "____________________________________________________________________________________________________\n",
      "0.8941   |  [+/-0.0003]  |  {'activation': 'logistic', 'hidden_layer_sizes': [8, 8, 8, 8], 'solver': 'adam'}\n",
      "____________________________________________________________________________________________________\n",
      "0.8941   |  [+/-0.0008]  |  {'activation': 'tanh', 'hidden_layer_sizes': [8, 8], 'solver': 'lbfgs'}\n",
      "____________________________________________________________________________________________________\n",
      "0.8941   |  [+/-0.0003]  |  {'activation': 'tanh', 'hidden_layer_sizes': [8, 8], 'solver': 'sgd'}\n",
      "____________________________________________________________________________________________________\n",
      "0.8941   |  [+/-0.0014]  |  {'activation': 'tanh', 'hidden_layer_sizes': [8, 8], 'solver': 'adam'}\n",
      "____________________________________________________________________________________________________\n",
      "0.8941   |  [+/-0.0014]  |  {'activation': 'tanh', 'hidden_layer_sizes': [8, 8, 8], 'solver': 'lbfgs'}\n",
      "____________________________________________________________________________________________________\n",
      "0.894   |  [+/-0.0003]  |  {'activation': 'tanh', 'hidden_layer_sizes': [8, 8, 8], 'solver': 'sgd'}\n",
      "____________________________________________________________________________________________________\n",
      "0.8939   |  [+/-0.0003]  |  {'activation': 'tanh', 'hidden_layer_sizes': [8, 8, 8], 'solver': 'adam'}\n",
      "____________________________________________________________________________________________________\n",
      "0.8938   |  [+/-0.0018]  |  {'activation': 'tanh', 'hidden_layer_sizes': [8, 8, 8, 8], 'solver': 'lbfgs'}\n",
      "____________________________________________________________________________________________________\n",
      "0.8938   |  [+/-0.0003]  |  {'activation': 'tanh', 'hidden_layer_sizes': [8, 8, 8, 8], 'solver': 'sgd'}\n",
      "____________________________________________________________________________________________________\n",
      "0.8938   |  [+/-0.0005]  |  {'activation': 'tanh', 'hidden_layer_sizes': [8, 8, 8, 8], 'solver': 'adam'}\n",
      "____________________________________________________________________________________________________\n",
      "0.8937   |  [+/-0.001]  |  {'activation': 'relu', 'hidden_layer_sizes': [8, 8], 'solver': 'lbfgs'}\n",
      "____________________________________________________________________________________________________\n",
      "0.8935   |  [+/-0.0003]  |  {'activation': 'relu', 'hidden_layer_sizes': [8, 8], 'solver': 'sgd'}\n",
      "____________________________________________________________________________________________________\n",
      "0.893   |  [+/-0.0003]  |  {'activation': 'relu', 'hidden_layer_sizes': [8, 8], 'solver': 'adam'}\n",
      "____________________________________________________________________________________________________\n",
      "0.8929   |  [+/-0.0003]  |  {'activation': 'relu', 'hidden_layer_sizes': [8, 8, 8], 'solver': 'lbfgs'}\n",
      "____________________________________________________________________________________________________\n",
      "0.8927   |  [+/-0.0003]  |  {'activation': 'relu', 'hidden_layer_sizes': [8, 8, 8], 'solver': 'sgd'}\n",
      "____________________________________________________________________________________________________\n",
      "0.8927   |  [+/-0.0006]  |  {'activation': 'relu', 'hidden_layer_sizes': [8, 8, 8], 'solver': 'adam'}\n",
      "____________________________________________________________________________________________________\n",
      "0.8927   |  [+/-0.0003]  |  {'activation': 'relu', 'hidden_layer_sizes': [8, 8, 8, 8], 'solver': 'lbfgs'}\n",
      "____________________________________________________________________________________________________\n",
      "0.8927   |  [+/-0.0003]  |  {'activation': 'relu', 'hidden_layer_sizes': [8, 8, 8, 8], 'solver': 'sgd'}\n",
      "____________________________________________________________________________________________________\n",
      "0.8926   |  [+/-0.0003]  |  {'activation': 'relu', 'hidden_layer_sizes': [8, 8, 8, 8], 'solver': 'adam'}\n",
      "____________________________________________________________________________________________________\n"
     ]
    }
   ],
   "source": [
    "print(\"Llista de puntuacións obtinguda en les diferents combinacions de hiper_paràmetres:\\n\")\n",
    "print(\"Puntuació   Desv. Estd.     Paràmetres\")\n",
    "print(\"====================================================================================================\")\n",
    "\n",
    "for mitjana, desviacio_estandard, parametres in zip(np.sort(xarxa_neuronal_normalitzada_senseDepDelay_metrica_mitjana)[::-1], xarxa_neuronal_normalitzada_senseDepDelay_metrica_desviacio_estandar, xarxa_neuronal_normalitzada_senseDepDelay_entrenament.cv_results_['params']):\n",
    "    print(\"{}   |  [+/-{}]  |  {}\".format(round(mitjana,4), round(desviacio_estandard,4), parametres))\n",
    "    print(\"____________________________________________________________________________________________________\")"
   ]
  },
  {
   "cell_type": "code",
   "execution_count": 78,
   "metadata": {
    "ExecuteTime": {
     "end_time": "2021-07-03T11:02:35.286160Z",
     "start_time": "2021-07-03T11:02:29.832861Z"
    }
   },
   "outputs": [
    {
     "name": "stdout",
     "output_type": "stream",
     "text": [
      "Els paràmetres que afinen millor la métrica són: \n",
      "{'C': 0.5, 'penalty': 'l2', 'solver': 'newton-cg'}\n",
      "\n"
     ]
    }
   ],
   "source": [
    "# Model logístic\n",
    "\n",
    "# Definició dels paràmetres a afinar\n",
    "logistica_normalitzada_senseDepDelay_parametres_a_afinar = {'penalty': ['l2', 'none'],'C': [0.5,1.0,1.5],'solver': ['newton-cg', 'lbfgs', 'sag', 'saga'],}\n",
    "\n",
    "# Métrica escollida d'entre: precision, recall, f1, f1_weighted, f1_micro, f1_macro, accuracy, roc_auc\n",
    "logistica_normalitzada_senseDepDelay_metrica = 'accuracy'\n",
    "\n",
    "# Entrenament dels hiper_paràmetres de la métrica escollida\n",
    "logistica_normalitzada_senseDepDelay_entrenament = GridSearchCV(estimator = LogisticRegression(max_iter = 1000), param_grid = logistica_normalitzada_senseDepDelay_parametres_a_afinar, cv=10, scoring='%s' % logistica_normalitzada_senseDepDelay_metrica, n_jobs= -1)\n",
    "# Ajust\n",
    "logistica_normalitzada_senseDepDelay_entrenament.fit(mostra_entrenament_normalitzada_senseDepDelay_x, mostra_entrenament_normalitzada_senseDepDelay_y)\n",
    "    \n",
    "print(\"Els paràmetres que afinen millor la métrica són: \\n{}\\n\".format(logistica_normalitzada_senseDepDelay_entrenament.best_params_))\n",
    "\n",
    "logistica_normalitzada_senseDepDelay_metrica_mitjana = logistica_normalitzada_senseDepDelay_entrenament.cv_results_['mean_test_score']\n",
    "logistica_normalitzada_senseDepDelay_metrica_desviacio_estandar = logistica_normalitzada_senseDepDelay_entrenament.cv_results_['std_test_score']"
   ]
  },
  {
   "cell_type": "code",
   "execution_count": 79,
   "metadata": {
    "ExecuteTime": {
     "end_time": "2021-07-03T11:02:35.298158Z",
     "start_time": "2021-07-03T11:02:35.286160Z"
    }
   },
   "outputs": [
    {
     "name": "stdout",
     "output_type": "stream",
     "text": [
      "Llista de puntuacions obtinguda en les diferents combinacions de hiper_paràmetres:\n",
      "\n",
      "Puntuació   Desv. Estd.     Paràmetres\n",
      "====================================================================================================\n",
      "0.8938   |  [+/-0.0006]  |  {'C': 0.5, 'penalty': 'l2', 'solver': 'newton-cg'}\n",
      "____________________________________________________________________________________________________\n",
      "0.8938   |  [+/-0.0006]  |  {'C': 0.5, 'penalty': 'l2', 'solver': 'lbfgs'}\n",
      "____________________________________________________________________________________________________\n",
      "0.8938   |  [+/-0.0006]  |  {'C': 0.5, 'penalty': 'l2', 'solver': 'sag'}\n",
      "____________________________________________________________________________________________________\n",
      "0.8938   |  [+/-0.0006]  |  {'C': 0.5, 'penalty': 'l2', 'solver': 'saga'}\n",
      "____________________________________________________________________________________________________\n",
      "0.8936   |  [+/-0.0029]  |  {'C': 0.5, 'penalty': 'none', 'solver': 'newton-cg'}\n",
      "____________________________________________________________________________________________________\n",
      "0.8936   |  [+/-0.0029]  |  {'C': 0.5, 'penalty': 'none', 'solver': 'lbfgs'}\n",
      "____________________________________________________________________________________________________\n",
      "0.8936   |  [+/-0.0029]  |  {'C': 0.5, 'penalty': 'none', 'solver': 'sag'}\n",
      "____________________________________________________________________________________________________\n",
      "0.8936   |  [+/-0.0029]  |  {'C': 0.5, 'penalty': 'none', 'solver': 'saga'}\n",
      "____________________________________________________________________________________________________\n",
      "0.8936   |  [+/-0.0007]  |  {'C': 1.0, 'penalty': 'l2', 'solver': 'newton-cg'}\n",
      "____________________________________________________________________________________________________\n",
      "0.8936   |  [+/-0.0007]  |  {'C': 1.0, 'penalty': 'l2', 'solver': 'lbfgs'}\n",
      "____________________________________________________________________________________________________\n",
      "0.8936   |  [+/-0.0007]  |  {'C': 1.0, 'penalty': 'l2', 'solver': 'sag'}\n",
      "____________________________________________________________________________________________________\n",
      "0.8936   |  [+/-0.0007]  |  {'C': 1.0, 'penalty': 'l2', 'solver': 'saga'}\n",
      "____________________________________________________________________________________________________\n",
      "0.8927   |  [+/-0.0029]  |  {'C': 1.0, 'penalty': 'none', 'solver': 'newton-cg'}\n",
      "____________________________________________________________________________________________________\n",
      "0.8927   |  [+/-0.0029]  |  {'C': 1.0, 'penalty': 'none', 'solver': 'lbfgs'}\n",
      "____________________________________________________________________________________________________\n",
      "0.8927   |  [+/-0.0029]  |  {'C': 1.0, 'penalty': 'none', 'solver': 'sag'}\n",
      "____________________________________________________________________________________________________\n",
      "0.8927   |  [+/-0.0029]  |  {'C': 1.0, 'penalty': 'none', 'solver': 'saga'}\n",
      "____________________________________________________________________________________________________\n",
      "0.8927   |  [+/-0.0007]  |  {'C': 1.5, 'penalty': 'l2', 'solver': 'newton-cg'}\n",
      "____________________________________________________________________________________________________\n",
      "0.8927   |  [+/-0.0007]  |  {'C': 1.5, 'penalty': 'l2', 'solver': 'lbfgs'}\n",
      "____________________________________________________________________________________________________\n",
      "0.8927   |  [+/-0.0007]  |  {'C': 1.5, 'penalty': 'l2', 'solver': 'sag'}\n",
      "____________________________________________________________________________________________________\n",
      "0.8927   |  [+/-0.0007]  |  {'C': 1.5, 'penalty': 'l2', 'solver': 'saga'}\n",
      "____________________________________________________________________________________________________\n",
      "0.8927   |  [+/-0.0029]  |  {'C': 1.5, 'penalty': 'none', 'solver': 'newton-cg'}\n",
      "____________________________________________________________________________________________________\n",
      "0.8927   |  [+/-0.0029]  |  {'C': 1.5, 'penalty': 'none', 'solver': 'lbfgs'}\n",
      "____________________________________________________________________________________________________\n",
      "0.8927   |  [+/-0.0029]  |  {'C': 1.5, 'penalty': 'none', 'solver': 'sag'}\n",
      "____________________________________________________________________________________________________\n",
      "0.8927   |  [+/-0.0029]  |  {'C': 1.5, 'penalty': 'none', 'solver': 'saga'}\n",
      "____________________________________________________________________________________________________\n"
     ]
    }
   ],
   "source": [
    "print(\"Llista de puntuacions obtinguda en les diferents combinacions de hiper_paràmetres:\\n\")\n",
    "print(\"Puntuació   Desv. Estd.     Paràmetres\")\n",
    "print(\"====================================================================================================\")\n",
    "\n",
    "for mitjana, desviacio_estandard, parametres in zip(np.sort(logistica_normalitzada_senseDepDelay_metrica_mitjana)[::-1], logistica_normalitzada_senseDepDelay_metrica_desviacio_estandar, logistica_normalitzada_senseDepDelay_entrenament.cv_results_['params']):\n",
    "    print(\"{}   |  [+/-{}]  |  {}\".format(round(mitjana,4), round(desviacio_estandard,4), parametres))\n",
    "    print(\"____________________________________________________________________________________________________\")"
   ]
  },
  {
   "cell_type": "code",
   "execution_count": 80,
   "metadata": {
    "ExecuteTime": {
     "end_time": "2021-07-03T11:02:53.975495Z",
     "start_time": "2021-07-03T11:02:35.302155Z"
    }
   },
   "outputs": [
    {
     "name": "stdout",
     "output_type": "stream",
     "text": [
      "[13:02:53] WARNING: C:/Users/Administrator/workspace/xgboost-win64_release_1.4.0/src/learner.cc:1095: Starting in XGBoost 1.3.0, the default evaluation metric used with the objective 'binary:logistic' was changed from 'error' to 'logloss'. Explicitly set eval_metric if you'd like to restore the old behavior.\n",
      "Els paràmetres que afinen millor la métrica són: \n",
      "{'booster': 'gblinear'}\n",
      "\n"
     ]
    }
   ],
   "source": [
    "# Model xgboost_normalitzada_senseDepDelay\n",
    "\n",
    "# Definició dels paràmetres a afinar\n",
    "xgboost_normalitzada_senseDepDelay_parametres_a_afinar = {'booster': ['gbtree', 'gblinear', 'dart'],}\n",
    "\n",
    "# Métrica escollida d'entre: precision, recall, f1, f1_weighted, f1_micro, f1_macro, accuracy, roc_auc\n",
    "xgboost_normalitzada_senseDepDelay_metrica = 'accuracy'\n",
    "\n",
    "# Entrenament dels hiper_paràmetres de la métrica escollida\n",
    "xgboost_normalitzada_senseDepDelay_entrenament = GridSearchCV(estimator = xgb.XGBClassifier(objective ='binary:logistic', use_label_encoder = False, random_state = 5678), param_grid = xgboost_normalitzada_senseDepDelay_parametres_a_afinar, cv=10, scoring='%s' % xgboost_normalitzada_senseDepDelay_metrica, n_jobs= -1)\n",
    "# Ajust\n",
    "xgboost_normalitzada_senseDepDelay_entrenament.fit(mostra_entrenament_normalitzada_senseDepDelay_x, mostra_entrenament_normalitzada_senseDepDelay_y)\n",
    "    \n",
    "print(\"Els paràmetres que afinen millor la métrica són: \\n{}\\n\".format(xgboost_normalitzada_senseDepDelay_entrenament.best_params_))\n",
    "\n",
    "xgboost_normalitzada_senseDepDelay_metrica_mitjana = xgboost_normalitzada_senseDepDelay_entrenament.cv_results_['mean_test_score']\n",
    "xgboost_normalitzada_senseDepDelay_metrica_desviacio_estandar = xgboost_normalitzada_senseDepDelay_entrenament.cv_results_['std_test_score']"
   ]
  },
  {
   "cell_type": "code",
   "execution_count": 81,
   "metadata": {
    "ExecuteTime": {
     "end_time": "2021-07-03T11:02:53.987493Z",
     "start_time": "2021-07-03T11:02:53.975495Z"
    }
   },
   "outputs": [
    {
     "name": "stdout",
     "output_type": "stream",
     "text": [
      "Llista de puntuacions obtinguda en les diferents combinacions de hiper_paràmetres:\n",
      "\n",
      "Puntuació   Desv. Estd.     Paràmetres\n",
      "====================================================================================================\n",
      "0.8932   |  [+/-0.004]  |  {'booster': 'gbtree'}\n",
      "____________________________________________________________________________________________________\n",
      "0.8869   |  [+/-0.0008]  |  {'booster': 'gblinear'}\n",
      "____________________________________________________________________________________________________\n",
      "0.8869   |  [+/-0.004]  |  {'booster': 'dart'}\n",
      "____________________________________________________________________________________________________\n"
     ]
    }
   ],
   "source": [
    "print(\"Llista de puntuacions obtinguda en les diferents combinacions de hiper_paràmetres:\\n\")\n",
    "print(\"Puntuació   Desv. Estd.     Paràmetres\")\n",
    "print(\"====================================================================================================\")\n",
    "\n",
    "for mitjana, desviacio_estandard, parametres in zip(np.sort(xgboost_normalitzada_senseDepDelay_metrica_mitjana)[::-1], xgboost_normalitzada_senseDepDelay_metrica_desviacio_estandar, xgboost_normalitzada_senseDepDelay_entrenament.cv_results_['params']):\n",
    "    print(\"{}   |  [+/-{}]  |  {}\".format(round(mitjana,4), round(desviacio_estandard,4), parametres))\n",
    "    print(\"____________________________________________________________________________________________________\")"
   ]
  },
  {
   "cell_type": "markdown",
   "metadata": {},
   "source": [
    "Compara el seu rendiment utilitzant l’aproximació traint/test o cross-validation"
   ]
  },
  {
   "cell_type": "code",
   "execution_count": 82,
   "metadata": {
    "ExecuteTime": {
     "end_time": "2021-07-03T11:02:54.013533Z",
     "start_time": "2021-07-03T11:02:53.987493Z"
    }
   },
   "outputs": [
    {
     "name": "stdout",
     "output_type": "stream",
     "text": [
      "Exactitud:            0.9037\n",
      "Àrea sota la corba  : 0.5\n"
     ]
    }
   ],
   "source": [
    "# Model xarxa neuronal\n",
    "\n",
    "xarxa_neuronal_normalitzada_senseDepDelay_prediccio_rendiment = xarxa_neuronal_normalitzada_senseDepDelay.predict(mostra_validacio_normalitzada_senseDepDelay_x)\n",
    "xarxa_neuronal_normalitzada_senseDepDelay_metrica_exactitud_prediccio_rendiment = round(metrics.accuracy_score(mostra_validacio_normalitzada_senseDepDelay_y, xarxa_neuronal_normalitzada_senseDepDelay_prediccio_rendiment),4)\n",
    "xarxa_neuronal_normalitzada_senseDepDelay_metrica_asc_prediccio_rendiment = round(metrics.roc_auc_score(mostra_validacio_normalitzada_senseDepDelay_y, xarxa_neuronal_normalitzada_senseDepDelay_prediccio_rendiment),4)\n",
    "\n",
    "#print(classification_report(mostra_validacio_normalitzada_senseDepDelay_y, xarxa_neuronal_normalitzada_senseDepDelay_prediccio_rendiment))\n",
    "print(\"Exactitud:           \", xarxa_neuronal_normalitzada_senseDepDelay_metrica_exactitud_prediccio_rendiment)\n",
    "print(\"Àrea sota la corba  :\", xarxa_neuronal_normalitzada_senseDepDelay_metrica_asc_prediccio_rendiment)"
   ]
  },
  {
   "cell_type": "code",
   "execution_count": 83,
   "metadata": {
    "ExecuteTime": {
     "end_time": "2021-07-03T11:02:54.029530Z",
     "start_time": "2021-07-03T11:02:54.013533Z"
    }
   },
   "outputs": [
    {
     "name": "stdout",
     "output_type": "stream",
     "text": [
      "Exactitud:            0.903\n",
      "Àrea sota la corba  : 0.4996\n"
     ]
    }
   ],
   "source": [
    "# Model logístic\n",
    "\n",
    "logistica_normalitzada_senseDepDelay_prediccio_rendiment = logistica_normalitzada_senseDepDelay.predict(mostra_validacio_normalitzada_senseDepDelay_x)\n",
    "logistica_normalitzada_senseDepDelay_metrica_exactitud_prediccio_rendiment = round(metrics.accuracy_score(mostra_validacio_normalitzada_senseDepDelay_y, logistica_normalitzada_senseDepDelay_prediccio_rendiment),4)\n",
    "logistica_normalitzada_senseDepDelay_metrica_asc_prediccio_rendiment = round(metrics.roc_auc_score(mostra_validacio_normalitzada_senseDepDelay_y, logistica_normalitzada_senseDepDelay_prediccio_rendiment),4)\n",
    "\n",
    "#print(classification_report(mostra_validacio_normalitzada_senseDepDelay_y, logistica_normalitzada_senseDepDelay_prediccio_rendiment))\n",
    "print(\"Exactitud:           \", logistica_normalitzada_senseDepDelay_metrica_exactitud_prediccio_rendiment)\n",
    "print(\"Àrea sota la corba  :\", logistica_normalitzada_senseDepDelay_metrica_asc_prediccio_rendiment)"
   ]
  },
  {
   "cell_type": "code",
   "execution_count": 84,
   "metadata": {
    "ExecuteTime": {
     "end_time": "2021-07-03T11:02:54.053523Z",
     "start_time": "2021-07-03T11:02:54.029530Z"
    }
   },
   "outputs": [
    {
     "name": "stdout",
     "output_type": "stream",
     "text": [
      "Exactitud:            0.8973\n",
      "Àrea sota la corba:   0.5135\n"
     ]
    }
   ],
   "source": [
    "# Model xgboost_normalitzada_senseDepDelay\n",
    "\n",
    "xgboost_normalitzada_senseDepDelay_prediccio_rendiment = xgboost_normalitzada_senseDepDelay.predict(mostra_validacio_normalitzada_senseDepDelay_x)\n",
    "xgboost_normalitzada_senseDepDelay_metrica_exactitud_prediccio_rendiment = round(metrics.accuracy_score(mostra_validacio_normalitzada_senseDepDelay_y, xgboost_normalitzada_senseDepDelay_prediccio_rendiment),4)\n",
    "xgboost_normalitzada_senseDepDelay_metrica_asc_prediccio_rendiment = round(metrics.roc_auc_score(mostra_validacio_normalitzada_senseDepDelay_y, xgboost_normalitzada_senseDepDelay_prediccio_rendiment),4)\n",
    "\n",
    "#print(classification_report(mostra_validacio_normalitzada_senseDepDelay_y, xgboost_normalitzada_senseDepDelay_prediccio_rendiment))\n",
    "print(\"Exactitud:           \", xgboost_normalitzada_senseDepDelay_metrica_exactitud_prediccio_rendiment)\n",
    "print(\"Àrea sota la corba:  \", xgboost_normalitzada_senseDepDelay_metrica_asc_prediccio_rendiment)"
   ]
  },
  {
   "cell_type": "code",
   "execution_count": null,
   "metadata": {},
   "outputs": [],
   "source": []
  }
 ],
 "metadata": {
  "kernelspec": {
   "display_name": "Python 3",
   "language": "python",
   "name": "python3"
  },
  "language_info": {
   "codemirror_mode": {
    "name": "ipython",
    "version": 3
   },
   "file_extension": ".py",
   "mimetype": "text/x-python",
   "name": "python",
   "nbconvert_exporter": "python",
   "pygments_lexer": "ipython3",
   "version": "3.8.5"
  },
  "latex_envs": {
   "LaTeX_envs_menu_present": true,
   "autoclose": false,
   "autocomplete": true,
   "bibliofile": "biblio.bib",
   "cite_by": "apalike",
   "current_citInitial": 1,
   "eqLabelWithNumbers": true,
   "eqNumInitial": 1,
   "hotkeys": {
    "equation": "Ctrl-E",
    "itemize": "Ctrl-I"
   },
   "labels_anchors": false,
   "latex_user_defs": false,
   "report_style_numbering": false,
   "user_envs_cfg": false
  }
 },
 "nbformat": 4,
 "nbformat_minor": 4
}
