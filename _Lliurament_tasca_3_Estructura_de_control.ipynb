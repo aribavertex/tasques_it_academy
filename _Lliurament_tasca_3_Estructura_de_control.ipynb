{
 "cells": [
  {
   "cell_type": "markdown",
   "metadata": {},
   "source": [
    "# Exercici 1"
   ]
  },
  {
   "cell_type": "code",
   "execution_count": 1,
   "metadata": {
    "ExecuteTime": {
     "end_time": "2021-04-13T18:44:45.325345Z",
     "start_time": "2021-04-13T18:44:40.473644Z"
    }
   },
   "outputs": [
    {
     "name": "stdout",
     "output_type": "stream",
     "text": [
      "Qualificació per alumne?\n",
      "6\n",
      "L´alumne té un aprovat.\n"
     ]
    }
   ],
   "source": [
    "nota = float(input('Qualificació per alumne?\\n'))\n",
    "\n",
    "if 0<=nota< 5:\n",
    "    print('L´alumne está suspés.')\n",
    "elif 5<=nota<7.5:\n",
    "    print('L´alumne té un aprovat.')\n",
    "elif 7.5<nota<=9:\n",
    "    print('L´alumne té un notable.')\n",
    "elif 9<nota<=10:\n",
    "    print('L´alumne té un excel·lent.')\n",
    "else:\n",
    "    print('La qualificació introduida no és correcta.')"
   ]
  },
  {
   "cell_type": "markdown",
   "metadata": {},
   "source": [
    "# Exercici 2"
   ]
  },
  {
   "cell_type": "code",
   "execution_count": 2,
   "metadata": {
    "ExecuteTime": {
     "end_time": "2021-04-13T18:45:16.235656Z",
     "start_time": "2021-04-13T18:45:10.447847Z"
    }
   },
   "outputs": [
    {
     "name": "stdout",
     "output_type": "stream",
     "text": [
      "Comparativa entre 2 números:\n",
      "Introdueix un primer valor: 34\n",
      "Introdueix un segon valor: 67\n",
      "El segon valor introduit és superior primer\n"
     ]
    }
   ],
   "source": [
    "print ('Comparativa entre 2 números:')\n",
    "numero_01 = input('Introdueix un primer valor: ')\n",
    "numero_02 = input('Introdueix un segon valor: ')\n",
    "\n",
    "if numero_01<numero_02:\n",
    "    print('El segon valor introduit és superior primer')\n",
    "elif numero_01>numero_02:\n",
    "    print('El primer valor introduit és superior al segon')\n",
    "else:\n",
    "    print('Els dos valors són identics!!')"
   ]
  },
  {
   "cell_type": "markdown",
   "metadata": {},
   "source": [
    "# Exercici 3"
   ]
  },
  {
   "cell_type": "code",
   "execution_count": 3,
   "metadata": {
    "ExecuteTime": {
     "end_time": "2021-04-13T18:45:48.923961Z",
     "start_time": "2021-04-13T18:45:39.223198Z"
    }
   },
   "outputs": [
    {
     "name": "stdout",
     "output_type": "stream",
     "text": [
      "Introdueix el teu nom: Antoni\n",
      "Introdueix el número de vegades que vols que es repeteixi: 4\n",
      "AntoniAntoniAntoniAntoni\n"
     ]
    }
   ],
   "source": [
    "nom = input('Introdueix el teu nom: ')\n",
    "vegades = int(input('Introdueix el número de vegades que vols que es repeteixi: '))\n",
    "\n",
    "if vegades<=0:\n",
    "    print('Introdueix un valor enter superior a 0')\n",
    "else:\n",
    "    print(nom*vegades)"
   ]
  },
  {
   "cell_type": "markdown",
   "metadata": {},
   "source": [
    "# Exercici 4"
   ]
  },
  {
   "cell_type": "code",
   "execution_count": 4,
   "metadata": {
    "ExecuteTime": {
     "end_time": "2021-04-13T18:46:20.548428Z",
     "start_time": "2021-04-13T18:46:20.532804Z"
    }
   },
   "outputs": [
    {
     "name": "stdout",
     "output_type": "stream",
     "text": [
      "La llista és simétrica i té 9 elements\n"
     ]
    }
   ],
   "source": [
    "llista = [0,1,2,3,4,3,2,1,0]\n",
    "if llista==llista[::-1]:\n",
    "    print('La llista és simétrica i té {} elements'.format(len(llista)))\n",
    "else:\n",
    "    print('La llista no és simétrica')"
   ]
  },
  {
   "cell_type": "markdown",
   "metadata": {},
   "source": [
    "# Exercici 5"
   ]
  },
  {
   "cell_type": "code",
   "execution_count": 5,
   "metadata": {
    "ExecuteTime": {
     "end_time": "2021-04-13T18:46:47.044307Z",
     "start_time": "2021-04-13T18:46:47.028753Z"
    }
   },
   "outputs": [
    {
     "name": "stdout",
     "output_type": "stream",
     "text": [
      "Coincideiexen 2 elements. Son aquests: \n",
      "['', '', 2, '', '', '', '', 6, '']\n"
     ]
    }
   ],
   "source": [
    "llista = [3,4,2,0,2,3,6]\n",
    "contador=0\n",
    "coincidencies=0\n",
    "llista_nova=[]\n",
    "for i in llista:\n",
    "    if (contador)==(llista[contador]):\n",
    "        llista_nova=llista_nova+[llista[contador]]\n",
    "        coincidencies=coincidencies+1\n",
    "    contador=contador+1\n",
    "    llista_nova=llista_nova+[_]\n",
    "print('Coincideiexen {} elements. Son aquests: \\n{}'.format(coincidencies,llista_nova))"
   ]
  },
  {
   "cell_type": "code",
   "execution_count": null,
   "metadata": {},
   "outputs": [],
   "source": []
  }
 ],
 "metadata": {
  "kernelspec": {
   "display_name": "Python 3",
   "language": "python",
   "name": "python3"
  },
  "language_info": {
   "codemirror_mode": {
    "name": "ipython",
    "version": 3
   },
   "file_extension": ".py",
   "mimetype": "text/x-python",
   "name": "python",
   "nbconvert_exporter": "python",
   "pygments_lexer": "ipython3",
   "version": "3.8.5"
  },
  "latex_envs": {
   "LaTeX_envs_menu_present": true,
   "autoclose": false,
   "autocomplete": true,
   "bibliofile": "biblio.bib",
   "cite_by": "apalike",
   "current_citInitial": 1,
   "eqLabelWithNumbers": true,
   "eqNumInitial": 1,
   "hotkeys": {
    "equation": "Ctrl-E",
    "itemize": "Ctrl-I"
   },
   "labels_anchors": false,
   "latex_user_defs": false,
   "report_style_numbering": false,
   "user_envs_cfg": false
  }
 },
 "nbformat": 4,
 "nbformat_minor": 4
}
