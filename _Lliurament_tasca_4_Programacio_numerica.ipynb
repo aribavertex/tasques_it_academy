{
 "cells": [
  {
   "cell_type": "markdown",
   "metadata": {},
   "source": [
    "# Exercici 1"
   ]
  },
  {
   "cell_type": "code",
   "execution_count": 1,
   "metadata": {
    "ExecuteTime": {
     "end_time": "2021-07-15T19:07:27.361782Z",
     "start_time": "2021-07-15T19:07:27.081024Z"
    }
   },
   "outputs": [
    {
     "name": "stdout",
     "output_type": "stream",
     "text": [
      "Mitjana ----> 39.66\n",
      "Mediana ----> 34.3\n",
      "Desviació --> 25.29\n",
      "Variança ---> 639.83\n",
      "\n"
     ]
    }
   ],
   "source": [
    "import numpy as np\n",
    "\n",
    "def estadistics_matriu(array):\n",
    "    if matriu.ndim>1:\n",
    "        return 'La matriu té dimensió superior a 1'\n",
    "    else:\n",
    "        print('Mitjana ----> {}\\nMediana ----> {}\\nDesviació --> {}\\nVariança ---> {}\\n'.format(round(np.mean(array),2),round(np.median(array),2),round(np.std(array),2),round(np.var(array),2)))\n",
    "\n",
    "matriu = np.array([12.3, 21.9, 85.3, 44.5, 34.3])\n",
    "matriu2 = np.array([[12.3, 21.9, 85.3, 44.5, 34.3],[12.3, 21.9, 85.3, 44.5, 34.3]])\n",
    "estadistics_matriu(matriu)"
   ]
  },
  {
   "cell_type": "markdown",
   "metadata": {},
   "source": [
    "# Exercici 2"
   ]
  },
  {
   "cell_type": "code",
   "execution_count": 2,
   "metadata": {
    "ExecuteTime": {
     "end_time": "2021-07-15T19:07:27.397770Z",
     "start_time": "2021-07-15T19:07:27.365778Z"
    }
   },
   "outputs": [
    {
     "data": {
      "text/plain": [
       "array([[ 11,  86,  62,  15],\n",
       "       [100,  82,   7,  59],\n",
       "       [  9,  54,  97,  96],\n",
       "       [ 54,  35,  82,  83]], dtype=uint8)"
      ]
     },
     "execution_count": 2,
     "metadata": {},
     "output_type": "execute_result"
    }
   ],
   "source": [
    "import random as rnd\n",
    "\n",
    "def quadrat_nxn_aleatori(n,aleatori_min,aleatori_max):\n",
    "    matriu_nxn = np.zeros([n,n],dtype='uint8')\n",
    "    matriu_nxn = np.zeros(shape=(n,n),dtype='uint8')\n",
    "    for i in range(n):\n",
    "        for j in range(n):\n",
    "            matriu_nxn[i][j] = rnd.randint(0,100)\n",
    "    return matriu_nxn\n",
    "\n",
    "quadrat_nxn_aleatori(4,0,100)"
   ]
  },
  {
   "cell_type": "markdown",
   "metadata": {},
   "source": [
    "# Exercici 3"
   ]
  },
  {
   "cell_type": "code",
   "execution_count": 3,
   "metadata": {
    "ExecuteTime": {
     "end_time": "2021-07-15T19:07:27.421765Z",
     "start_time": "2021-07-15T19:07:27.401769Z"
    }
   },
   "outputs": [
    {
     "name": "stdout",
     "output_type": "stream",
     "text": [
      "Total fila 0: 15\n",
      "Total fila 1: 60\n",
      "Total columna 0: 11\n",
      "Total columna 1: 13\n",
      "Total columna 2: 15\n",
      "Total columna 3: 17\n",
      "Total columna 4: 19\n"
     ]
    }
   ],
   "source": [
    "def matriu_totals_fila_columna(array):\n",
    "\n",
    "    for i in range(array.ndim):\n",
    "        suma_fila=0\n",
    "        for j in range(len(array[0])):\n",
    "            suma_fila = suma_fila + array[i,j]\n",
    "        print('Total fila {}: {}'.format(i,suma_fila))\n",
    "\n",
    "    for i in range(len(array[0])):\n",
    "        suma_columna=0\n",
    "        for j in range(array.ndim):\n",
    "            suma_columna = suma_columna + array[j,i]\n",
    "        print('Total columna {}: {}'.format(i,suma_columna))\n",
    "   \n",
    "matriu_2dim = np.array([[1,2,3,4,5],[10,11,12,13,14]])\n",
    "\n",
    "matriu_totals_fila_columna(matriu_2dim)"
   ]
  },
  {
   "cell_type": "markdown",
   "metadata": {},
   "source": [
    "# Exercici 4"
   ]
  },
  {
   "cell_type": "code",
   "execution_count": 4,
   "metadata": {
    "ExecuteTime": {
     "end_time": "2021-07-15T19:07:27.457755Z",
     "start_time": "2021-07-15T19:07:27.421765Z"
    }
   },
   "outputs": [
    {
     "name": "stdout",
     "output_type": "stream",
     "text": [
      "La matriu de correlacions:\n",
      "\n",
      "[[1.         0.42860054]\n",
      " [0.42860054 1.        ]]\n",
      "\n",
      "Correlació variable_0 amb ella mateixa : 1.0\n",
      "Correlació variable_0 i la variable_1  : 0.4286\n",
      "Correlació variable_1 i la variable_0  : 0.4286\n",
      "Correlació variable_1 amb ella mateixa : 1.0\n"
     ]
    }
   ],
   "source": [
    "# Vector X amb 250 numeros a l'atzar entre els valor 36 i 424\n",
    "variable_1 = np.random.randint(36,424,250)\n",
    "\n",
    "# Vector Y amb 250 numeros a l'atzar entre els valor 12 i 248 correlacionats positivament amb X\n",
    "variable_2 = variable_1 + np.random.normal(12,248,250)\n",
    "\n",
    "# Cálcul de la correlació lineal. Permet quantificar la relació lineal existent entre dues variables/vectors.\n",
    "# Aquest cálucl sól precedir a la creació de models de regressió. Primer, s'analitza si les variables estan\n",
    "# correlacionades i, en cas d'estar-ho, es procedeix a generar models. Cal dir que, l'existència de correlació\n",
    "# entre dues variables, no implica necessàriament causalitat. L'associació observada pot ser degut a un tercer factor.\n",
    "\n",
    "# El seu valor està comprès entre els valor -1 a 1. Per tal de mesusrar el grau de correlació/associació entre dos variables:\n",
    "# 0:\t\t\tcorrelació nul·la\n",
    "# 0 a 0.1:\t\tcorrelació petita\n",
    "# 0.1 a 0.3:\tcorrelació mitjana\n",
    "# 0.3 a 0.5:\tcorrelació moderada\n",
    "# 0.5 a 0.7:\tcorrelació alta\n",
    "# 0.7 a 0.9:\tcorrelació molt alta\n",
    "# 1: \t\t\tcorrelació perfecta\n",
    "\n",
    "matriu_coeficients_correlacio = np.corrcoef(variable_1, variable_2)\n",
    "print('La matriu de correlacions:\\n\\n{}\\n'.format(matriu_coeficients_correlacio))\n",
    "for i in range(matriu_coeficients_correlacio.shape[0]):\n",
    "    for j in range(matriu_coeficients_correlacio.shape[1]):\n",
    "        if i==j:\n",
    "            print('Correlació variable_{} amb ella mateixa : {}'.format(i,round(matriu_coeficients_correlacio[i,j],4)))\n",
    "        else:\n",
    "            print('Correlació variable_{} i la variable_{}  : {}'.format(i,j,round(matriu_coeficients_correlacio[i,j],4)))"
   ]
  },
  {
   "cell_type": "code",
   "execution_count": 5,
   "metadata": {
    "ExecuteTime": {
     "end_time": "2021-07-15T19:07:27.481751Z",
     "start_time": "2021-07-15T19:07:27.457755Z"
    }
   },
   "outputs": [
    {
     "name": "stdout",
     "output_type": "stream",
     "text": [
      "Coeficient de correlació: 0.4286\n",
      "\n",
      "El càcul fet amb la funció \"coeficient_correlacio_manual\" coincideix amb la funció \"np.corrcoef\"\n"
     ]
    },
    {
     "name": "stderr",
     "output_type": "stream",
     "text": [
      "<ipython-input-5-6033ee8df426>:13: RuntimeWarning: overflow encountered in int_scalars\n",
      "  coeficient_correlacio = (tamany_mostra*var_1_x_var_2_suma-var_1_suma*var_2_suma)/(np.sqrt(tamany_mostra*var_1_quadrat_suma - var_1_suma**2)*np.sqrt(tamany_mostra*var_2_quadrat_suma - var_2_suma**2))\n"
     ]
    }
   ],
   "source": [
    "# Generar funció que calcula manualment el coeficient de correlació\n",
    "def coeficient_correlacio_manual(var_1,var_2):\n",
    "    if len(var_1) == len(var_2):\n",
    "        tamany_mostra = len(var_1)\n",
    "        var_1_suma = var_1.sum()\n",
    "        var_2_suma = var_2.sum()\n",
    "        var_1_quadrat = var_1**2\n",
    "        var_2_quadrat = var_2**2\n",
    "        var_1_quadrat_suma = var_1_quadrat.sum()\n",
    "        var_2_quadrat_suma = var_2_quadrat.sum()\n",
    "        var_1_x_var_2 =var_1*var_2\n",
    "        var_1_x_var_2_suma = var_1_x_var_2.sum()\n",
    "        coeficient_correlacio = (tamany_mostra*var_1_x_var_2_suma-var_1_suma*var_2_suma)/(np.sqrt(tamany_mostra*var_1_quadrat_suma - var_1_suma**2)*np.sqrt(tamany_mostra*var_2_quadrat_suma - var_2_suma**2))\n",
    "        return coeficient_correlacio\n",
    "    else:\n",
    "        print(\"Les dimensions de les 2 variables no coincideixen\")\n",
    "\n",
    "# Ho calcularem amb les variable_1 i variable_2 creades anteriorment\n",
    "print(\"Coeficient de correlació: {}\\n\".format(round(coeficient_correlacio_manual(variable_1,variable_2),4)))\n",
    "\n",
    "# Comprovem que la funciócalcula deforma correcta mitjançant comparació amb funció numpy: 'corrcoef'\n",
    "if round(coeficient_correlacio_manual(variable_1,variable_2),4) == np.round(np.corrcoef(variable_1, variable_2),4)[0,1]:\n",
    "    print('El càcul fet amb la funció \"coeficient_correlacio_manual\" coincideix amb la funció \"np.corrcoef\"')\n",
    "else:\n",
    "    print('El càcul fet amb la funció \"coeficient_correlacio_manual\" no coincideix amb la funció \"np.corrcoef\"')"
   ]
  },
  {
   "cell_type": "code",
   "execution_count": null,
   "metadata": {},
   "outputs": [],
   "source": []
  }
 ],
 "metadata": {
  "kernelspec": {
   "display_name": "Python 3",
   "language": "python",
   "name": "python3"
  },
  "language_info": {
   "codemirror_mode": {
    "name": "ipython",
    "version": 3
   },
   "file_extension": ".py",
   "mimetype": "text/x-python",
   "name": "python",
   "nbconvert_exporter": "python",
   "pygments_lexer": "ipython3",
   "version": "3.8.5"
  },
  "latex_envs": {
   "LaTeX_envs_menu_present": true,
   "autoclose": false,
   "autocomplete": true,
   "bibliofile": "biblio.bib",
   "cite_by": "apalike",
   "current_citInitial": 1,
   "eqLabelWithNumbers": true,
   "eqNumInitial": 1,
   "hotkeys": {
    "equation": "Ctrl-E",
    "itemize": "Ctrl-I"
   },
   "labels_anchors": false,
   "latex_user_defs": false,
   "report_style_numbering": false,
   "user_envs_cfg": false
  }
 },
 "nbformat": 4,
 "nbformat_minor": 4
}
